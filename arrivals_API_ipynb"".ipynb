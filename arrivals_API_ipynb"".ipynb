{
 "cells": [
  {
   "cell_type": "code",
   "execution_count": 10,
   "metadata": {
    "id": "lIYdn1woOS1n"
   },
   "outputs": [],
   "source": [
    "\n",
    "import pandas as pd\n",
    "import requests\n",
    "from datetime import datetime\n",
    "import pytz\n",
    "import os\n",
    "from dotenv import load_dotenv"
   ]
  },
  {
   "cell_type": "code",
   "execution_count": 11,
   "metadata": {},
   "outputs": [
    {
     "name": "stderr",
     "output_type": "stream",
     "text": [
      "Python-dotenv could not parse statement starting at line 8\n",
      "Python-dotenv could not parse statement starting at line 11\n",
      "Python-dotenv could not parse statement starting at line 12\n"
     ]
    },
    {
     "data": {
      "text/plain": [
       "True"
      ]
     },
     "execution_count": 11,
     "metadata": {},
     "output_type": "execute_result"
    }
   ],
   "source": [
    "from pathlib import Path  # python3 only\n",
    "env_path = Path('.') / 'env'\n",
    "load_dotenv(dotenv_path=env_path)"
   ]
  },
  {
   "cell_type": "code",
   "execution_count": 12,
   "metadata": {},
   "outputs": [],
   "source": [
    "import os\n",
    "SECRET_KEY_FLY = os.getenv(\"FLY_KEY\")"
   ]
  },
  {
   "cell_type": "code",
   "execution_count": 13,
   "metadata": {},
   "outputs": [
    {
     "name": "stdout",
     "output_type": "stream",
     "text": [
      "{'message': 'You are not subscribed to this API.'}\n"
     ]
    }
   ],
   "source": [
    "\n",
    "url = \"https://aerodatabox.p.rapidapi.com/airports/search/location\"\n",
    "\n",
    "querystring = {\"lat\":\"52.31\",\"lon\":\"13.24\",\"radiusKm\":\"100\",\"limit\":\"10\"}\n",
    "\n",
    "headers = {\n",
    "\t\"X-RapidAPI-Key\": \"SECRET_KEY_FLY\",\n",
    "\t\"X-RapidAPI-Host\": \"aerodatabox.p.rapidapi.com\"\n",
    "}\n",
    "\n",
    "response = requests.get(url, headers=headers, params=querystring)\n",
    "\n",
    "print(response.json())"
   ]
  },
  {
   "cell_type": "code",
   "execution_count": 19,
   "metadata": {
    "colab": {
     "base_uri": "https://localhost:8080/",
     "height": 54
    },
    "id": "9WEWjfvZwwWq",
    "outputId": "9d263c15-303b-4c87-ac41-afa9690cc8b1"
   },
   "outputs": [
    {
     "data": {
      "application/json": {
       "arrivals": [
        {
         "aircraft": {
          "modeS": "4CA73A",
          "model": "Boeing 737-800",
          "reg": "EI-EBR"
         },
         "airline": {
          "iata": "FR",
          "icao": "RYR",
          "name": "Ryanair"
         },
         "arrival": {
          "quality": [
           "Basic"
          ],
          "scheduledTime": {
           "local": "2023-04-04 20:05+02:00",
           "utc": "2023-04-04 18:05Z"
          },
          "scheduledTimeLocal": "2023-04-04 20:05+02:00",
          "scheduledTimeUtc": "2023-04-04 18:05Z",
          "terminal": "0"
         },
         "callSign": "RYR8F",
         "codeshareStatus": "Unknown",
         "departure": {
          "actualTimeLocal": "2023-04-04 16:00+01:00",
          "actualTimeUtc": "2023-04-04 15:00Z",
          "airport": {
           "iata": "FAO",
           "icao": "LPFR",
           "name": "Faro"
          },
          "quality": [
           "Basic",
           "Live"
          ],
          "revisedTime": {
           "local": "2023-04-04 16:00+01:00",
           "utc": "2023-04-04 15:00Z"
          },
          "runwayTime": {
           "local": "2023-04-04 15:41+01:00",
           "utc": "2023-04-04 14:41Z"
          },
          "runwayTimeLocal": "2023-04-04 15:41+01:00",
          "runwayTimeUtc": "2023-04-04 14:41Z",
          "scheduledTime": {
           "local": "2023-04-04 15:30+01:00",
           "utc": "2023-04-04 14:30Z"
          },
          "scheduledTimeLocal": "2023-04-04 15:30+01:00",
          "scheduledTimeUtc": "2023-04-04 14:30Z",
          "terminal": "1"
         },
         "isCargo": false,
         "number": "FR 254",
         "status": "Expected"
        },
        {
         "aircraft": {
          "model": "Airbus A320"
         },
         "airline": {
          "iata": "U2",
          "icao": "EZY",
          "name": "easyJet"
         },
         "arrival": {
          "quality": [
           "Basic"
          ],
          "scheduledTime": {
           "local": "2023-04-04 20:10+02:00",
           "utc": "2023-04-04 18:10Z"
          },
          "scheduledTimeLocal": "2023-04-04 20:10+02:00",
          "scheduledTimeUtc": "2023-04-04 18:10Z",
          "terminal": "1"
         },
         "codeshareStatus": "Unknown",
         "departure": {
          "airport": {
           "iata": "OLB",
           "icao": "LIEO",
           "name": "Olbia"
          },
          "quality": [
           "Basic"
          ],
          "scheduledTime": {
           "local": "2023-04-04 17:50+02:00",
           "utc": "2023-04-04 15:50Z"
          },
          "scheduledTimeLocal": "2023-04-04 17:50+02:00",
          "scheduledTimeUtc": "2023-04-04 15:50Z"
         },
         "isCargo": false,
         "number": "U2 5056",
         "status": "Unknown"
        },
        {
         "aircraft": {
          "modeS": "440469",
          "model": "Airbus A320",
          "reg": "OE-ICR"
         },
         "airline": {
          "iata": "U2",
          "icao": "EZY",
          "name": "easyJet"
         },
         "arrival": {
          "actualTimeLocal": "2023-04-04 20:05+02:00",
          "actualTimeUtc": "2023-04-04 18:05Z",
          "quality": [
           "Basic",
           "Live"
          ],
          "revisedTime": {
           "local": "2023-04-04 20:05+02:00",
           "utc": "2023-04-04 18:05Z"
          },
          "runwayTime": {
           "local": "2023-04-04 19:57+02:00",
           "utc": "2023-04-04 17:57Z"
          },
          "runwayTimeLocal": "2023-04-04 19:57+02:00",
          "runwayTimeUtc": "2023-04-04 17:57Z",
          "scheduledTime": {
           "local": "2023-04-04 20:00+02:00",
           "utc": "2023-04-04 18:00Z"
          },
          "scheduledTimeLocal": "2023-04-04 20:00+02:00",
          "scheduledTimeUtc": "2023-04-04 18:00Z",
          "terminal": "1"
         },
         "callSign": "EJU9362",
         "codeshareStatus": "IsOperator",
         "departure": {
          "actualTimeLocal": "2023-04-04 17:00+01:00",
          "actualTimeUtc": "2023-04-04 16:00Z",
          "airport": {
           "iata": "LGW",
           "icao": "EGKK",
           "name": "London"
          },
          "gate": "112",
          "quality": [
           "Basic",
           "Live"
          ],
          "revisedTime": {
           "local": "2023-04-04 17:00+01:00",
           "utc": "2023-04-04 16:00Z"
          },
          "runwayTime": {
           "local": "2023-04-04 16:11+01:00",
           "utc": "2023-04-04 15:11Z"
          },
          "runwayTimeLocal": "2023-04-04 16:11+01:00",
          "runwayTimeUtc": "2023-04-04 15:11Z",
          "scheduledTime": {
           "local": "2023-04-04 17:00+01:00",
           "utc": "2023-04-04 16:00Z"
          },
          "scheduledTimeLocal": "2023-04-04 17:00+01:00",
          "scheduledTimeUtc": "2023-04-04 16:00Z",
          "terminal": "N"
         },
         "isCargo": false,
         "number": "U2 8625",
         "status": "Arrived"
        },
        {
         "aircraft": {
          "modeS": "4D00DA",
          "model": "De Havilland Canada DHC-8-400 Dash 8Q",
          "reg": "LX-LQJ"
         },
         "airline": {
          "iata": "LG",
          "icao": "LGL",
          "name": "Luxair"
         },
         "arrival": {
          "actualTimeLocal": "2023-04-04 20:03+02:00",
          "actualTimeUtc": "2023-04-04 18:03Z",
          "quality": [
           "Basic",
           "Live"
          ],
          "revisedTime": {
           "local": "2023-04-04 20:03+02:00",
           "utc": "2023-04-04 18:03Z"
          },
          "scheduledTime": {
           "local": "2023-04-04 20:25+02:00",
           "utc": "2023-04-04 18:25Z"
          },
          "scheduledTimeLocal": "2023-04-04 20:25+02:00",
          "scheduledTimeUtc": "2023-04-04 18:25Z",
          "terminal": "1"
         },
         "callSign": "LGL9473",
         "codeshareStatus": "IsOperator",
         "departure": {
          "actualTimeLocal": "2023-04-04 18:55+02:00",
          "actualTimeUtc": "2023-04-04 16:55Z",
          "airport": {
           "iata": "LUX",
           "icao": "ELLX",
           "name": "Luxembourg"
          },
          "quality": [
           "Basic",
           "Live"
          ],
          "revisedTime": {
           "local": "2023-04-04 18:55+02:00",
           "utc": "2023-04-04 16:55Z"
          },
          "runwayTime": {
           "local": "2023-04-04 18:55+02:00",
           "utc": "2023-04-04 16:55Z"
          },
          "runwayTimeLocal": "2023-04-04 18:55+02:00",
          "runwayTimeUtc": "2023-04-04 16:55Z",
          "scheduledTime": {
           "local": "2023-04-04 18:55+02:00",
           "utc": "2023-04-04 16:55Z"
          },
          "scheduledTimeLocal": "2023-04-04 18:55+02:00",
          "scheduledTimeUtc": "2023-04-04 16:55Z"
         },
         "isCargo": false,
         "number": "LG 9473",
         "status": "Approaching"
        },
        {
         "aircraft": {
          "model": "Boeing 737-800"
         },
         "airline": {
          "iata": "FR",
          "icao": "RYR",
          "name": "Ryanair"
         },
         "arrival": {
          "quality": [
           "Basic"
          ],
          "scheduledTime": {
           "local": "2023-04-04 20:15+02:00",
           "utc": "2023-04-04 18:15Z"
          },
          "scheduledTimeLocal": "2023-04-04 20:15+02:00",
          "scheduledTimeUtc": "2023-04-04 18:15Z",
          "terminal": "0"
         },
         "codeshareStatus": "Unknown",
         "departure": {
          "airport": {
           "iata": "RHO",
           "icao": "LGRP",
           "name": "Rodes Island"
          },
          "quality": [
           "Basic"
          ],
          "scheduledTime": {
           "local": "2023-04-04 17:55+03:00",
           "utc": "2023-04-04 14:55Z"
          },
          "scheduledTimeLocal": "2023-04-04 17:55+03:00",
          "scheduledTimeUtc": "2023-04-04 14:55Z"
         },
         "isCargo": false,
         "number": "FR 352",
         "status": "Unknown"
        },
        {
         "aircraft": {
          "modeS": "484CC3",
          "model": "Embraer 190",
          "reg": "PH-EZS"
         },
         "airline": {
          "iata": "KL",
          "icao": "KLM",
          "name": "KLM"
         },
         "arrival": {
          "actualTimeLocal": "2023-04-04 20:27+02:00",
          "actualTimeUtc": "2023-04-04 18:27Z",
          "quality": [
           "Basic",
           "Live"
          ],
          "revisedTime": {
           "local": "2023-04-04 20:27+02:00",
           "utc": "2023-04-04 18:27Z"
          },
          "runwayTime": {
           "local": "2023-04-04 20:23+02:00",
           "utc": "2023-04-04 18:23Z"
          },
          "runwayTimeLocal": "2023-04-04 20:23+02:00",
          "runwayTimeUtc": "2023-04-04 18:23Z",
          "scheduledTime": {
           "local": "2023-04-04 20:05+02:00",
           "utc": "2023-04-04 18:05Z"
          },
          "scheduledTimeLocal": "2023-04-04 20:05+02:00",
          "scheduledTimeUtc": "2023-04-04 18:05Z",
          "terminal": "1"
         },
         "callSign": "KLM39L",
         "codeshareStatus": "IsOperator",
         "departure": {
          "actualTimeLocal": "2023-04-04 19:14+02:00",
          "actualTimeUtc": "2023-04-04 17:14Z",
          "airport": {
           "iata": "AMS",
           "icao": "EHAM",
           "name": "Amsterdam"
          },
          "checkInDesk": "6-8",
          "gate": "B36",
          "quality": [
           "Basic",
           "Live"
          ],
          "revisedTime": {
           "local": "2023-04-04 19:14+02:00",
           "utc": "2023-04-04 17:14Z"
          },
          "runwayTime": {
           "local": "2023-04-04 19:28+02:00",
           "utc": "2023-04-04 17:28Z"
          },
          "runwayTimeLocal": "2023-04-04 19:28+02:00",
          "runwayTimeUtc": "2023-04-04 17:28Z",
          "scheduledTime": {
           "local": "2023-04-04 18:50+02:00",
           "utc": "2023-04-04 16:50Z"
          },
          "scheduledTimeLocal": "2023-04-04 18:50+02:00",
          "scheduledTimeUtc": "2023-04-04 16:50Z",
          "terminal": "1"
         },
         "isCargo": false,
         "number": "KL 1833",
         "status": "Arrived"
        },
        {
         "aircraft": {
          "modeS": "502D23",
          "model": "Airbus A220-300",
          "reg": "YL-AAU"
         },
         "airline": {
          "iata": "LX",
          "icao": "SWR",
          "name": "SWISS"
         },
         "arrival": {
          "actualTimeLocal": "2023-04-04 20:03+02:00",
          "actualTimeUtc": "2023-04-04 18:03Z",
          "quality": [
           "Basic",
           "Live"
          ],
          "revisedTime": {
           "local": "2023-04-04 20:03+02:00",
           "utc": "2023-04-04 18:03Z"
          },
          "runwayTime": {
           "local": "2023-04-04 19:55+02:00",
           "utc": "2023-04-04 17:55Z"
          },
          "runwayTimeLocal": "2023-04-04 19:55+02:00",
          "runwayTimeUtc": "2023-04-04 17:55Z",
          "scheduledTime": {
           "local": "2023-04-04 18:55+02:00",
           "utc": "2023-04-04 16:55Z"
          },
          "scheduledTimeLocal": "2023-04-04 18:55+02:00",
          "scheduledTimeUtc": "2023-04-04 16:55Z",
          "terminal": "1"
         },
         "callSign": "SWR948D",
         "codeshareStatus": "IsOperator",
         "departure": {
          "actualTimeLocal": "2023-04-04 18:25+02:00",
          "actualTimeUtc": "2023-04-04 16:25Z",
          "airport": {
           "iata": "ZRH",
           "icao": "LSZH",
           "name": "Zurich"
          },
          "checkInDesk": "1",
          "gate": "A56",
          "quality": [
           "Basic",
           "Live"
          ],
          "revisedTime": {
           "local": "2023-04-04 18:25+02:00",
           "utc": "2023-04-04 16:25Z"
          },
          "runwayTime": {
           "local": "2023-04-04 18:55+02:00",
           "utc": "2023-04-04 16:55Z"
          },
          "runwayTimeLocal": "2023-04-04 18:55+02:00",
          "runwayTimeUtc": "2023-04-04 16:55Z",
          "scheduledTime": {
           "local": "2023-04-04 17:30+02:00",
           "utc": "2023-04-04 15:30Z"
          },
          "scheduledTimeLocal": "2023-04-04 17:30+02:00",
          "scheduledTimeUtc": "2023-04-04 15:30Z"
         },
         "isCargo": false,
         "number": "LX 982",
         "status": "Arrived"
        },
        {
         "aircraft": {
          "model": "Airbus A320"
         },
         "airline": {
          "iata": "U2",
          "icao": "EZY",
          "name": "easyJet"
         },
         "arrival": {
          "quality": [
           "Basic"
          ],
          "scheduledTime": {
           "local": "2023-04-04 20:30+02:00",
           "utc": "2023-04-04 18:30Z"
          },
          "scheduledTimeLocal": "2023-04-04 20:30+02:00",
          "scheduledTimeUtc": "2023-04-04 18:30Z",
          "terminal": "1"
         },
         "codeshareStatus": "Unknown",
         "departure": {
          "airport": {
           "name": "Bazel"
          },
          "quality": []
         },
         "isCargo": false,
         "number": "U2 1187",
         "status": "Unknown"
        },
        {
         "aircraft": {
          "modeS": "400AFF",
          "model": "Airbus A321",
          "reg": "G-EUXG"
         },
         "airline": {
          "iata": "BA",
          "icao": "BAW",
          "name": "British Airways"
         },
         "arrival": {
          "quality": [
           "Basic"
          ],
          "scheduledTime": {
           "local": "2023-04-04 20:15+02:00",
           "utc": "2023-04-04 18:15Z"
          },
          "scheduledTimeLocal": "2023-04-04 20:15+02:00",
          "scheduledTimeUtc": "2023-04-04 18:15Z",
          "terminal": "1"
         },
         "callSign": "BAW998",
         "codeshareStatus": "Unknown",
         "departure": {
          "actualTimeLocal": "2023-04-04 17:57+01:00",
          "actualTimeUtc": "2023-04-04 16:57Z",
          "airport": {
           "iata": "LHR",
           "icao": "EGLL",
           "name": "London"
          },
          "checkInDesk": "B",
          "quality": [
           "Basic",
           "Live"
          ],
          "revisedTime": {
           "local": "2023-04-04 17:57+01:00",
           "utc": "2023-04-04 16:57Z"
          },
          "runwayTime": {
           "local": "2023-04-04 18:00+01:00",
           "utc": "2023-04-04 17:00Z"
          },
          "runwayTimeLocal": "2023-04-04 18:00+01:00",
          "runwayTimeUtc": "2023-04-04 17:00Z",
          "scheduledTime": {
           "local": "2023-04-04 17:20+01:00",
           "utc": "2023-04-04 16:20Z"
          },
          "scheduledTimeLocal": "2023-04-04 17:20+01:00",
          "scheduledTimeUtc": "2023-04-04 16:20Z",
          "terminal": "5"
         },
         "isCargo": false,
         "number": "BA 998",
         "status": "Expected"
        },
        {
         "aircraft": {
          "modeS": "440138",
          "model": "Airbus A320",
          "reg": "OE-IZT"
         },
         "airline": {
          "iata": "U2",
          "icao": "EZY",
          "name": "easyJet"
         },
         "arrival": {
          "quality": [
           "Basic"
          ],
          "scheduledTime": {
           "local": "2023-04-04 20:45+02:00",
           "utc": "2023-04-04 18:45Z"
          },
          "scheduledTimeLocal": "2023-04-04 20:45+02:00",
          "scheduledTimeUtc": "2023-04-04 18:45Z",
          "terminal": "1"
         },
         "callSign": "EJU71GL",
         "codeshareStatus": "Unknown",
         "departure": {
          "actualTimeLocal": "2023-04-04 18:54+02:00",
          "actualTimeUtc": "2023-04-04 16:54Z",
          "airport": {
           "iata": "ARN",
           "icao": "ESSA",
           "name": "Stockholm"
          },
          "checkInDesk": "16-17",
          "gate": "62",
          "quality": [
           "Basic",
           "Live"
          ],
          "revisedTime": {
           "local": "2023-04-04 18:54+02:00",
           "utc": "2023-04-04 16:54Z"
          },
          "runwayTime": {
           "local": "2023-04-04 19:05+02:00",
           "utc": "2023-04-04 17:05Z"
          },
          "runwayTimeLocal": "2023-04-04 19:05+02:00",
          "runwayTimeUtc": "2023-04-04 17:05Z",
          "scheduledTime": {
           "local": "2023-04-04 19:00+02:00",
           "utc": "2023-04-04 17:00Z"
          },
          "scheduledTimeLocal": "2023-04-04 19:00+02:00",
          "scheduledTimeUtc": "2023-04-04 17:00Z",
          "terminal": "2"
         },
         "isCargo": false,
         "number": "U2 5248",
         "status": "Expected"
        },
        {
         "aircraft": {
          "modeS": "3C6674",
          "model": "Airbus A320",
          "reg": "D-AIST"
         },
         "airline": {
          "iata": "LH",
          "icao": "DLH",
          "name": "Lufthansa"
         },
         "arrival": {
          "quality": [
           "Basic"
          ],
          "scheduledTime": {
           "local": "2023-04-04 20:55+02:00",
           "utc": "2023-04-04 18:55Z"
          },
          "scheduledTimeLocal": "2023-04-04 20:55+02:00",
          "scheduledTimeUtc": "2023-04-04 18:55Z",
          "terminal": "1"
         },
         "codeshareStatus": "Unknown",
         "departure": {
          "actualTimeLocal": "2023-04-04 19:45+02:00",
          "actualTimeUtc": "2023-04-04 17:45Z",
          "airport": {
           "iata": "FRA",
           "icao": "EDDF",
           "name": "Frankfurt-am-Main"
          },
          "checkInDesk": "326-542",
          "gate": "A56",
          "quality": [
           "Basic",
           "Live"
          ],
          "revisedTime": {
           "local": "2023-04-04 19:45+02:00",
           "utc": "2023-04-04 17:45Z"
          },
          "scheduledTime": {
           "local": "2023-04-04 19:45+02:00",
           "utc": "2023-04-04 17:45Z"
          },
          "scheduledTimeLocal": "2023-04-04 19:45+02:00",
          "scheduledTimeUtc": "2023-04-04 17:45Z",
          "terminal": "1"
         },
         "isCargo": false,
         "number": "LH 200",
         "status": "Expected"
        },
        {
         "aircraft": {
          "modeS": "4CA97C",
          "model": "Boeing 737-800",
          "reg": "EI-ESV"
         },
         "airline": {
          "iata": "FR",
          "icao": "RYR",
          "name": "Ryanair"
         },
         "arrival": {
          "actualTimeLocal": "2023-04-04 20:27+02:00",
          "actualTimeUtc": "2023-04-04 18:27Z",
          "quality": [
           "Basic",
           "Live"
          ],
          "revisedTime": {
           "local": "2023-04-04 20:27+02:00",
           "utc": "2023-04-04 18:27Z"
          },
          "runwayTime": {
           "local": "2023-04-04 20:25+02:00",
           "utc": "2023-04-04 18:25Z"
          },
          "runwayTimeLocal": "2023-04-04 20:25+02:00",
          "runwayTimeUtc": "2023-04-04 18:25Z",
          "scheduledTime": {
           "local": "2023-04-04 20:30+02:00",
           "utc": "2023-04-04 18:30Z"
          },
          "scheduledTimeLocal": "2023-04-04 20:30+02:00",
          "scheduledTimeUtc": "2023-04-04 18:30Z",
          "terminal": "0"
         },
         "callSign": "RYR7EK",
         "codeshareStatus": "IsOperator",
         "departure": {
          "actualTimeLocal": "2023-04-04 19:13+02:00",
          "actualTimeUtc": "2023-04-04 17:13Z",
          "airport": {
           "iata": "PMI",
           "icao": "LEPA",
           "name": "Palma De Mallorca"
          },
          "checkInDesk": "002-017",
          "gate": "C42",
          "quality": [
           "Basic",
           "Live"
          ],
          "revisedTime": {
           "local": "2023-04-04 19:13+02:00",
           "utc": "2023-04-04 17:13Z"
          },
          "runwayTime": {
           "local": "2023-04-04 19:27+02:00",
           "utc": "2023-04-04 17:27Z"
          },
          "runwayTimeLocal": "2023-04-04 19:27+02:00",
          "runwayTimeUtc": "2023-04-04 17:27Z",
          "scheduledTime": {
           "local": "2023-04-04 17:45+02:00",
           "utc": "2023-04-04 15:45Z"
          },
          "scheduledTimeLocal": "2023-04-04 17:45+02:00",
          "scheduledTimeUtc": "2023-04-04 15:45Z",
          "terminal": "N"
         },
         "isCargo": false,
         "number": "FR 263",
         "status": "Arrived"
        },
        {
         "aircraft": {
          "modeS": "3C6641",
          "model": "Airbus A321",
          "reg": "D-AIRA"
         },
         "airline": {
          "iata": "LH",
          "icao": "DLH",
          "name": "Lufthansa"
         },
         "arrival": {
          "actualTimeLocal": "2023-04-04 21:02+02:00",
          "actualTimeUtc": "2023-04-04 19:02Z",
          "quality": [
           "Basic",
           "Live"
          ],
          "revisedTime": {
           "local": "2023-04-04 21:02+02:00",
           "utc": "2023-04-04 19:02Z"
          },
          "runwayTime": {
           "local": "2023-04-04 20:58+02:00",
           "utc": "2023-04-04 18:58Z"
          },
          "runwayTimeLocal": "2023-04-04 20:58+02:00",
          "runwayTimeUtc": "2023-04-04 18:58Z",
          "scheduledTime": {
           "local": "2023-04-04 21:05+02:00",
           "utc": "2023-04-04 19:05Z"
          },
          "scheduledTimeLocal": "2023-04-04 21:05+02:00",
          "scheduledTimeUtc": "2023-04-04 19:05Z",
          "terminal": "1"
         },
         "callSign": "DLH8X",
         "codeshareStatus": "IsOperator",
         "departure": {
          "actualTimeLocal": "2023-04-04 20:00+02:00",
          "actualTimeUtc": "2023-04-04 18:00Z",
          "airport": {
           "iata": "MUC",
           "icao": "EDDM",
           "name": "Munich"
          },
          "quality": [
           "Basic",
           "Live"
          ],
          "revisedTime": {
           "local": "2023-04-04 20:00+02:00",
           "utc": "2023-04-04 18:00Z"
          },
          "runwayTime": {
           "local": "2023-04-04 20:13+02:00",
           "utc": "2023-04-04 18:13Z"
          },
          "runwayTimeLocal": "2023-04-04 20:13+02:00",
          "runwayTimeUtc": "2023-04-04 18:13Z",
          "scheduledTime": {
           "local": "2023-04-04 20:00+02:00",
           "utc": "2023-04-04 18:00Z"
          },
          "scheduledTimeLocal": "2023-04-04 20:00+02:00",
          "scheduledTimeUtc": "2023-04-04 18:00Z",
          "terminal": "2"
         },
         "isCargo": false,
         "number": "LH 1960",
         "status": "Arrived"
        },
        {
         "aircraft": {
          "modeS": "4B0292",
          "model": "Embraer 195",
          "reg": "HB-AZI"
         },
         "airline": {
          "iata": "LX",
          "icao": "SWR",
          "name": "SWISS"
         },
         "arrival": {
          "actualTimeLocal": "2023-04-04 20:13+02:00",
          "actualTimeUtc": "2023-04-04 18:13Z",
          "quality": [
           "Basic",
           "Live"
          ],
          "revisedTime": {
           "local": "2023-04-04 20:13+02:00",
           "utc": "2023-04-04 18:13Z"
          },
          "scheduledTime": {
           "local": "2023-04-04 19:45+02:00",
           "utc": "2023-04-04 17:45Z"
          },
          "scheduledTimeLocal": "2023-04-04 19:45+02:00",
          "scheduledTimeUtc": "2023-04-04 17:45Z",
          "terminal": "1"
         },
         "callSign": "SWR7LH",
         "codeshareStatus": "IsOperator",
         "departure": {
          "actualTimeLocal": "2023-04-04 18:45+02:00",
          "actualTimeUtc": "2023-04-04 16:45Z",
          "airport": {
           "iata": "ZRH",
           "icao": "LSZH",
           "name": "Zurich"
          },
          "checkInDesk": "1",
          "gate": "B34",
          "quality": [
           "Basic",
           "Live"
          ],
          "revisedTime": {
           "local": "2023-04-04 18:45+02:00",
           "utc": "2023-04-04 16:45Z"
          },
          "runwayTime": {
           "local": "2023-04-04 19:13+02:00",
           "utc": "2023-04-04 17:13Z"
          },
          "runwayTimeLocal": "2023-04-04 19:13+02:00",
          "runwayTimeUtc": "2023-04-04 17:13Z",
          "scheduledTime": {
           "local": "2023-04-04 18:20+02:00",
           "utc": "2023-04-04 16:20Z"
          },
          "scheduledTimeLocal": "2023-04-04 18:20+02:00",
          "scheduledTimeUtc": "2023-04-04 16:20Z"
         },
         "isCargo": false,
         "number": "LX 978",
         "status": "Approaching"
        },
        {
         "aircraft": {
          "modeS": "3C66B0",
          "model": "Airbus A320",
          "reg": "D-AIUP"
         },
         "airline": {
          "iata": "LH",
          "icao": "DLH",
          "name": "Lufthansa"
         },
         "arrival": {
          "actualTimeLocal": "2023-04-04 21:13+02:00",
          "actualTimeUtc": "2023-04-04 19:13Z",
          "quality": [
           "Basic",
           "Live"
          ],
          "revisedTime": {
           "local": "2023-04-04 21:13+02:00",
           "utc": "2023-04-04 19:13Z"
          },
          "runwayTime": {
           "local": "2023-04-04 21:05+02:00",
           "utc": "2023-04-04 19:05Z"
          },
          "runwayTimeLocal": "2023-04-04 21:05+02:00",
          "runwayTimeUtc": "2023-04-04 19:05Z",
          "scheduledTime": {
           "local": "2023-04-04 21:25+02:00",
           "utc": "2023-04-04 19:25Z"
          },
          "scheduledTimeLocal": "2023-04-04 21:25+02:00",
          "scheduledTimeUtc": "2023-04-04 19:25Z",
          "terminal": "1"
         },
         "callSign": "DLH044",
         "codeshareStatus": "IsOperator",
         "departure": {
          "actualTimeLocal": "2023-04-04 20:15+02:00",
          "actualTimeUtc": "2023-04-04 18:15Z",
          "airport": {
           "iata": "FRA",
           "icao": "EDDF",
           "name": "Frankfurt-am-Main"
          },
          "checkInDesk": "326-542",
          "gate": "A22",
          "quality": [
           "Basic",
           "Live"
          ],
          "revisedTime": {
           "local": "2023-04-04 20:15+02:00",
           "utc": "2023-04-04 18:15Z"
          },
          "runwayTime": {
           "local": "2023-04-04 20:26+02:00",
           "utc": "2023-04-04 18:26Z"
          },
          "runwayTimeLocal": "2023-04-04 20:26+02:00",
          "runwayTimeUtc": "2023-04-04 18:26Z",
          "scheduledTime": {
           "local": "2023-04-04 20:15+02:00",
           "utc": "2023-04-04 18:15Z"
          },
          "scheduledTimeLocal": "2023-04-04 20:15+02:00",
          "scheduledTimeUtc": "2023-04-04 18:15Z",
          "terminal": "1"
         },
         "isCargo": false,
         "number": "LH 44",
         "status": "Arrived"
        },
        {
         "aircraft": {
          "modeS": "73806B",
          "model": "Boeing 737",
          "reg": "4X-EKS"
         },
         "airline": {
          "iata": "LY",
          "icao": "ELY",
          "name": "El Al"
         },
         "arrival": {
          "actualTimeLocal": "2023-04-04 21:14+02:00",
          "actualTimeUtc": "2023-04-04 19:14Z",
          "quality": [
           "Basic",
           "Live"
          ],
          "revisedTime": {
           "local": "2023-04-04 21:14+02:00",
           "utc": "2023-04-04 19:14Z"
          },
          "scheduledTime": {
           "local": "2023-04-04 21:05+02:00",
           "utc": "2023-04-04 19:05Z"
          },
          "scheduledTimeLocal": "2023-04-04 21:05+02:00",
          "scheduledTimeUtc": "2023-04-04 19:05Z",
          "terminal": "1"
         },
         "callSign": "ELY2373",
         "codeshareStatus": "IsOperator",
         "departure": {
          "actualTimeLocal": "2023-04-04 18:32+03:00",
          "actualTimeUtc": "2023-04-04 15:32Z",
          "airport": {
           "iata": "TLV",
           "icao": "LLBG",
           "name": "Tel Aviv Yafo"
          },
          "quality": [
           "Basic",
           "Live"
          ],
          "revisedTime": {
           "local": "2023-04-04 18:32+03:00",
           "utc": "2023-04-04 15:32Z"
          },
          "runwayTime": {
           "local": "2023-04-04 18:32+03:00",
           "utc": "2023-04-04 15:32Z"
          },
          "runwayTimeLocal": "2023-04-04 18:32+03:00",
          "runwayTimeUtc": "2023-04-04 15:32Z",
          "scheduledTime": {
           "local": "2023-04-04 17:45+03:00",
           "utc": "2023-04-04 14:45Z"
          },
          "scheduledTimeLocal": "2023-04-04 17:45+03:00",
          "scheduledTimeUtc": "2023-04-04 14:45Z",
          "terminal": "3"
         },
         "isCargo": false,
         "number": "LY 2373",
         "status": "Approaching"
        },
        {
         "aircraft": {
          "model": "Boeing 737-800"
         },
         "airline": {
          "iata": "FR",
          "icao": "RYR",
          "name": "Ryanair"
         },
         "arrival": {
          "quality": [
           "Basic"
          ],
          "scheduledTime": {
           "local": "2023-04-04 21:00+02:00",
           "utc": "2023-04-04 19:00Z"
          },
          "scheduledTimeLocal": "2023-04-04 21:00+02:00",
          "scheduledTimeUtc": "2023-04-04 19:00Z",
          "terminal": "0"
         },
         "codeshareStatus": "Unknown",
         "departure": {
          "airport": {
           "iata": "MXP",
           "icao": "LIMC",
           "name": "Milan"
          },
          "quality": [
           "Basic"
          ],
          "scheduledTime": {
           "local": "2023-04-04 19:15+02:00",
           "utc": "2023-04-04 17:15Z"
          },
          "scheduledTimeLocal": "2023-04-04 19:15+02:00",
          "scheduledTimeUtc": "2023-04-04 17:15Z",
          "terminal": "1"
         },
         "isCargo": false,
         "number": "FR 9",
         "status": "Unknown"
        },
        {
         "aircraft": {
          "modeS": "4CA92D",
          "model": "Airbus A320",
          "reg": "EI-DVM"
         },
         "airline": {
          "iata": "EI",
          "icao": "EIN",
          "name": "Aer Lingus"
         },
         "arrival": {
          "quality": [
           "Basic"
          ],
          "scheduledTime": {
           "local": "2023-04-04 21:05+02:00",
           "utc": "2023-04-04 19:05Z"
          },
          "scheduledTimeLocal": "2023-04-04 21:05+02:00",
          "scheduledTimeUtc": "2023-04-04 19:05Z",
          "terminal": "1"
         },
         "callSign": "EIN33T",
         "codeshareStatus": "Unknown",
         "departure": {
          "actualTimeLocal": "2023-04-04 17:45+01:00",
          "actualTimeUtc": "2023-04-04 16:45Z",
          "airport": {
           "iata": "DUB",
           "icao": "EIDW",
           "name": "Dublin"
          },
          "checkInDesk": "29-56",
          "gate": "410",
          "quality": [
           "Basic",
           "Live"
          ],
          "revisedTime": {
           "local": "2023-04-04 17:45+01:00",
           "utc": "2023-04-04 16:45Z"
          },
          "runwayTime": {
           "local": "2023-04-04 18:05+01:00",
           "utc": "2023-04-04 17:05Z"
          },
          "runwayTimeLocal": "2023-04-04 18:05+01:00",
          "runwayTimeUtc": "2023-04-04 17:05Z",
          "scheduledTime": {
           "local": "2023-04-04 17:45+01:00",
           "utc": "2023-04-04 16:45Z"
          },
          "scheduledTimeLocal": "2023-04-04 17:45+01:00",
          "scheduledTimeUtc": "2023-04-04 16:45Z",
          "terminal": "2"
         },
         "isCargo": false,
         "number": "EI 336",
         "status": "Expected"
        },
        {
         "aircraft": {
          "model": "Airbus A319"
         },
         "airline": {
          "iata": "U2",
          "icao": "EZY",
          "name": "easyJet"
         },
         "arrival": {
          "quality": [
           "Basic"
          ],
          "scheduledTime": {
           "local": "2023-04-04 21:15+02:00",
           "utc": "2023-04-04 19:15Z"
          },
          "scheduledTimeLocal": "2023-04-04 21:15+02:00",
          "scheduledTimeUtc": "2023-04-04 19:15Z",
          "terminal": "1"
         },
         "codeshareStatus": "Unknown",
         "departure": {
          "airport": {
           "iata": "NAP",
           "icao": "LIRN",
           "name": "Nápoli"
          },
          "quality": [
           "Basic"
          ],
          "scheduledTime": {
           "local": "2023-04-04 18:55+02:00",
           "utc": "2023-04-04 16:55Z"
          },
          "scheduledTimeLocal": "2023-04-04 18:55+02:00",
          "scheduledTimeUtc": "2023-04-04 16:55Z"
         },
         "isCargo": false,
         "number": "U2 5054",
         "status": "Unknown"
        },
        {
         "aircraft": {
          "model": "Boeing 737-800"
         },
         "airline": {
          "iata": "FR",
          "icao": "RYR",
          "name": "Ryanair"
         },
         "arrival": {
          "quality": [
           "Basic"
          ],
          "scheduledTime": {
           "local": "2023-04-04 21:20+02:00",
           "utc": "2023-04-04 19:20Z"
          },
          "scheduledTimeLocal": "2023-04-04 21:20+02:00",
          "scheduledTimeUtc": "2023-04-04 19:20Z",
          "terminal": "0"
         },
         "codeshareStatus": "Unknown",
         "departure": {
          "airport": {
           "iata": "RIX",
           "icao": "EVRA",
           "name": "Riga"
          },
          "quality": [
           "Basic"
          ],
          "scheduledTime": {
           "local": "2023-04-04 20:35+03:00",
           "utc": "2023-04-04 17:35Z"
          },
          "scheduledTimeLocal": "2023-04-04 20:35+03:00",
          "scheduledTimeUtc": "2023-04-04 17:35Z"
         },
         "isCargo": false,
         "number": "FR 2600",
         "status": "Unknown"
        },
        {
         "aircraft": {
          "model": "Airbus A320"
         },
         "airline": {
          "iata": "VY",
          "icao": "VLG",
          "name": "Vueling"
         },
         "arrival": {
          "quality": [
           "Basic"
          ],
          "scheduledTime": {
           "local": "2023-04-04 21:20+02:00",
           "utc": "2023-04-04 19:20Z"
          },
          "scheduledTimeLocal": "2023-04-04 21:20+02:00",
          "scheduledTimeUtc": "2023-04-04 19:20Z",
          "terminal": "1"
         },
         "codeshareStatus": "Unknown",
         "departure": {
          "actualTimeLocal": "2023-04-04 18:31+02:00",
          "actualTimeUtc": "2023-04-04 16:31Z",
          "airport": {
           "iata": "BCN",
           "icao": "LEBL",
           "name": "Barcelona"
          },
          "checkInDesk": "501-514",
          "gate": "B47",
          "quality": [
           "Basic",
           "Live"
          ],
          "revisedTime": {
           "local": "2023-04-04 18:31+02:00",
           "utc": "2023-04-04 16:31Z"
          },
          "scheduledTime": {
           "local": "2023-04-04 18:35+02:00",
           "utc": "2023-04-04 16:35Z"
          },
          "scheduledTimeLocal": "2023-04-04 18:35+02:00",
          "scheduledTimeUtc": "2023-04-04 16:35Z",
          "terminal": "1"
         },
         "isCargo": false,
         "number": "VY 1884",
         "status": "Expected"
        },
        {
         "aircraft": {
          "model": "Boeing 737-800"
         },
         "airline": {
          "iata": "FR",
          "icao": "RYR",
          "name": "Ryanair"
         },
         "arrival": {
          "quality": [
           "Basic"
          ],
          "scheduledTime": {
           "local": "2023-04-04 21:25+02:00",
           "utc": "2023-04-04 19:25Z"
          },
          "scheduledTimeLocal": "2023-04-04 21:25+02:00",
          "scheduledTimeUtc": "2023-04-04 19:25Z",
          "terminal": "0"
         },
         "codeshareStatus": "Unknown",
         "departure": {
          "actualTimeLocal": "2023-04-04 21:59+03:00",
          "actualTimeUtc": "2023-04-04 18:59Z",
          "airport": {
           "iata": "OTP",
           "icao": "LROP",
           "name": "Bucharest"
          },
          "quality": [
           "Basic",
           "Live"
          ],
          "revisedTime": {
           "local": "2023-04-04 21:59+03:00",
           "utc": "2023-04-04 18:59Z"
          },
          "scheduledTime": {
           "local": "2023-04-04 20:10+03:00",
           "utc": "2023-04-04 17:10Z"
          },
          "scheduledTimeLocal": "2023-04-04 20:10+03:00",
          "scheduledTimeUtc": "2023-04-04 17:10Z"
         },
         "isCargo": false,
         "number": "FR 315",
         "status": "Expected"
        },
        {
         "aircraft": {
          "model": "Airbus A320"
         },
         "airline": {
          "iata": "EW",
          "icao": "EWG",
          "name": "Eurowings"
         },
         "arrival": {
          "quality": [
           "Basic"
          ],
          "scheduledTime": {
           "local": "2023-04-04 21:35+02:00",
           "utc": "2023-04-04 19:35Z"
          },
          "scheduledTimeLocal": "2023-04-04 21:35+02:00",
          "scheduledTimeUtc": "2023-04-04 19:35Z",
          "terminal": "1"
         },
         "codeshareStatus": "Unknown",
         "departure": {
          "actualTimeLocal": "2023-04-04 20:25+02:00",
          "actualTimeUtc": "2023-04-04 18:25Z",
          "airport": {
           "iata": "STR",
           "icao": "EDDS",
           "name": "Stuttgart"
          },
          "gate": "114",
          "quality": [
           "Basic",
           "Live"
          ],
          "revisedTime": {
           "local": "2023-04-04 20:25+02:00",
           "utc": "2023-04-04 18:25Z"
          },
          "scheduledTime": {
           "local": "2023-04-04 20:25+02:00",
           "utc": "2023-04-04 18:25Z"
          },
          "scheduledTimeLocal": "2023-04-04 20:25+02:00",
          "scheduledTimeUtc": "2023-04-04 18:25Z",
          "terminal": "1"
         },
         "isCargo": false,
         "number": "EW 8007",
         "status": "Expected"
        },
        {
         "aircraft": {
          "modeS": "4D2429",
          "model": "Airbus A320",
          "reg": "9H-WAU"
         },
         "airline": {
          "iata": "W6",
          "icao": "WZZ",
          "name": "Wizz Air"
         },
         "arrival": {
          "actualTimeLocal": "2023-04-04 20:41+02:00",
          "actualTimeUtc": "2023-04-04 18:41Z",
          "quality": [
           "Basic",
           "Live"
          ],
          "revisedTime": {
           "local": "2023-04-04 20:41+02:00",
           "utc": "2023-04-04 18:41Z"
          },
          "runwayTime": {
           "local": "2023-04-04 20:33+02:00",
           "utc": "2023-04-04 18:33Z"
          },
          "runwayTimeLocal": "2023-04-04 20:33+02:00",
          "runwayTimeUtc": "2023-04-04 18:33Z",
          "scheduledTime": {
           "local": "2023-04-04 21:00+02:00",
           "utc": "2023-04-04 19:00Z"
          },
          "scheduledTimeLocal": "2023-04-04 21:00+02:00",
          "scheduledTimeUtc": "2023-04-04 19:00Z",
          "terminal": "0"
         },
         "callSign": "WZZ605",
         "codeshareStatus": "IsOperator",
         "departure": {
          "actualTimeLocal": "2023-04-04 18:43+02:00",
          "actualTimeUtc": "2023-04-04 16:43Z",
          "airport": {
           "iata": "SKP",
           "icao": "LWSK",
           "name": "Skopje"
          },
          "checkInDesk": "22",
          "gate": "201",
          "quality": [
           "Basic",
           "Live"
          ],
          "revisedTime": {
           "local": "2023-04-04 18:43+02:00",
           "utc": "2023-04-04 16:43Z"
          },
          "scheduledTime": {
           "local": "2023-04-04 18:40+02:00",
           "utc": "2023-04-04 16:40Z"
          },
          "scheduledTimeLocal": "2023-04-04 18:40+02:00",
          "scheduledTimeUtc": "2023-04-04 16:40Z"
         },
         "isCargo": false,
         "number": "W6 7739",
         "status": "Arrived"
        },
        {
         "aircraft": {
          "modeS": "3C0936",
          "model": "Airbus A320",
          "reg": "D-ASMR"
         },
         "airline": {
          "iata": "SR",
          "icao": "SDR",
          "name": "SundAir"
         },
         "arrival": {
          "actualTimeLocal": "2023-04-04 21:37+02:00",
          "actualTimeUtc": "2023-04-04 19:37Z",
          "quality": [
           "Basic",
           "Live"
          ],
          "revisedTime": {
           "local": "2023-04-04 21:37+02:00",
           "utc": "2023-04-04 19:37Z"
          },
          "runwayTime": {
           "local": "2023-04-04 21:31+02:00",
           "utc": "2023-04-04 19:31Z"
          },
          "runwayTimeLocal": "2023-04-04 21:31+02:00",
          "runwayTimeUtc": "2023-04-04 19:31Z",
          "scheduledTime": {
           "local": "2023-04-04 21:37+02:00",
           "utc": "2023-04-04 19:37Z"
          },
          "scheduledTimeLocal": "2023-04-04 21:37+02:00",
          "scheduledTimeUtc": "2023-04-04 19:37Z"
         },
         "callSign": "SDR17QL",
         "codeshareStatus": "IsOperator",
         "departure": {
          "airport": {
           "iata": "BEY",
           "icao": "OLBA",
           "name": "Beirut"
          },
          "quality": []
         },
         "isCargo": false,
         "number": "SR 17QL",
         "status": "Arrived"
        },
        {
         "aircraft": {
          "modeS": "4406F0",
          "model": "Airbus A319",
          "reg": "OE-LQU"
         },
         "airline": {
          "iata": "U2",
          "icao": "EZY",
          "name": "easyJet"
         },
         "arrival": {
          "quality": [
           "Basic"
          ],
          "scheduledTime": {
           "local": "2023-04-04 21:15+02:00",
           "utc": "2023-04-04 19:15Z"
          },
          "scheduledTimeLocal": "2023-04-04 21:15+02:00",
          "scheduledTimeUtc": "2023-04-04 19:15Z",
          "terminal": "1"
         },
         "callSign": "EJU51HM",
         "codeshareStatus": "Unknown",
         "departure": {
          "actualTimeLocal": "2023-04-04 19:41+02:00",
          "actualTimeUtc": "2023-04-04 17:41Z",
          "airport": {
           "iata": "VCE",
           "icao": "LIPZ",
           "name": "Venice"
          },
          "quality": [
           "Basic",
           "Live"
          ],
          "revisedTime": {
           "local": "2023-04-04 19:41+02:00",
           "utc": "2023-04-04 17:41Z"
          },
          "runwayTime": {
           "local": "2023-04-04 19:41+02:00",
           "utc": "2023-04-04 17:41Z"
          },
          "runwayTimeLocal": "2023-04-04 19:41+02:00",
          "runwayTimeUtc": "2023-04-04 17:41Z",
          "scheduledTime": {
           "local": "2023-04-04 19:30+02:00",
           "utc": "2023-04-04 17:30Z"
          },
          "scheduledTimeLocal": "2023-04-04 19:30+02:00",
          "scheduledTimeUtc": "2023-04-04 17:30Z"
         },
         "isCargo": false,
         "number": "U2 4077",
         "status": "Expected"
        },
        {
         "aircraft": {
          "modeS": "440668",
          "model": "Airbus A320",
          "reg": "OE-LBL"
         },
         "airline": {
          "iata": "OS",
          "icao": "AUA",
          "name": "Austrian"
         },
         "arrival": {
          "actualTimeLocal": "2023-04-04 21:49+02:00",
          "actualTimeUtc": "2023-04-04 19:49Z",
          "quality": [
           "Basic",
           "Live"
          ],
          "revisedTime": {
           "local": "2023-04-04 21:49+02:00",
           "utc": "2023-04-04 19:49Z"
          },
          "scheduledTime": {
           "local": "2023-04-04 22:15+02:00",
           "utc": "2023-04-04 20:15Z"
          },
          "scheduledTimeLocal": "2023-04-04 22:15+02:00",
          "scheduledTimeUtc": "2023-04-04 20:15Z",
          "terminal": "1"
         },
         "callSign": "AUA39B",
         "codeshareStatus": "IsOperator",
         "departure": {
          "actualTimeLocal": "2023-04-04 20:55+02:00",
          "actualTimeUtc": "2023-04-04 18:55Z",
          "airport": {
           "iata": "VIE",
           "icao": "LOWW",
           "name": "Vienna"
          },
          "checkInDesk": "351-372",
          "gate": "F10",
          "quality": [
           "Basic",
           "Live"
          ],
          "revisedTime": {
           "local": "2023-04-04 20:55+02:00",
           "utc": "2023-04-04 18:55Z"
          },
          "scheduledTime": {
           "local": "2023-04-04 21:00+02:00",
           "utc": "2023-04-04 19:00Z"
          },
          "scheduledTimeLocal": "2023-04-04 21:00+02:00",
          "scheduledTimeUtc": "2023-04-04 19:00Z",
          "terminal": "3"
         },
         "isCargo": false,
         "number": "OS 239",
         "status": "Approaching"
        },
        {
         "aircraft": {
          "model": "Boeing 737-800"
         },
         "airline": {
          "iata": "FR",
          "icao": "RYR",
          "name": "Ryanair"
         },
         "arrival": {
          "quality": [
           "Basic"
          ],
          "scheduledTime": {
           "local": "2023-04-04 21:50+02:00",
           "utc": "2023-04-04 19:50Z"
          },
          "scheduledTimeLocal": "2023-04-04 21:50+02:00",
          "scheduledTimeUtc": "2023-04-04 19:50Z",
          "terminal": "0"
         },
         "codeshareStatus": "Unknown",
         "departure": {
          "actualTimeLocal": "2023-04-04 20:57+02:00",
          "actualTimeUtc": "2023-04-04 18:57Z",
          "airport": {
           "iata": "BCN",
           "icao": "LEBL",
           "name": "Barcelona"
          },
          "checkInDesk": "B64-B71",
          "gate": "U32",
          "quality": [
           "Basic",
           "Live"
          ],
          "revisedTime": {
           "local": "2023-04-04 20:57+02:00",
           "utc": "2023-04-04 18:57Z"
          },
          "scheduledTime": {
           "local": "2023-04-04 19:05+02:00",
           "utc": "2023-04-04 17:05Z"
          },
          "scheduledTimeLocal": "2023-04-04 19:05+02:00",
          "scheduledTimeUtc": "2023-04-04 17:05Z",
          "terminal": "2"
         },
         "isCargo": false,
         "number": "FR 149",
         "status": "Expected"
        },
        {
         "aircraft": {
          "model": "Airbus A320"
         },
         "airline": {
          "iata": "U2",
          "icao": "EZY",
          "name": "easyJet"
         },
         "arrival": {
          "quality": [
           "Basic"
          ],
          "scheduledTime": {
           "local": "2023-04-04 21:55+02:00",
           "utc": "2023-04-04 19:55Z"
          },
          "scheduledTimeLocal": "2023-04-04 21:55+02:00",
          "scheduledTimeUtc": "2023-04-04 19:55Z",
          "terminal": "1"
         },
         "codeshareStatus": "Unknown",
         "departure": {
          "actualTimeLocal": "2023-04-04 16:10+01:00",
          "actualTimeUtc": "2023-04-04 15:10Z",
          "airport": {
           "iata": "FUE",
           "icao": "GCFV",
           "name": "Fuerteventura Island"
          },
          "checkInDesk": "02-03",
          "gate": "A21",
          "quality": [
           "Basic",
           "Live"
          ],
          "revisedTime": {
           "local": "2023-04-04 16:10+01:00",
           "utc": "2023-04-04 15:10Z"
          },
          "scheduledTime": {
           "local": "2023-04-04 15:55+01:00",
           "utc": "2023-04-04 14:55Z"
          },
          "scheduledTimeLocal": "2023-04-04 15:55+01:00",
          "scheduledTimeUtc": "2023-04-04 14:55Z",
          "terminal": "1"
         },
         "isCargo": false,
         "number": "U2 5102",
         "status": "Expected"
        },
        {
         "aircraft": {
          "model": "Boeing 737-800"
         },
         "airline": {
          "iata": "FR",
          "icao": "RYR",
          "name": "Ryanair"
         },
         "arrival": {
          "quality": [
           "Basic"
          ],
          "scheduledTime": {
           "local": "2023-04-04 21:35+02:00",
           "utc": "2023-04-04 19:35Z"
          },
          "scheduledTimeLocal": "2023-04-04 21:35+02:00",
          "scheduledTimeUtc": "2023-04-04 19:35Z",
          "terminal": "0"
         },
         "codeshareStatus": "Unknown",
         "departure": {
          "actualTimeLocal": "2023-04-04 19:55+02:00",
          "actualTimeUtc": "2023-04-04 17:55Z",
          "airport": {
           "iata": "FCO",
           "icao": "LIRF",
           "name": "Rome"
          },
          "quality": [
           "Basic",
           "Live"
          ],
          "revisedTime": {
           "local": "2023-04-04 19:55+02:00",
           "utc": "2023-04-04 17:55Z"
          },
          "scheduledTime": {
           "local": "2023-04-04 19:25+02:00",
           "utc": "2023-04-04 17:25Z"
          },
          "scheduledTimeLocal": "2023-04-04 19:25+02:00",
          "scheduledTimeUtc": "2023-04-04 17:25Z",
          "terminal": "1"
         },
         "isCargo": false,
         "number": "FR 141",
         "status": "Expected"
        },
        {
         "aircraft": {
          "modeS": "4BAA52",
          "model": "Airbus A321",
          "reg": "TC-JRR"
         },
         "airline": {
          "iata": "TK",
          "icao": "THY",
          "name": "Turkish"
         },
         "arrival": {
          "actualTimeLocal": "2023-04-04 21:14+02:00",
          "actualTimeUtc": "2023-04-04 19:14Z",
          "quality": [
           "Basic",
           "Live"
          ],
          "revisedTime": {
           "local": "2023-04-04 21:14+02:00",
           "utc": "2023-04-04 19:14Z"
          },
          "scheduledTime": {
           "local": "2023-04-04 21:30+02:00",
           "utc": "2023-04-04 19:30Z"
          },
          "scheduledTimeLocal": "2023-04-04 21:30+02:00",
          "scheduledTimeUtc": "2023-04-04 19:30Z",
          "terminal": "1"
         },
         "callSign": "THY8ZE",
         "codeshareStatus": "IsOperator",
         "departure": {
          "actualTimeLocal": "2023-04-04 19:35+03:00",
          "actualTimeUtc": "2023-04-04 16:35Z",
          "airport": {
           "iata": "IST",
           "icao": "LTFM",
           "name": "Istanbul"
          },
          "gate": "A6A",
          "quality": [
           "Basic",
           "Live"
          ],
          "revisedTime": {
           "local": "2023-04-04 19:35+03:00",
           "utc": "2023-04-04 16:35Z"
          },
          "scheduledTime": {
           "local": "2023-04-04 19:35+03:00",
           "utc": "2023-04-04 16:35Z"
          },
          "scheduledTimeLocal": "2023-04-04 19:35+03:00",
          "scheduledTimeUtc": "2023-04-04 16:35Z"
         },
         "isCargo": false,
         "number": "TK 1727",
         "status": "Approaching"
        },
        {
         "aircraft": {
          "modeS": "4B1699",
          "model": "Airbus A321",
          "reg": "HB-ION"
         },
         "airline": {
          "iata": "LX",
          "icao": "SWR",
          "name": "SWISS"
         },
         "arrival": {
          "quality": [
           "Basic"
          ],
          "scheduledTime": {
           "local": "2023-04-04 22:20+02:00",
           "utc": "2023-04-04 20:20Z"
          },
          "scheduledTimeLocal": "2023-04-04 22:20+02:00",
          "scheduledTimeUtc": "2023-04-04 20:20Z",
          "terminal": "1"
         },
         "callSign": "SWR85D",
         "codeshareStatus": "Unknown",
         "departure": {
          "actualTimeLocal": "2023-04-04 21:15+02:00",
          "actualTimeUtc": "2023-04-04 19:15Z",
          "airport": {
           "iata": "ZRH",
           "icao": "LSZH",
           "name": "Zurich"
          },
          "checkInDesk": "1",
          "gate": "A83",
          "quality": [
           "Basic",
           "Live"
          ],
          "revisedTime": {
           "local": "2023-04-04 21:15+02:00",
           "utc": "2023-04-04 19:15Z"
          },
          "runwayTime": {
           "local": "2023-04-04 21:30+02:00",
           "utc": "2023-04-04 19:30Z"
          },
          "runwayTimeLocal": "2023-04-04 21:30+02:00",
          "runwayTimeUtc": "2023-04-04 19:30Z",
          "scheduledTime": {
           "local": "2023-04-04 20:55+02:00",
           "utc": "2023-04-04 18:55Z"
          },
          "scheduledTimeLocal": "2023-04-04 20:55+02:00",
          "scheduledTimeUtc": "2023-04-04 18:55Z"
         },
         "isCargo": false,
         "number": "LX 962",
         "status": "Expected"
        },
        {
         "aircraft": {
          "modeS": "4D2248",
          "model": "Boeing 737-800",
          "reg": "9H-QCR"
         },
         "airline": {
          "iata": "FR",
          "icao": "RYR",
          "name": "Ryanair"
         },
         "arrival": {
          "actualTimeLocal": "2023-04-04 22:12+02:00",
          "actualTimeUtc": "2023-04-04 20:12Z",
          "quality": [
           "Basic",
           "Live"
          ],
          "revisedTime": {
           "local": "2023-04-04 22:12+02:00",
           "utc": "2023-04-04 20:12Z"
          },
          "runwayTime": {
           "local": "2023-04-04 22:10+02:00",
           "utc": "2023-04-04 20:10Z"
          },
          "runwayTimeLocal": "2023-04-04 22:10+02:00",
          "runwayTimeUtc": "2023-04-04 20:10Z",
          "scheduledTime": {
           "local": "2023-04-04 21:55+02:00",
           "utc": "2023-04-04 19:55Z"
          },
          "scheduledTimeLocal": "2023-04-04 21:55+02:00",
          "scheduledTimeUtc": "2023-04-04 19:55Z",
          "terminal": "0"
         },
         "callSign": "RYR85WF",
         "codeshareStatus": "IsOperator",
         "departure": {
          "actualTimeLocal": "2023-04-04 20:28+01:00",
          "actualTimeUtc": "2023-04-04 19:28Z",
          "airport": {
           "iata": "STN",
           "icao": "EGSS",
           "name": "London"
          },
          "gate": "50",
          "quality": [
           "Basic",
           "Live"
          ],
          "revisedTime": {
           "local": "2023-04-04 20:28+01:00",
           "utc": "2023-04-04 19:28Z"
          },
          "scheduledTime": {
           "local": "2023-04-04 19:15+01:00",
           "utc": "2023-04-04 18:15Z"
          },
          "scheduledTimeLocal": "2023-04-04 19:15+01:00",
          "scheduledTimeUtc": "2023-04-04 18:15Z",
          "terminal": "1"
         },
         "isCargo": false,
         "number": "FR 176",
         "status": "Arrived"
        },
        {
         "aircraft": {
          "model": "Airbus A320"
         },
         "airline": {
          "iata": "U2",
          "icao": "EZY",
          "name": "easyJet"
         },
         "arrival": {
          "quality": [
           "Basic"
          ],
          "scheduledTime": {
           "local": "2023-04-04 22:15+02:00",
           "utc": "2023-04-04 20:15Z"
          },
          "scheduledTimeLocal": "2023-04-04 22:15+02:00",
          "scheduledTimeUtc": "2023-04-04 20:15Z",
          "terminal": "1"
         },
         "codeshareStatus": "Unknown",
         "departure": {
          "airport": {
           "iata": "HRG",
           "icao": "HEGN",
           "name": "Hurghada"
          },
          "quality": [
           "Basic"
          ],
          "scheduledTime": {
           "local": "2023-04-04 17:05+02:00",
           "utc": "2023-04-04 15:05Z"
          },
          "scheduledTimeLocal": "2023-04-04 17:05+02:00",
          "scheduledTimeUtc": "2023-04-04 15:05Z",
          "terminal": "1"
         },
         "isCargo": false,
         "number": "U2 5370",
         "status": "Unknown"
        },
        {
         "aircraft": {
          "modeS": "44CDCC",
          "model": "Airbus A320",
          "reg": "OO-SNL"
         },
         "airline": {
          "iata": "SN",
          "icao": "BEL",
          "name": "Brussels"
         },
         "arrival": {
          "actualTimeLocal": "2023-04-04 22:22+02:00",
          "actualTimeUtc": "2023-04-04 20:22Z",
          "quality": [
           "Basic",
           "Live"
          ],
          "revisedTime": {
           "local": "2023-04-04 22:22+02:00",
           "utc": "2023-04-04 20:22Z"
          },
          "runwayTime": {
           "local": "2023-04-04 22:17+02:00",
           "utc": "2023-04-04 20:17Z"
          },
          "runwayTimeLocal": "2023-04-04 22:17+02:00",
          "runwayTimeUtc": "2023-04-04 20:17Z",
          "scheduledTime": {
           "local": "2023-04-04 22:15+02:00",
           "utc": "2023-04-04 20:15Z"
          },
          "scheduledTimeLocal": "2023-04-04 22:15+02:00",
          "scheduledTimeUtc": "2023-04-04 20:15Z",
          "terminal": "1"
         },
         "callSign": "BEL1ZK",
         "codeshareStatus": "IsOperator",
         "departure": {
          "actualTimeLocal": "2023-04-04 21:17+02:00",
          "actualTimeUtc": "2023-04-04 19:17Z",
          "airport": {
           "iata": "BRU",
           "icao": "EBBR",
           "name": "Brussels"
          },
          "checkInDesk": "05",
          "quality": [
           "Basic",
           "Live"
          ],
          "revisedTime": {
           "local": "2023-04-04 21:17+02:00",
           "utc": "2023-04-04 19:17Z"
          },
          "runwayTime": {
           "local": "2023-04-04 21:18+02:00",
           "utc": "2023-04-04 19:18Z"
          },
          "runwayTimeLocal": "2023-04-04 21:18+02:00",
          "runwayTimeUtc": "2023-04-04 19:18Z",
          "scheduledTime": {
           "local": "2023-04-04 20:50+02:00",
           "utc": "2023-04-04 18:50Z"
          },
          "scheduledTimeLocal": "2023-04-04 20:50+02:00",
          "scheduledTimeUtc": "2023-04-04 18:50Z"
         },
         "isCargo": false,
         "number": "SN 2591",
         "status": "Arrived"
        },
        {
         "aircraft": {
          "modeS": "406222",
          "model": "Embraer 190",
          "reg": "G-LCYJ"
         },
         "airline": {
          "iata": "BA",
          "icao": "BAW",
          "name": "British Airways"
         },
         "arrival": {
          "actualTimeLocal": "2023-04-04 21:45+02:00",
          "actualTimeUtc": "2023-04-04 19:45Z",
          "quality": [
           "Basic",
           "Live"
          ],
          "revisedTime": {
           "local": "2023-04-04 21:45+02:00",
           "utc": "2023-04-04 19:45Z"
          },
          "runwayTime": {
           "local": "2023-04-04 21:37+02:00",
           "utc": "2023-04-04 19:37Z"
          },
          "runwayTimeLocal": "2023-04-04 21:37+02:00",
          "runwayTimeUtc": "2023-04-04 19:37Z",
          "scheduledTime": {
           "local": "2023-04-04 21:15+02:00",
           "utc": "2023-04-04 19:15Z"
          },
          "scheduledTimeLocal": "2023-04-04 21:15+02:00",
          "scheduledTimeUtc": "2023-04-04 19:15Z",
          "terminal": "1"
         },
         "callSign": "CFE8495",
         "codeshareStatus": "IsOperator",
         "departure": {
          "actualTimeLocal": "2023-04-04 19:14+01:00",
          "actualTimeUtc": "2023-04-04 18:14Z",
          "airport": {
           "iata": "LCY",
           "icao": "EGLC",
           "name": "London"
          },
          "gate": "8",
          "quality": [
           "Basic",
           "Live"
          ],
          "revisedTime": {
           "local": "2023-04-04 19:14+01:00",
           "utc": "2023-04-04 18:14Z"
          },
          "runwayTime": {
           "local": "2023-04-04 19:15+01:00",
           "utc": "2023-04-04 18:15Z"
          },
          "runwayTimeLocal": "2023-04-04 19:15+01:00",
          "runwayTimeUtc": "2023-04-04 18:15Z",
          "scheduledTime": {
           "local": "2023-04-04 18:30+01:00",
           "utc": "2023-04-04 17:30Z"
          },
          "scheduledTimeLocal": "2023-04-04 18:30+01:00",
          "scheduledTimeUtc": "2023-04-04 17:30Z"
         },
         "isCargo": false,
         "number": "BA 8495",
         "status": "Arrived"
        },
        {
         "aircraft": {
          "modeS": "3C6741",
          "model": "Airbus A320",
          "reg": "D-AIZA"
         },
         "airline": {
          "iata": "LH",
          "icao": "DLH",
          "name": "Lufthansa"
         },
         "arrival": {
          "quality": [
           "Basic"
          ],
          "scheduledTime": {
           "local": "2023-04-04 22:35+02:00",
           "utc": "2023-04-04 20:35Z"
          },
          "scheduledTimeLocal": "2023-04-04 22:35+02:00",
          "scheduledTimeUtc": "2023-04-04 20:35Z",
          "terminal": "1"
         },
         "callSign": "DLH4T",
         "codeshareStatus": "Unknown",
         "departure": {
          "actualTimeLocal": "2023-04-04 21:30+02:00",
          "actualTimeUtc": "2023-04-04 19:30Z",
          "airport": {
           "iata": "MUC",
           "icao": "EDDM",
           "name": "Munich"
          },
          "quality": [
           "Basic",
           "Live"
          ],
          "revisedTime": {
           "local": "2023-04-04 21:30+02:00",
           "utc": "2023-04-04 19:30Z"
          },
          "runwayTime": {
           "local": "2023-04-04 21:47+02:00",
           "utc": "2023-04-04 19:47Z"
          },
          "runwayTimeLocal": "2023-04-04 21:47+02:00",
          "runwayTimeUtc": "2023-04-04 19:47Z",
          "scheduledTime": {
           "local": "2023-04-04 21:30+02:00",
           "utc": "2023-04-04 19:30Z"
          },
          "scheduledTimeLocal": "2023-04-04 21:30+02:00",
          "scheduledTimeUtc": "2023-04-04 19:30Z",
          "terminal": "2"
         },
         "isCargo": false,
         "number": "LH 1962",
         "status": "Expected"
        },
        {
         "aircraft": {
          "modeS": "39E682",
          "model": "Airbus A220-300",
          "reg": "F-HZUC"
         },
         "airline": {
          "iata": "AF",
          "icao": "AFR",
          "name": "Air France"
         },
         "arrival": {
          "quality": [
           "Basic"
          ],
          "scheduledTime": {
           "local": "2023-04-04 22:40+02:00",
           "utc": "2023-04-04 20:40Z"
          },
          "scheduledTimeLocal": "2023-04-04 22:40+02:00",
          "scheduledTimeUtc": "2023-04-04 20:40Z",
          "terminal": "1"
         },
         "callSign": "AFR98VY",
         "codeshareStatus": "Unknown",
         "departure": {
          "actualTimeLocal": "2023-04-04 21:20+02:00",
          "actualTimeUtc": "2023-04-04 19:20Z",
          "airport": {
           "iata": "CDG",
           "icao": "LFPG",
           "name": "Paris"
          },
          "quality": [
           "Basic",
           "Live"
          ],
          "revisedTime": {
           "local": "2023-04-04 21:20+02:00",
           "utc": "2023-04-04 19:20Z"
          },
          "runwayTime": {
           "local": "2023-04-04 21:20+02:00",
           "utc": "2023-04-04 19:20Z"
          },
          "runwayTimeLocal": "2023-04-04 21:20+02:00",
          "runwayTimeUtc": "2023-04-04 19:20Z",
          "scheduledTime": {
           "local": "2023-04-04 20:55+02:00",
           "utc": "2023-04-04 18:55Z"
          },
          "scheduledTimeLocal": "2023-04-04 20:55+02:00",
          "scheduledTimeUtc": "2023-04-04 18:55Z",
          "terminal": "2F"
         },
         "isCargo": false,
         "number": "AF 1134",
         "status": "Expected"
        },
        {
         "aircraft": {
          "modeS": "4076E2",
          "model": "Airbus A321",
          "reg": "G-NEOT"
         },
         "airline": {
          "iata": "BA",
          "icao": "BAW",
          "name": "British Airways"
         },
         "arrival": {
          "actualTimeLocal": "2023-04-04 22:22+02:00",
          "actualTimeUtc": "2023-04-04 20:22Z",
          "quality": [
           "Basic",
           "Live"
          ],
          "revisedTime": {
           "local": "2023-04-04 22:22+02:00",
           "utc": "2023-04-04 20:22Z"
          },
          "runwayTime": {
           "local": "2023-04-04 22:18+02:00",
           "utc": "2023-04-04 20:18Z"
          },
          "runwayTimeLocal": "2023-04-04 22:18+02:00",
          "runwayTimeUtc": "2023-04-04 20:18Z",
          "scheduledTime": {
           "local": "2023-04-04 22:30+02:00",
           "utc": "2023-04-04 20:30Z"
          },
          "scheduledTimeLocal": "2023-04-04 22:30+02:00",
          "scheduledTimeUtc": "2023-04-04 20:30Z",
          "terminal": "1"
         },
         "callSign": "BAW988",
         "codeshareStatus": "IsOperator",
         "departure": {
          "actualTimeLocal": "2023-04-04 19:54+01:00",
          "actualTimeUtc": "2023-04-04 18:54Z",
          "airport": {
           "iata": "LHR",
           "icao": "EGLL",
           "name": "London"
          },
          "checkInDesk": "D",
          "quality": [
           "Basic",
           "Live"
          ],
          "revisedTime": {
           "local": "2023-04-04 19:54+01:00",
           "utc": "2023-04-04 18:54Z"
          },
          "runwayTime": {
           "local": "2023-04-04 19:56+01:00",
           "utc": "2023-04-04 18:56Z"
          },
          "runwayTimeLocal": "2023-04-04 19:56+01:00",
          "runwayTimeUtc": "2023-04-04 18:56Z",
          "scheduledTime": {
           "local": "2023-04-04 19:35+01:00",
           "utc": "2023-04-04 18:35Z"
          },
          "scheduledTimeLocal": "2023-04-04 19:35+01:00",
          "scheduledTimeUtc": "2023-04-04 18:35Z",
          "terminal": "5"
         },
         "isCargo": false,
         "number": "BA 988",
         "status": "Arrived"
        },
        {
         "aircraft": {
          "modeS": "3C49D4",
          "model": "Airbus A320",
          "reg": "D-ABNT"
         },
         "airline": {
          "iata": "EW",
          "icao": "EWG",
          "name": "Eurowings"
         },
         "arrival": {
          "actualTimeLocal": "2023-04-04 22:54+02:00",
          "actualTimeUtc": "2023-04-04 20:54Z",
          "quality": [
           "Basic",
           "Live"
          ],
          "revisedTime": {
           "local": "2023-04-04 22:54+02:00",
           "utc": "2023-04-04 20:54Z"
          },
          "scheduledTime": {
           "local": "2023-04-04 21:30+02:00",
           "utc": "2023-04-04 19:30Z"
          },
          "scheduledTimeLocal": "2023-04-04 21:30+02:00",
          "scheduledTimeUtc": "2023-04-04 19:30Z",
          "terminal": "1"
         },
         "callSign": "EWG5CH",
         "codeshareStatus": "IsOperator",
         "departure": {
          "actualTimeLocal": "2023-04-04 15:55+01:00",
          "actualTimeUtc": "2023-04-04 14:55Z",
          "airport": {
           "iata": "ACE",
           "icao": "GCRR",
           "name": "Lanzarote Island"
          },
          "checkInDesk": "11-19",
          "gate": "9",
          "quality": [
           "Basic",
           "Live"
          ],
          "revisedTime": {
           "local": "2023-04-04 15:55+01:00",
           "utc": "2023-04-04 14:55Z"
          },
          "scheduledTime": {
           "local": "2023-04-04 15:45+01:00",
           "utc": "2023-04-04 14:45Z"
          },
          "scheduledTimeLocal": "2023-04-04 15:45+01:00",
          "scheduledTimeUtc": "2023-04-04 14:45Z",
          "terminal": "1"
         },
         "isCargo": false,
         "number": "EW 8371",
         "status": "Approaching"
        },
        {
         "aircraft": {
          "modeS": "3CE067",
          "model": "Dornier Do 328",
          "reg": "D-CMHB"
         },
         "airline": {
          "iata": "M2",
          "icao": "MHV",
          "name": "MHS Aviation"
         },
         "arrival": {
          "actualTimeLocal": "2023-04-04 22:55+02:00",
          "actualTimeUtc": "2023-04-04 20:55Z",
          "quality": [
           "Basic",
           "Live"
          ],
          "revisedTime": {
           "local": "2023-04-04 22:55+02:00",
           "utc": "2023-04-04 20:55Z"
          },
          "runwayTime": {
           "local": "2023-04-04 22:51+02:00",
           "utc": "2023-04-04 20:51Z"
          },
          "runwayTimeLocal": "2023-04-04 22:51+02:00",
          "runwayTimeUtc": "2023-04-04 20:51Z",
          "scheduledTime": {
           "local": "2023-04-04 22:51+02:00",
           "utc": "2023-04-04 20:51Z"
          },
          "scheduledTimeLocal": "2023-04-04 22:51+02:00",
          "scheduledTimeUtc": "2023-04-04 20:51Z"
         },
         "callSign": "MHV1905",
         "codeshareStatus": "IsOperator",
         "departure": {
          "airport": {
           "name": "Unknown"
          },
          "quality": []
         },
         "isCargo": false,
         "number": "M2 1905",
         "status": "Arrived"
        },
        {
         "aircraft": {
          "modeS": "3C64A1",
          "model": "Airbus A321",
          "reg": "D-AIEA"
         },
         "airline": {
          "iata": "LH",
          "icao": "DLH",
          "name": "Lufthansa"
         },
         "arrival": {
          "actualTimeLocal": "2023-04-04 22:56+02:00",
          "actualTimeUtc": "2023-04-04 20:56Z",
          "quality": [
           "Basic",
           "Live"
          ],
          "revisedTime": {
           "local": "2023-04-04 22:56+02:00",
           "utc": "2023-04-04 20:56Z"
          },
          "runwayTime": {
           "local": "2023-04-04 22:46+02:00",
           "utc": "2023-04-04 20:46Z"
          },
          "runwayTimeLocal": "2023-04-04 22:46+02:00",
          "runwayTimeUtc": "2023-04-04 20:46Z",
          "scheduledTime": {
           "local": "2023-04-04 22:25+02:00",
           "utc": "2023-04-04 20:25Z"
          },
          "scheduledTimeLocal": "2023-04-04 22:25+02:00",
          "scheduledTimeUtc": "2023-04-04 20:25Z",
          "terminal": "1"
         },
         "callSign": "DLH4RV",
         "codeshareStatus": "IsOperator",
         "departure": {
          "actualTimeLocal": "2023-04-04 21:40+02:00",
          "actualTimeUtc": "2023-04-04 19:40Z",
          "airport": {
           "iata": "FRA",
           "icao": "EDDF",
           "name": "Frankfurt-am-Main"
          },
          "checkInDesk": "326-542",
          "gate": "A50",
          "quality": [
           "Basic",
           "Live"
          ],
          "revisedTime": {
           "local": "2023-04-04 21:40+02:00",
           "utc": "2023-04-04 19:40Z"
          },
          "runwayTime": {
           "local": "2023-04-04 22:06+02:00",
           "utc": "2023-04-04 20:06Z"
          },
          "runwayTimeLocal": "2023-04-04 22:06+02:00",
          "runwayTimeUtc": "2023-04-04 20:06Z",
          "scheduledTime": {
           "local": "2023-04-04 21:15+02:00",
           "utc": "2023-04-04 19:15Z"
          },
          "scheduledTimeLocal": "2023-04-04 21:15+02:00",
          "scheduledTimeUtc": "2023-04-04 19:15Z",
          "terminal": "1"
         },
         "isCargo": false,
         "number": "LH 202",
         "status": "Arrived"
        },
        {
         "aircraft": {
          "model": "Airbus A320"
         },
         "airline": {
          "iata": "U2",
          "icao": "EZY",
          "name": "easyJet"
         },
         "arrival": {
          "quality": [
           "Basic"
          ],
          "scheduledTime": {
           "local": "2023-04-04 22:30+02:00",
           "utc": "2023-04-04 20:30Z"
          },
          "scheduledTimeLocal": "2023-04-04 22:30+02:00",
          "scheduledTimeUtc": "2023-04-04 20:30Z",
          "terminal": "1"
         },
         "codeshareStatus": "Unknown",
         "departure": {
          "actualTimeLocal": "2023-04-04 20:17+02:00",
          "actualTimeUtc": "2023-04-04 18:17Z",
          "airport": {
           "iata": "PMI",
           "icao": "LEPA",
           "name": "Palma De Mallorca"
          },
          "checkInDesk": "082-085",
          "gate": "C46",
          "quality": [
           "Basic",
           "Live"
          ],
          "revisedTime": {
           "local": "2023-04-04 20:17+02:00",
           "utc": "2023-04-04 18:17Z"
          },
          "scheduledTime": {
           "local": "2023-04-04 19:35+02:00",
           "utc": "2023-04-04 17:35Z"
          },
          "scheduledTimeLocal": "2023-04-04 19:35+02:00",
          "scheduledTimeUtc": "2023-04-04 17:35Z",
          "terminal": "N"
         },
         "isCargo": false,
         "number": "U2 5122",
         "status": "Expected"
        },
        {
         "aircraft": {
          "modeS": "7103E8",
          "model": "Gulfstream Aerospace IV",
          "reg": "HZ-MS4B"
         },
         "airline": {
          "name": "MEDVC"
         },
         "arrival": {
          "actualTimeLocal": "2023-04-04 23:23+02:00",
          "actualTimeUtc": "2023-04-04 21:23Z",
          "quality": [
           "Basic",
           "Live"
          ],
          "revisedTime": {
           "local": "2023-04-04 23:23+02:00",
           "utc": "2023-04-04 21:23Z"
          },
          "runwayTime": {
           "local": "2023-04-04 23:21+02:00",
           "utc": "2023-04-04 21:21Z"
          },
          "runwayTimeLocal": "2023-04-04 23:21+02:00",
          "runwayTimeUtc": "2023-04-04 21:21Z",
          "scheduledTime": {
           "local": "2023-04-04 23:23+02:00",
           "utc": "2023-04-04 21:23Z"
          },
          "scheduledTimeLocal": "2023-04-04 23:23+02:00",
          "scheduledTimeUtc": "2023-04-04 21:23Z"
         },
         "callSign": "MEDVC4B",
         "codeshareStatus": "IsOperator",
         "departure": {
          "airport": {
           "name": "Unknown"
          },
          "quality": []
         },
         "isCargo": false,
         "number": "MEDVC 4B",
         "status": "Arrived"
        },
        {
         "aircraft": {
          "modeS": "4D2223",
          "model": "Boeing 737-800",
          "reg": "9H-QEK"
         },
         "airline": {
          "iata": "FR",
          "icao": "RYR",
          "name": "Ryanair"
         },
         "arrival": {
          "actualTimeLocal": "2023-04-04 23:36+02:00",
          "actualTimeUtc": "2023-04-04 21:36Z",
          "quality": [
           "Basic",
           "Live"
          ],
          "revisedTime": {
           "local": "2023-04-04 23:36+02:00",
           "utc": "2023-04-04 21:36Z"
          },
          "scheduledTime": {
           "local": "2023-04-04 23:00+02:00",
           "utc": "2023-04-04 21:00Z"
          },
          "scheduledTimeLocal": "2023-04-04 23:00+02:00",
          "scheduledTimeUtc": "2023-04-04 21:00Z",
          "terminal": "0"
         },
         "callSign": "RYR40ZG",
         "codeshareStatus": "IsOperator",
         "departure": {
          "actualTimeLocal": "2023-04-04 22:32+02:00",
          "actualTimeUtc": "2023-04-04 20:32Z",
          "airport": {
           "iata": "BUD",
           "icao": "LHBP",
           "name": "Budapest"
          },
          "quality": [
           "Basic",
           "Live"
          ],
          "revisedTime": {
           "local": "2023-04-04 22:32+02:00",
           "utc": "2023-04-04 20:32Z"
          },
          "runwayTime": {
           "local": "2023-04-04 22:33+02:00",
           "utc": "2023-04-04 20:33Z"
          },
          "runwayTimeLocal": "2023-04-04 22:33+02:00",
          "runwayTimeUtc": "2023-04-04 20:33Z",
          "scheduledTime": {
           "local": "2023-04-04 21:30+02:00",
           "utc": "2023-04-04 19:30Z"
          },
          "scheduledTimeLocal": "2023-04-04 21:30+02:00",
          "scheduledTimeUtc": "2023-04-04 19:30Z",
          "terminal": "2B"
         },
         "isCargo": false,
         "number": "FR 197",
         "status": "Approaching"
        },
        {
         "aircraft": {
          "modeS": "4402F1",
          "model": "Airbus A320",
          "reg": "OE-INP"
         },
         "airline": {
          "iata": "U2",
          "icao": "EZY",
          "name": "easyJet"
         },
         "arrival": {
          "actualTimeLocal": "2023-04-04 23:59+02:00",
          "actualTimeUtc": "2023-04-04 21:59Z",
          "quality": [
           "Basic",
           "Live"
          ],
          "revisedTime": {
           "local": "2023-04-04 23:59+02:00",
           "utc": "2023-04-04 21:59Z"
          },
          "runwayTime": {
           "local": "2023-04-04 23:54+02:00",
           "utc": "2023-04-04 21:54Z"
          },
          "runwayTimeLocal": "2023-04-04 23:54+02:00",
          "runwayTimeUtc": "2023-04-04 21:54Z",
          "scheduledTime": {
           "local": "2023-04-04 22:55+02:00",
           "utc": "2023-04-04 20:55Z"
          },
          "scheduledTimeLocal": "2023-04-04 22:55+02:00",
          "scheduledTimeUtc": "2023-04-04 20:55Z",
          "terminal": "1"
         },
         "callSign": "EJU79NF",
         "codeshareStatus": "IsOperator",
         "departure": {
          "actualTimeLocal": "2023-04-04 18:26+01:00",
          "actualTimeUtc": "2023-04-04 17:26Z",
          "airport": {
           "iata": "FNC",
           "icao": "LPMA",
           "name": "Funchal"
          },
          "quality": [
           "Basic",
           "Live"
          ],
          "revisedTime": {
           "local": "2023-04-04 18:26+01:00",
           "utc": "2023-04-04 17:26Z"
          },
          "scheduledTime": {
           "local": "2023-04-04 17:20+01:00",
           "utc": "2023-04-04 16:20Z"
          },
          "scheduledTimeLocal": "2023-04-04 17:20+01:00",
          "scheduledTimeUtc": "2023-04-04 16:20Z",
          "terminal": "1"
         },
         "isCargo": false,
         "number": "U2 5334",
         "status": "Arrived"
        },
        {
         "aircraft": {
          "modeS": "440128",
          "model": "Airbus A320",
          "reg": "OE-IJZ"
         },
         "airline": {
          "iata": "U2",
          "icao": "EZY",
          "name": "easyJet"
         },
         "arrival": {
          "actualTimeLocal": "2023-04-04 22:22+02:00",
          "actualTimeUtc": "2023-04-04 20:22Z",
          "quality": [
           "Basic",
           "Live"
          ],
          "revisedTime": {
           "local": "2023-04-04 22:22+02:00",
           "utc": "2023-04-04 20:22Z"
          },
          "scheduledTime": {
           "local": "2023-04-04 22:25+02:00",
           "utc": "2023-04-04 20:25Z"
          },
          "scheduledTimeLocal": "2023-04-04 22:25+02:00",
          "scheduledTimeUtc": "2023-04-04 20:25Z",
          "terminal": "1"
         },
         "callSign": "EJU34XM",
         "codeshareStatus": "IsOperator",
         "departure": {
          "actualTimeLocal": "2023-04-04 21:40+02:00",
          "actualTimeUtc": "2023-04-04 19:40Z",
          "airport": {
           "iata": "CPH",
           "icao": "EKCH",
           "name": "Copenhagen"
          },
          "gate": "F6",
          "quality": [
           "Basic",
           "Live"
          ],
          "revisedTime": {
           "local": "2023-04-04 21:40+02:00",
           "utc": "2023-04-04 19:40Z"
          },
          "runwayTime": {
           "local": "2023-04-04 21:41+02:00",
           "utc": "2023-04-04 19:41Z"
          },
          "runwayTimeLocal": "2023-04-04 21:41+02:00",
          "runwayTimeUtc": "2023-04-04 19:41Z",
          "scheduledTime": {
           "local": "2023-04-04 21:20+02:00",
           "utc": "2023-04-04 19:20Z"
          },
          "scheduledTimeLocal": "2023-04-04 21:20+02:00",
          "scheduledTimeUtc": "2023-04-04 19:20Z",
          "terminal": "2"
         },
         "isCargo": false,
         "number": "U2 5268",
         "status": "Approaching"
        },
        {
         "aircraft": {
          "model": "Airbus A320"
         },
         "airline": {
          "iata": "IB",
          "icao": "IBE",
          "name": "Iberia"
         },
         "arrival": {
          "quality": [
           "Basic"
          ],
          "scheduledTime": {
           "local": "2023-04-04 23:00+02:00",
           "utc": "2023-04-04 21:00Z"
          },
          "scheduledTimeLocal": "2023-04-04 23:00+02:00",
          "scheduledTimeUtc": "2023-04-04 21:00Z",
          "terminal": "1"
         },
         "codeshareStatus": "Unknown",
         "departure": {
          "actualTimeLocal": "2023-04-04 20:04+02:00",
          "actualTimeUtc": "2023-04-04 18:04Z",
          "airport": {
           "iata": "MAD",
           "icao": "LEMD",
           "name": "Madrid"
          },
          "checkInDesk": "850-859",
          "gate": "H22",
          "quality": [
           "Basic",
           "Live"
          ],
          "revisedTime": {
           "local": "2023-04-04 20:04+02:00",
           "utc": "2023-04-04 18:04Z"
          },
          "scheduledTime": {
           "local": "2023-04-04 20:00+02:00",
           "utc": "2023-04-04 18:00Z"
          },
          "scheduledTimeLocal": "2023-04-04 20:00+02:00",
          "scheduledTimeUtc": "2023-04-04 18:00Z",
          "terminal": "4"
         },
         "isCargo": false,
         "number": "IB 3674",
         "status": "Expected"
        },
        {
         "aircraft": {
          "modeS": "4400E3",
          "model": "Airbus A320",
          "reg": "OE-IVS"
         },
         "airline": {
          "iata": "U2",
          "icao": "EZY",
          "name": "easyJet"
         },
         "arrival": {
          "actualTimeLocal": "2023-04-04 22:43+02:00",
          "actualTimeUtc": "2023-04-04 20:43Z",
          "quality": [
           "Basic",
           "Live"
          ],
          "revisedTime": {
           "local": "2023-04-04 22:43+02:00",
           "utc": "2023-04-04 20:43Z"
          },
          "runwayTime": {
           "local": "2023-04-04 22:39+02:00",
           "utc": "2023-04-04 20:39Z"
          },
          "runwayTimeLocal": "2023-04-04 22:39+02:00",
          "runwayTimeUtc": "2023-04-04 20:39Z",
          "scheduledTime": {
           "local": "2023-04-04 22:45+02:00",
           "utc": "2023-04-04 20:45Z"
          },
          "scheduledTimeLocal": "2023-04-04 22:45+02:00",
          "scheduledTimeUtc": "2023-04-04 20:45Z",
          "terminal": "1"
         },
         "callSign": "EJU84TX",
         "codeshareStatus": "IsOperator",
         "departure": {
          "actualTimeLocal": "2023-04-04 21:14+02:00",
          "actualTimeUtc": "2023-04-04 19:14Z",
          "airport": {
           "iata": "GVA",
           "icao": "LSGG",
           "name": "Geneva"
          },
          "checkInDesk": "1-17",
          "gate": "A2",
          "quality": [
           "Basic",
           "Live"
          ],
          "revisedTime": {
           "local": "2023-04-04 21:14+02:00",
           "utc": "2023-04-04 19:14Z"
          },
          "runwayTime": {
           "local": "2023-04-04 21:16+02:00",
           "utc": "2023-04-04 19:16Z"
          },
          "runwayTimeLocal": "2023-04-04 21:16+02:00",
          "runwayTimeUtc": "2023-04-04 19:16Z",
          "scheduledTime": {
           "local": "2023-04-04 21:00+02:00",
           "utc": "2023-04-04 19:00Z"
          },
          "scheduledTimeLocal": "2023-04-04 21:00+02:00",
          "scheduledTimeUtc": "2023-04-04 19:00Z",
          "terminal": "1"
         },
         "isCargo": false,
         "number": "U2 5184",
         "status": "Arrived"
        },
        {
         "aircraft": {
          "model": "Boeing 787-8"
         },
         "airline": {
          "iata": "QR",
          "icao": "QTR",
          "name": "Qatar Airways"
         },
         "arrival": {
          "quality": [
           "Basic"
          ],
          "scheduledTime": {
           "local": "2023-04-05 06:55+02:00",
           "utc": "2023-04-05 04:55Z"
          },
          "scheduledTimeLocal": "2023-04-05 06:55+02:00",
          "scheduledTimeUtc": "2023-04-05 04:55Z",
          "terminal": "1"
         },
         "codeshareStatus": "Unknown",
         "departure": {
          "airport": {
           "iata": "DOH",
           "icao": "OTHH",
           "name": "Doha"
          },
          "quality": [
           "Basic"
          ],
          "scheduledTime": {
           "local": "2023-04-05 01:50+03:00",
           "utc": "2023-04-04 22:50Z"
          },
          "scheduledTimeLocal": "2023-04-05 01:50+03:00",
          "scheduledTimeUtc": "2023-04-04 22:50Z"
         },
         "isCargo": false,
         "number": "QR 79",
         "status": "Unknown"
        },
        {
         "aircraft": {
          "modeS": "4D2395",
          "model": "Airbus A320",
          "reg": "9H-AMM"
         },
         "airline": {
          "name": "Unknown/Private owner"
         },
         "arrival": {
          "actualTimeLocal": "2023-04-05 07:24+02:00",
          "actualTimeUtc": "2023-04-05 05:24Z",
          "quality": [
           "Basic",
           "Live"
          ],
          "revisedTime": {
           "local": "2023-04-05 07:24+02:00",
           "utc": "2023-04-05 05:24Z"
          },
          "runwayTime": {
           "local": "2023-04-05 07:16+02:00",
           "utc": "2023-04-05 05:16Z"
          },
          "runwayTimeLocal": "2023-04-05 07:16+02:00",
          "runwayTimeUtc": "2023-04-05 05:16Z",
          "scheduledTime": {
           "local": "2023-04-05 07:24+02:00",
           "utc": "2023-04-05 05:24Z"
          },
          "scheduledTimeLocal": "2023-04-05 07:24+02:00",
          "scheduledTimeUtc": "2023-04-05 05:24Z"
         },
         "callSign": "EWG2002",
         "codeshareStatus": "IsOperator",
         "departure": {
          "actualTimeLocal": "2023-04-05 06:21+02:00",
          "actualTimeUtc": "2023-04-05 04:21Z",
          "airport": {
           "iata": "STR",
           "icao": "EDDS",
           "name": "Stuttgart"
          },
          "quality": [
           "Basic",
           "Live"
          ],
          "revisedTime": {
           "local": "2023-04-05 06:21+02:00",
           "utc": "2023-04-05 04:21Z"
          },
          "runwayTime": {
           "local": "2023-04-05 06:21+02:00",
           "utc": "2023-04-05 04:21Z"
          },
          "runwayTimeLocal": "2023-04-05 06:21+02:00",
          "runwayTimeUtc": "2023-04-05 04:21Z",
          "scheduledTime": {
           "local": "2023-04-05 06:21+02:00",
           "utc": "2023-04-05 04:21Z"
          },
          "scheduledTimeLocal": "2023-04-05 06:21+02:00",
          "scheduledTimeUtc": "2023-04-05 04:21Z"
         },
         "isCargo": false,
         "number": "EWG 2002",
         "status": "Arrived"
        },
        {
         "aircraft": {
          "modeS": "3C4895",
          "model": "Airbus A320",
          "reg": "D-ABDU"
         },
         "airline": {
          "iata": "EW",
          "icao": "EWG",
          "name": "Eurowings"
         },
         "arrival": {
          "actualTimeLocal": "2023-04-05 07:32+02:00",
          "actualTimeUtc": "2023-04-05 05:32Z",
          "quality": [
           "Basic",
           "Live"
          ],
          "revisedTime": {
           "local": "2023-04-05 07:32+02:00",
           "utc": "2023-04-05 05:32Z"
          },
          "runwayTime": {
           "local": "2023-04-05 07:20+02:00",
           "utc": "2023-04-05 05:20Z"
          },
          "runwayTimeLocal": "2023-04-05 07:20+02:00",
          "runwayTimeUtc": "2023-04-05 05:20Z",
          "scheduledTime": {
           "local": "2023-04-05 07:30+02:00",
           "utc": "2023-04-05 05:30Z"
          },
          "scheduledTimeLocal": "2023-04-05 07:30+02:00",
          "scheduledTimeUtc": "2023-04-05 05:30Z",
          "terminal": "1"
         },
         "callSign": "EWG52FP",
         "codeshareStatus": "IsOperator",
         "departure": {
          "actualTimeLocal": "2023-04-05 06:21+02:00",
          "actualTimeUtc": "2023-04-05 04:21Z",
          "airport": {
           "iata": "DUS",
           "icao": "EDDL",
           "name": "Duesseldorf"
          },
          "checkInDesk": "153,170",
          "gate": "B72",
          "quality": [
           "Basic",
           "Live"
          ],
          "revisedTime": {
           "local": "2023-04-05 06:21+02:00",
           "utc": "2023-04-05 04:21Z"
          },
          "runwayTime": {
           "local": "2023-04-05 06:27+02:00",
           "utc": "2023-04-05 04:27Z"
          },
          "runwayTimeLocal": "2023-04-05 06:27+02:00",
          "runwayTimeUtc": "2023-04-05 04:27Z",
          "scheduledTime": {
           "local": "2023-04-05 06:20+02:00",
           "utc": "2023-04-05 04:20Z"
          },
          "scheduledTimeLocal": "2023-04-05 06:20+02:00",
          "scheduledTimeUtc": "2023-04-05 04:20Z",
          "terminal": "B"
         },
         "isCargo": false,
         "number": "EW 9048",
         "status": "Arrived"
        },
        {
         "aircraft": {
          "modeS": "440057",
          "model": "Airbus A320",
          "reg": "OE-IVE"
         },
         "airline": {
          "iata": "U2",
          "icao": "EZY",
          "name": "easyJet"
         },
         "arrival": {
          "actualTimeLocal": "2023-04-05 07:33+02:00",
          "actualTimeUtc": "2023-04-05 05:33Z",
          "quality": [
           "Basic",
           "Live"
          ],
          "revisedTime": {
           "local": "2023-04-05 07:33+02:00",
           "utc": "2023-04-05 05:33Z"
          },
          "scheduledTime": {
           "local": "2023-04-05 07:50+02:00",
           "utc": "2023-04-05 05:50Z"
          },
          "scheduledTimeLocal": "2023-04-05 07:50+02:00",
          "scheduledTimeUtc": "2023-04-05 05:50Z",
          "terminal": "1"
         },
         "callSign": "EJU51KC",
         "codeshareStatus": "IsOperator",
         "departure": {
          "actualTimeLocal": "2023-04-05 06:09+02:00",
          "actualTimeUtc": "2023-04-05 04:09Z",
          "airport": {
           "iata": "CDG",
           "icao": "LFPG",
           "name": "Paris"
          },
          "quality": [
           "Basic",
           "Live"
          ],
          "revisedTime": {
           "local": "2023-04-05 06:09+02:00",
           "utc": "2023-04-05 04:09Z"
          },
          "runwayTime": {
           "local": "2023-04-05 06:09+02:00",
           "utc": "2023-04-05 04:09Z"
          },
          "runwayTimeLocal": "2023-04-05 06:09+02:00",
          "runwayTimeUtc": "2023-04-05 04:09Z",
          "scheduledTime": {
           "local": "2023-04-05 06:00+02:00",
           "utc": "2023-04-05 04:00Z"
          },
          "scheduledTimeLocal": "2023-04-05 06:00+02:00",
          "scheduledTimeUtc": "2023-04-05 04:00Z",
          "terminal": "2B"
         },
         "isCargo": false,
         "number": "U2 4631",
         "status": "Approaching"
        },
        {
         "aircraft": {
          "modeS": "4D2395",
          "model": "Airbus A320",
          "reg": "9H-AMM"
         },
         "airline": {
          "iata": "EW",
          "icao": "EWG",
          "name": "Eurowings"
         },
         "arrival": {
          "quality": [
           "Basic"
          ],
          "scheduledTime": {
           "local": "2023-04-05 07:15+02:00",
           "utc": "2023-04-05 05:15Z"
          },
          "scheduledTimeLocal": "2023-04-05 07:15+02:00",
          "scheduledTimeUtc": "2023-04-05 05:15Z",
          "terminal": "1"
         },
         "callSign": "EWG2002",
         "codeshareStatus": "Unknown",
         "departure": {
          "actualTimeLocal": "2023-04-05 06:05+02:00",
          "actualTimeUtc": "2023-04-05 04:05Z",
          "airport": {
           "iata": "STR",
           "icao": "EDDS",
           "name": "Stuttgart"
          },
          "gate": "321",
          "quality": [
           "Basic",
           "Live"
          ],
          "revisedTime": {
           "local": "2023-04-05 06:05+02:00",
           "utc": "2023-04-05 04:05Z"
          },
          "scheduledTime": {
           "local": "2023-04-05 06:05+02:00",
           "utc": "2023-04-05 04:05Z"
          },
          "scheduledTimeLocal": "2023-04-05 06:05+02:00",
          "scheduledTimeUtc": "2023-04-05 04:05Z",
          "terminal": "1"
         },
         "isCargo": false,
         "number": "EW 2002",
         "status": "Expected"
        },
        {
         "aircraft": {
          "modeS": "3C5EEF",
          "model": "Airbus A319",
          "reg": "D-AGWO"
         },
         "airline": {
          "iata": "EW",
          "icao": "EWG",
          "name": "Eurowings"
         },
         "arrival": {
          "actualTimeLocal": "2023-04-05 07:35+02:00",
          "actualTimeUtc": "2023-04-05 05:35Z",
          "quality": [
           "Basic",
           "Live"
          ],
          "revisedTime": {
           "local": "2023-04-05 07:35+02:00",
           "utc": "2023-04-05 05:35Z"
          },
          "runwayTime": {
           "local": "2023-04-05 07:30+02:00",
           "utc": "2023-04-05 05:30Z"
          },
          "runwayTimeLocal": "2023-04-05 07:30+02:00",
          "runwayTimeUtc": "2023-04-05 05:30Z",
          "scheduledTime": {
           "local": "2023-04-05 07:40+02:00",
           "utc": "2023-04-05 05:40Z"
          },
          "scheduledTimeLocal": "2023-04-05 07:40+02:00",
          "scheduledTimeUtc": "2023-04-05 05:40Z",
          "terminal": "1"
         },
         "callSign": "EWG5MK",
         "codeshareStatus": "IsOperator",
         "departure": {
          "airport": {
           "iata": "CGN",
           "icao": "EDDK",
           "name": "Cologne"
          },
          "quality": [
           "Basic"
          ],
          "scheduledTime": {
           "local": "2023-04-05 06:30+02:00",
           "utc": "2023-04-05 04:30Z"
          },
          "scheduledTimeLocal": "2023-04-05 06:30+02:00",
          "scheduledTimeUtc": "2023-04-05 04:30Z",
          "terminal": "1"
         },
         "isCargo": false,
         "number": "EW 12",
         "status": "Arrived"
        },
        {
         "aircraft": {
          "modeS": "3C6676",
          "model": "Airbus A321",
          "reg": "D-AISV"
         },
         "airline": {
          "iata": "LH",
          "icao": "DLH",
          "name": "Lufthansa"
         },
         "arrival": {
          "actualTimeLocal": "2023-04-05 07:36+02:00",
          "actualTimeUtc": "2023-04-05 05:36Z",
          "quality": [
           "Basic",
           "Live"
          ],
          "revisedTime": {
           "local": "2023-04-05 07:36+02:00",
           "utc": "2023-04-05 05:36Z"
          },
          "scheduledTime": {
           "local": "2023-04-05 07:55+02:00",
           "utc": "2023-04-05 05:55Z"
          },
          "scheduledTimeLocal": "2023-04-05 07:55+02:00",
          "scheduledTimeUtc": "2023-04-05 05:55Z",
          "terminal": "1"
         },
         "callSign": "DLH7CX",
         "codeshareStatus": "IsOperator",
         "departure": {
          "actualTimeLocal": "2023-04-05 06:45+02:00",
          "actualTimeUtc": "2023-04-05 04:45Z",
          "airport": {
           "iata": "FRA",
           "icao": "EDDF",
           "name": "Frankfurt-am-Main"
          },
          "checkInDesk": "326-542",
          "gate": "A20",
          "quality": [
           "Basic",
           "Live"
          ],
          "revisedTime": {
           "local": "2023-04-05 06:45+02:00",
           "utc": "2023-04-05 04:45Z"
          },
          "runwayTime": {
           "local": "2023-04-05 06:54+02:00",
           "utc": "2023-04-05 04:54Z"
          },
          "runwayTimeLocal": "2023-04-05 06:54+02:00",
          "runwayTimeUtc": "2023-04-05 04:54Z",
          "scheduledTime": {
           "local": "2023-04-05 06:45+02:00",
           "utc": "2023-04-05 04:45Z"
          },
          "scheduledTimeLocal": "2023-04-05 06:45+02:00",
          "scheduledTimeUtc": "2023-04-05 04:45Z",
          "terminal": "1"
         },
         "isCargo": false,
         "number": "LH 170",
         "status": "Approaching"
        },
        {
         "aircraft": {
          "modeS": "502D24",
          "model": "Airbus A220-300",
          "reg": "YL-AAV"
         },
         "airline": {
          "iata": "BT",
          "icao": "BTI",
          "name": "Air Baltic"
         },
         "arrival": {
          "quality": [
           "Basic"
          ],
          "scheduledTime": {
           "local": "2023-04-05 07:40+02:00",
           "utc": "2023-04-05 05:40Z"
          },
          "scheduledTimeLocal": "2023-04-05 07:40+02:00",
          "scheduledTimeUtc": "2023-04-05 05:40Z",
          "terminal": "1"
         },
         "callSign": "BTI74A",
         "codeshareStatus": "Unknown",
         "departure": {
          "actualTimeLocal": "2023-04-05 07:31+03:00",
          "actualTimeUtc": "2023-04-05 04:31Z",
          "airport": {
           "iata": "RIX",
           "icao": "EVRA",
           "name": "Riga"
          },
          "quality": [
           "Basic",
           "Live"
          ],
          "revisedTime": {
           "local": "2023-04-05 07:31+03:00",
           "utc": "2023-04-05 04:31Z"
          },
          "runwayTime": {
           "local": "2023-04-05 07:31+03:00",
           "utc": "2023-04-05 04:31Z"
          },
          "runwayTimeLocal": "2023-04-05 07:31+03:00",
          "runwayTimeUtc": "2023-04-05 04:31Z",
          "scheduledTime": {
           "local": "2023-04-05 07:05+03:00",
           "utc": "2023-04-05 04:05Z"
          },
          "scheduledTimeLocal": "2023-04-05 07:05+03:00",
          "scheduledTimeUtc": "2023-04-05 04:05Z"
         },
         "isCargo": false,
         "number": "BT 211",
         "status": "Expected"
        },
        {
         "aircraft": {
          "modeS": "4D240B",
          "model": "Airbus A320",
          "reg": "9H-EUT"
         },
         "airline": {
          "iata": "EW",
          "icao": "EWG",
          "name": "Eurowings"
         },
         "arrival": {
          "actualTimeLocal": "2023-04-05 07:40+02:00",
          "actualTimeUtc": "2023-04-05 05:40Z",
          "quality": [
           "Basic",
           "Live"
          ],
          "revisedTime": {
           "local": "2023-04-05 07:40+02:00",
           "utc": "2023-04-05 05:40Z"
          },
          "scheduledTime": {
           "local": "2023-04-05 07:40+02:00",
           "utc": "2023-04-05 05:40Z"
          },
          "scheduledTimeLocal": "2023-04-05 07:40+02:00",
          "scheduledTimeUtc": "2023-04-05 05:40Z",
          "terminal": "1"
         },
         "callSign": "EWG8WT",
         "codeshareStatus": "IsOperator",
         "departure": {
          "airport": {
           "iata": "SZG",
           "icao": "LOWS",
           "name": "Salzburg"
          },
          "quality": [
           "Basic"
          ],
          "scheduledTime": {
           "local": "2023-04-05 06:35+02:00",
           "utc": "2023-04-05 04:35Z"
          },
          "scheduledTimeLocal": "2023-04-05 06:35+02:00",
          "scheduledTimeUtc": "2023-04-05 04:35Z"
         },
         "isCargo": false,
         "number": "EW 4342",
         "status": "Approaching"
        },
        {
         "aircraft": {
          "modeS": "A8A4C7",
          "model": "Boeing 767-300",
          "reg": "N656UA"
         },
         "airline": {
          "iata": "UA",
          "icao": "UAL",
          "name": "United"
         },
         "arrival": {
          "actualTimeLocal": "2023-04-05 07:04+02:00",
          "actualTimeUtc": "2023-04-05 05:04Z",
          "quality": [
           "Basic",
           "Live"
          ],
          "revisedTime": {
           "local": "2023-04-05 07:04+02:00",
           "utc": "2023-04-05 05:04Z"
          },
          "scheduledTime": {
           "local": "2023-04-05 07:50+02:00",
           "utc": "2023-04-05 05:50Z"
          },
          "scheduledTimeLocal": "2023-04-05 07:50+02:00",
          "scheduledTimeUtc": "2023-04-05 05:50Z",
          "terminal": "1"
         },
         "callSign": "UAL962",
         "codeshareStatus": "IsOperator",
         "departure": {
          "actualTimeLocal": "2023-04-04 17:58-04:00",
          "actualTimeUtc": "2023-04-04 21:58Z",
          "airport": {
           "iata": "EWR",
           "icao": "KEWR",
           "name": "Newark"
          },
          "quality": [
           "Basic",
           "Live"
          ],
          "revisedTime": {
           "local": "2023-04-04 17:58-04:00",
           "utc": "2023-04-04 21:58Z"
          },
          "runwayTime": {
           "local": "2023-04-04 17:58-04:00",
           "utc": "2023-04-04 21:58Z"
          },
          "runwayTimeLocal": "2023-04-04 17:58-04:00",
          "runwayTimeUtc": "2023-04-04 21:58Z",
          "scheduledTime": {
           "local": "2023-04-04 17:40-04:00",
           "utc": "2023-04-04 21:40Z"
          },
          "scheduledTimeLocal": "2023-04-04 17:40-04:00",
          "scheduledTimeUtc": "2023-04-04 21:40Z",
          "terminal": "C"
         },
         "isCargo": false,
         "number": "UA 962",
         "status": "Approaching"
        },
        {
         "aircraft": {
          "model": "Boeing 737-800"
         },
         "airline": {
          "iata": "XQ",
          "icao": "SXS",
          "name": "SunExpress"
         },
         "arrival": {
          "quality": [
           "Basic"
          ],
          "scheduledTime": {
           "local": "2023-04-05 07:25+02:00",
           "utc": "2023-04-05 05:25Z"
          },
          "scheduledTimeLocal": "2023-04-05 07:25+02:00",
          "scheduledTimeUtc": "2023-04-05 05:25Z",
          "terminal": "1"
         },
         "codeshareStatus": "Unknown",
         "departure": {
          "actualTimeLocal": "2023-04-05 04:50+03:00",
          "actualTimeUtc": "2023-04-05 01:50Z",
          "airport": {
           "iata": "AYT",
           "icao": "LTAI",
           "name": "Antalya"
          },
          "checkInDesk": "134",
          "quality": [
           "Basic",
           "Live"
          ],
          "revisedTime": {
           "local": "2023-04-05 04:50+03:00",
           "utc": "2023-04-05 01:50Z"
          },
          "scheduledTime": {
           "local": "2023-04-05 04:50+03:00",
           "utc": "2023-04-05 01:50Z"
          },
          "scheduledTimeLocal": "2023-04-05 04:50+03:00",
          "scheduledTimeUtc": "2023-04-05 01:50Z",
          "terminal": "1"
         },
         "isCargo": false,
         "number": "XQ 662",
         "status": "Expected"
        },
        {
         "aircraft": {
          "model": "Airbus A320"
         },
         "airline": {
          "iata": "W6",
          "icao": "WZZ",
          "name": "Wizz Air"
         },
         "arrival": {
          "quality": [
           "Basic"
          ],
          "scheduledTime": {
           "local": "2023-04-05 07:35+02:00",
           "utc": "2023-04-05 05:35Z"
          },
          "scheduledTimeLocal": "2023-04-05 07:35+02:00",
          "scheduledTimeUtc": "2023-04-05 05:35Z",
          "terminal": "0"
         },
         "codeshareStatus": "Unknown",
         "departure": {
          "airport": {
           "iata": "VAR",
           "icao": "LBWN",
           "name": "Varna"
          },
          "quality": [
           "Basic"
          ],
          "scheduledTime": {
           "local": "2023-04-05 06:05+03:00",
           "utc": "2023-04-05 03:05Z"
          },
          "scheduledTimeLocal": "2023-04-05 06:05+03:00",
          "scheduledTimeUtc": "2023-04-05 03:05Z"
         },
         "isCargo": false,
         "number": "W6 4515",
         "status": "Unknown"
        },
        {
         "aircraft": {
          "modeS": "461FA2",
          "model": "Airbus A321",
          "reg": "OH-LZM"
         },
         "airline": {
          "iata": "AY",
          "icao": "FIN",
          "name": "Finnair"
         },
         "arrival": {
          "actualTimeLocal": "2023-04-05 07:40+02:00",
          "actualTimeUtc": "2023-04-05 05:40Z",
          "quality": [
           "Basic",
           "Live"
          ],
          "revisedTime": {
           "local": "2023-04-05 07:40+02:00",
           "utc": "2023-04-05 05:40Z"
          },
          "scheduledTime": {
           "local": "2023-04-05 08:05+02:00",
           "utc": "2023-04-05 06:05Z"
          },
          "scheduledTimeLocal": "2023-04-05 08:05+02:00",
          "scheduledTimeUtc": "2023-04-05 06:05Z",
          "terminal": "1"
         },
         "callSign": "FIN3AW",
         "codeshareStatus": "IsOperator",
         "departure": {
          "actualTimeLocal": "2023-04-05 07:03+03:00",
          "actualTimeUtc": "2023-04-05 04:03Z",
          "airport": {
           "iata": "HEL",
           "icao": "EFHK",
           "name": "Helsinki"
          },
          "gate": "25",
          "quality": [
           "Basic",
           "Live"
          ],
          "revisedTime": {
           "local": "2023-04-05 07:03+03:00",
           "utc": "2023-04-05 04:03Z"
          },
          "runwayTime": {
           "local": "2023-04-05 07:12+03:00",
           "utc": "2023-04-05 04:12Z"
          },
          "runwayTimeLocal": "2023-04-05 07:12+03:00",
          "runwayTimeUtc": "2023-04-05 04:12Z",
          "scheduledTime": {
           "local": "2023-04-05 07:05+03:00",
           "utc": "2023-04-05 04:05Z"
          },
          "scheduledTimeLocal": "2023-04-05 07:05+03:00",
          "scheduledTimeUtc": "2023-04-05 04:05Z",
          "terminal": "2"
         },
         "isCargo": false,
         "number": "AY 1431",
         "status": "Approaching"
        },
        {
         "aircraft": {
          "model": "Bombardier CRJ900"
         },
         "airline": {
          "iata": "SN",
          "icao": "BEL",
          "name": "Brussels"
         },
         "arrival": {
          "quality": [
           "Basic"
          ],
          "scheduledTime": {
           "local": "2023-04-05 07:45+02:00",
           "utc": "2023-04-05 05:45Z"
          },
          "scheduledTimeLocal": "2023-04-05 07:45+02:00",
          "scheduledTimeUtc": "2023-04-05 05:45Z",
          "terminal": "1"
         },
         "codeshareStatus": "Unknown",
         "departure": {
          "actualTimeLocal": "2023-04-05 06:38+02:00",
          "actualTimeUtc": "2023-04-05 04:38Z",
          "airport": {
           "iata": "BRU",
           "icao": "EBBR",
           "name": "Brussels"
          },
          "checkInDesk": "05",
          "quality": [
           "Basic",
           "Live"
          ],
          "revisedTime": {
           "local": "2023-04-05 06:38+02:00",
           "utc": "2023-04-05 04:38Z"
          },
          "scheduledTime": {
           "local": "2023-04-05 06:20+02:00",
           "utc": "2023-04-05 04:20Z"
          },
          "scheduledTimeLocal": "2023-04-05 06:20+02:00",
          "scheduledTimeUtc": "2023-04-05 04:20Z"
         },
         "isCargo": false,
         "number": "SN 2579",
         "status": "Expected"
        }
       ]
      },
      "text/plain": [
       "<IPython.core.display.JSON object>"
      ]
     },
     "execution_count": 19,
     "metadata": {
      "application/json": {
       "expanded": false,
       "root": "root"
      }
     },
     "output_type": "execute_result"
    }
   ],
   "source": [
    "from IPython.display import JSON\n",
    "JSON(response.json())"
   ]
  },
  {
   "cell_type": "code",
   "execution_count": 6,
   "metadata": {
    "colab": {
     "base_uri": "https://localhost:8080/",
     "height": 160
    },
    "id": "CWKlHAQFwwWr",
    "outputId": "2d3b8657-d2ae-4549-ff8d-4a7f1a54cba7"
   },
   "outputs": [
    {
     "data": {
      "text/html": [
       "<div>\n",
       "<style scoped>\n",
       "    .dataframe tbody tr th:only-of-type {\n",
       "        vertical-align: middle;\n",
       "    }\n",
       "\n",
       "    .dataframe tbody tr th {\n",
       "        vertical-align: top;\n",
       "    }\n",
       "\n",
       "    .dataframe thead th {\n",
       "        text-align: right;\n",
       "    }\n",
       "</style>\n",
       "<table border=\"1\" class=\"dataframe\">\n",
       "  <thead>\n",
       "    <tr style=\"text-align: right;\">\n",
       "      <th></th>\n",
       "      <th>icao</th>\n",
       "      <th>iata</th>\n",
       "      <th>name</th>\n",
       "      <th>shortName</th>\n",
       "      <th>municipalityName</th>\n",
       "      <th>location</th>\n",
       "      <th>countryCode</th>\n",
       "    </tr>\n",
       "  </thead>\n",
       "  <tbody>\n",
       "    <tr>\n",
       "      <th>0</th>\n",
       "      <td>EDAZ</td>\n",
       "      <td>QXH</td>\n",
       "      <td>Trebbin, Schönhagen</td>\n",
       "      <td>Schönhagen</td>\n",
       "      <td>Trebbin</td>\n",
       "      <td>{'lat': 52.20361, 'lon': 13.156389}</td>\n",
       "      <td>DE</td>\n",
       "    </tr>\n",
       "    <tr>\n",
       "      <th>1</th>\n",
       "      <td>EDDB</td>\n",
       "      <td>BER</td>\n",
       "      <td>Berlin, Berlin Brandenburg</td>\n",
       "      <td>Brandenburg</td>\n",
       "      <td>Berlin</td>\n",
       "      <td>{'lat': 52.35139, 'lon': 13.493889}</td>\n",
       "      <td>DE</td>\n",
       "    </tr>\n",
       "    <tr>\n",
       "      <th>2</th>\n",
       "      <td>EDDT</td>\n",
       "      <td>TXL</td>\n",
       "      <td>Berlin, Berlin-Tegel</td>\n",
       "      <td>-Tegel</td>\n",
       "      <td>Berlin</td>\n",
       "      <td>{'lat': 52.5597, 'lon': 13.287699}</td>\n",
       "      <td>DE</td>\n",
       "    </tr>\n",
       "  </tbody>\n",
       "</table>\n",
       "</div>"
      ],
      "text/plain": [
       "   icao iata                        name    shortName municipalityName  \\\n",
       "0  EDAZ  QXH         Trebbin, Schönhagen   Schönhagen          Trebbin   \n",
       "1  EDDB  BER  Berlin, Berlin Brandenburg  Brandenburg           Berlin   \n",
       "2  EDDT  TXL        Berlin, Berlin-Tegel       -Tegel           Berlin   \n",
       "\n",
       "                              location countryCode  \n",
       "0  {'lat': 52.20361, 'lon': 13.156389}          DE  \n",
       "1  {'lat': 52.35139, 'lon': 13.493889}          DE  \n",
       "2   {'lat': 52.5597, 'lon': 13.287699}          DE  "
      ]
     },
     "execution_count": 6,
     "metadata": {},
     "output_type": "execute_result"
    }
   ],
   "source": [
    "pd.DataFrame(response.json()['items'])"
   ]
  },
  {
   "cell_type": "code",
   "execution_count": null,
   "metadata": {
    "colab": {
     "base_uri": "https://localhost:8080/",
     "height": 160
    },
    "id": "KuvajF-vwwWs",
    "outputId": "ac20ccdc-9240-4a93-9e50-d6d299490cb9"
   },
   "outputs": [
    {
     "data": {
      "text/html": [
       "\n",
       "\n",
       "  <div id=\"df-4d1704a8-16b0-4044-be30-31454f163171\">\n",
       "    <div class=\"colab-df-container\">\n",
       "      <div>\n",
       "<style scoped>\n",
       "    .dataframe tbody tr th:only-of-type {\n",
       "        vertical-align: middle;\n",
       "    }\n",
       "\n",
       "    .dataframe tbody tr th {\n",
       "        vertical-align: top;\n",
       "    }\n",
       "\n",
       "    .dataframe thead th {\n",
       "        text-align: right;\n",
       "    }\n",
       "</style>\n",
       "<table border=\"1\" class=\"dataframe\">\n",
       "  <thead>\n",
       "    <tr style=\"text-align: right;\">\n",
       "      <th></th>\n",
       "      <th>icao</th>\n",
       "      <th>iata</th>\n",
       "      <th>name</th>\n",
       "      <th>shortName</th>\n",
       "      <th>municipalityName</th>\n",
       "      <th>countryCode</th>\n",
       "      <th>location.lat</th>\n",
       "      <th>location.lon</th>\n",
       "    </tr>\n",
       "  </thead>\n",
       "  <tbody>\n",
       "    <tr>\n",
       "      <th>0</th>\n",
       "      <td>EDAZ</td>\n",
       "      <td>QXH</td>\n",
       "      <td>Trebbin, Schönhagen</td>\n",
       "      <td>Schönhagen</td>\n",
       "      <td>Trebbin</td>\n",
       "      <td>DE</td>\n",
       "      <td>52.20361</td>\n",
       "      <td>13.156389</td>\n",
       "    </tr>\n",
       "    <tr>\n",
       "      <th>1</th>\n",
       "      <td>EDDB</td>\n",
       "      <td>BER</td>\n",
       "      <td>Berlin, Berlin Brandenburg</td>\n",
       "      <td>Brandenburg</td>\n",
       "      <td>Berlin</td>\n",
       "      <td>DE</td>\n",
       "      <td>52.35139</td>\n",
       "      <td>13.493889</td>\n",
       "    </tr>\n",
       "    <tr>\n",
       "      <th>2</th>\n",
       "      <td>EDDT</td>\n",
       "      <td>TXL</td>\n",
       "      <td>Berlin, Berlin-Tegel</td>\n",
       "      <td>-Tegel</td>\n",
       "      <td>Berlin</td>\n",
       "      <td>DE</td>\n",
       "      <td>52.55970</td>\n",
       "      <td>13.287699</td>\n",
       "    </tr>\n",
       "  </tbody>\n",
       "</table>\n",
       "</div>\n",
       "      <button class=\"colab-df-convert\" onclick=\"convertToInteractive('df-4d1704a8-16b0-4044-be30-31454f163171')\"\n",
       "              title=\"Convert this dataframe to an interactive table.\"\n",
       "              style=\"display:none;\">\n",
       "\n",
       "  <svg xmlns=\"http://www.w3.org/2000/svg\" height=\"24px\"viewBox=\"0 0 24 24\"\n",
       "       width=\"24px\">\n",
       "    <path d=\"M0 0h24v24H0V0z\" fill=\"none\"/>\n",
       "    <path d=\"M18.56 5.44l.94 2.06.94-2.06 2.06-.94-2.06-.94-.94-2.06-.94 2.06-2.06.94zm-11 1L8.5 8.5l.94-2.06 2.06-.94-2.06-.94L8.5 2.5l-.94 2.06-2.06.94zm10 10l.94 2.06.94-2.06 2.06-.94-2.06-.94-.94-2.06-.94 2.06-2.06.94z\"/><path d=\"M17.41 7.96l-1.37-1.37c-.4-.4-.92-.59-1.43-.59-.52 0-1.04.2-1.43.59L10.3 9.45l-7.72 7.72c-.78.78-.78 2.05 0 2.83L4 21.41c.39.39.9.59 1.41.59.51 0 1.02-.2 1.41-.59l7.78-7.78 2.81-2.81c.8-.78.8-2.07 0-2.86zM5.41 20L4 18.59l7.72-7.72 1.47 1.35L5.41 20z\"/>\n",
       "  </svg>\n",
       "      </button>\n",
       "\n",
       "\n",
       "\n",
       "    <div id=\"df-8bad674f-fb40-4f52-9ecb-2862d9509d75\">\n",
       "      <button class=\"colab-df-quickchart\" onclick=\"quickchart('df-8bad674f-fb40-4f52-9ecb-2862d9509d75')\"\n",
       "              title=\"Suggest charts.\"\n",
       "              style=\"display:none;\">\n",
       "\n",
       "<svg xmlns=\"http://www.w3.org/2000/svg\" height=\"24px\"viewBox=\"0 0 24 24\"\n",
       "     width=\"24px\">\n",
       "    <g>\n",
       "        <path d=\"M19 3H5c-1.1 0-2 .9-2 2v14c0 1.1.9 2 2 2h14c1.1 0 2-.9 2-2V5c0-1.1-.9-2-2-2zM9 17H7v-7h2v7zm4 0h-2V7h2v10zm4 0h-2v-4h2v4z\"/>\n",
       "    </g>\n",
       "</svg>\n",
       "      </button>\n",
       "    </div>\n",
       "\n",
       "<style>\n",
       "  .colab-df-quickchart {\n",
       "    background-color: #E8F0FE;\n",
       "    border: none;\n",
       "    border-radius: 50%;\n",
       "    cursor: pointer;\n",
       "    display: none;\n",
       "    fill: #1967D2;\n",
       "    height: 32px;\n",
       "    padding: 0 0 0 0;\n",
       "    width: 32px;\n",
       "  }\n",
       "\n",
       "  .colab-df-quickchart:hover {\n",
       "    background-color: #E2EBFA;\n",
       "    box-shadow: 0px 1px 2px rgba(60, 64, 67, 0.3), 0px 1px 3px 1px rgba(60, 64, 67, 0.15);\n",
       "    fill: #174EA6;\n",
       "  }\n",
       "\n",
       "  [theme=dark] .colab-df-quickchart {\n",
       "    background-color: #3B4455;\n",
       "    fill: #D2E3FC;\n",
       "  }\n",
       "\n",
       "  [theme=dark] .colab-df-quickchart:hover {\n",
       "    background-color: #434B5C;\n",
       "    box-shadow: 0px 1px 3px 1px rgba(0, 0, 0, 0.15);\n",
       "    filter: drop-shadow(0px 1px 2px rgba(0, 0, 0, 0.3));\n",
       "    fill: #FFFFFF;\n",
       "  }\n",
       "</style>\n",
       "\n",
       "    <script>\n",
       "      async function quickchart(key) {\n",
       "        const containerElement = document.querySelector('#' + key);\n",
       "        const charts = await google.colab.kernel.invokeFunction(\n",
       "            'suggestCharts', [key], {});\n",
       "      }\n",
       "    </script>\n",
       "\n",
       "      <script>\n",
       "\n",
       "function displayQuickchartButton(domScope) {\n",
       "  let quickchartButtonEl =\n",
       "    domScope.querySelector('#df-8bad674f-fb40-4f52-9ecb-2862d9509d75 button.colab-df-quickchart');\n",
       "  quickchartButtonEl.style.display =\n",
       "    google.colab.kernel.accessAllowed ? 'block' : 'none';\n",
       "}\n",
       "\n",
       "        displayQuickchartButton(document);\n",
       "      </script>\n",
       "      <style>\n",
       "    .colab-df-container {\n",
       "      display:flex;\n",
       "      flex-wrap:wrap;\n",
       "      gap: 12px;\n",
       "    }\n",
       "\n",
       "    .colab-df-convert {\n",
       "      background-color: #E8F0FE;\n",
       "      border: none;\n",
       "      border-radius: 50%;\n",
       "      cursor: pointer;\n",
       "      display: none;\n",
       "      fill: #1967D2;\n",
       "      height: 32px;\n",
       "      padding: 0 0 0 0;\n",
       "      width: 32px;\n",
       "    }\n",
       "\n",
       "    .colab-df-convert:hover {\n",
       "      background-color: #E2EBFA;\n",
       "      box-shadow: 0px 1px 2px rgba(60, 64, 67, 0.3), 0px 1px 3px 1px rgba(60, 64, 67, 0.15);\n",
       "      fill: #174EA6;\n",
       "    }\n",
       "\n",
       "    [theme=dark] .colab-df-convert {\n",
       "      background-color: #3B4455;\n",
       "      fill: #D2E3FC;\n",
       "    }\n",
       "\n",
       "    [theme=dark] .colab-df-convert:hover {\n",
       "      background-color: #434B5C;\n",
       "      box-shadow: 0px 1px 3px 1px rgba(0, 0, 0, 0.15);\n",
       "      filter: drop-shadow(0px 1px 2px rgba(0, 0, 0, 0.3));\n",
       "      fill: #FFFFFF;\n",
       "    }\n",
       "  </style>\n",
       "\n",
       "      <script>\n",
       "        const buttonEl =\n",
       "          document.querySelector('#df-4d1704a8-16b0-4044-be30-31454f163171 button.colab-df-convert');\n",
       "        buttonEl.style.display =\n",
       "          google.colab.kernel.accessAllowed ? 'block' : 'none';\n",
       "\n",
       "        async function convertToInteractive(key) {\n",
       "          const element = document.querySelector('#df-4d1704a8-16b0-4044-be30-31454f163171');\n",
       "          const dataTable =\n",
       "            await google.colab.kernel.invokeFunction('convertToInteractive',\n",
       "                                                     [key], {});\n",
       "          if (!dataTable) return;\n",
       "\n",
       "          const docLinkHtml = 'Like what you see? Visit the ' +\n",
       "            '<a target=\"_blank\" href=https://colab.research.google.com/notebooks/data_table.ipynb>data table notebook</a>'\n",
       "            + ' to learn more about interactive tables.';\n",
       "          element.innerHTML = '';\n",
       "          dataTable['output_type'] = 'display_data';\n",
       "          await google.colab.output.renderOutput(dataTable, element);\n",
       "          const docLink = document.createElement('div');\n",
       "          docLink.innerHTML = docLinkHtml;\n",
       "          element.appendChild(docLink);\n",
       "        }\n",
       "      </script>\n",
       "    </div>\n",
       "  </div>\n"
      ],
      "text/plain": [
       "   icao iata                        name    shortName municipalityName  \\\n",
       "0  EDAZ  QXH         Trebbin, Schönhagen   Schönhagen          Trebbin   \n",
       "1  EDDB  BER  Berlin, Berlin Brandenburg  Brandenburg           Berlin   \n",
       "2  EDDT  TXL        Berlin, Berlin-Tegel       -Tegel           Berlin   \n",
       "\n",
       "  countryCode  location.lat  location.lon  \n",
       "0          DE      52.20361     13.156389  \n",
       "1          DE      52.35139     13.493889  \n",
       "2          DE      52.55970     13.287699  "
      ]
     },
     "execution_count": 21,
     "metadata": {},
     "output_type": "execute_result"
    }
   ],
   "source": [
    "pd.json_normalize(response.json()['items'])"
   ]
  },
  {
   "cell_type": "code",
   "execution_count": 7,
   "metadata": {
    "id": "DR38Z_TxwwWs"
   },
   "outputs": [],
   "source": [
    "def retrive_aiport(lat, long):\n",
    "\n",
    "    url = \"https://aerodatabox.p.rapidapi.com/airports/search/location\"\n",
    "    querystring = {\"lat\":lat,\"lon\":long,\"radiusKm\":\"100\",\"limit\":\"10\"}\n",
    "    response = requests.get(url, headers=headers, params=querystring)\n",
    "\n",
    "    return pd.json_normalize(response.json()['items'])"
   ]
  },
  {
   "cell_type": "code",
   "execution_count": 8,
   "metadata": {
    "colab": {
     "base_uri": "https://localhost:8080/",
     "height": 100
    },
    "id": "0Y64RrbDwwWt",
    "outputId": "7921c24b-a008-409a-9816-7b27ec82ed37"
   },
   "outputs": [
    {
     "data": {
      "text/html": [
       "<div>\n",
       "<style scoped>\n",
       "    .dataframe tbody tr th:only-of-type {\n",
       "        vertical-align: middle;\n",
       "    }\n",
       "\n",
       "    .dataframe tbody tr th {\n",
       "        vertical-align: top;\n",
       "    }\n",
       "\n",
       "    .dataframe thead th {\n",
       "        text-align: right;\n",
       "    }\n",
       "</style>\n",
       "<table border=\"1\" class=\"dataframe\">\n",
       "  <thead>\n",
       "    <tr style=\"text-align: right;\">\n",
       "      <th></th>\n",
       "      <th>icao</th>\n",
       "      <th>iata</th>\n",
       "      <th>name</th>\n",
       "      <th>shortName</th>\n",
       "      <th>municipalityName</th>\n",
       "      <th>countryCode</th>\n",
       "      <th>location.lat</th>\n",
       "      <th>location.lon</th>\n",
       "    </tr>\n",
       "  </thead>\n",
       "  <tbody>\n",
       "    <tr>\n",
       "      <th>0</th>\n",
       "      <td>OESK</td>\n",
       "      <td>AJF</td>\n",
       "      <td>Al-Jawf, Al-Jawf Domestic</td>\n",
       "      <td>Domestic</td>\n",
       "      <td>Al-Jawf</td>\n",
       "      <td>SA</td>\n",
       "      <td>29.7851</td>\n",
       "      <td>40.1</td>\n",
       "    </tr>\n",
       "  </tbody>\n",
       "</table>\n",
       "</div>"
      ],
      "text/plain": [
       "   icao iata                       name shortName municipalityName  \\\n",
       "0  OESK  AJF  Al-Jawf, Al-Jawf Domestic  Domestic          Al-Jawf   \n",
       "\n",
       "  countryCode  location.lat  location.lon  \n",
       "0          SA       29.7851          40.1  "
      ]
     },
     "execution_count": 8,
     "metadata": {},
     "output_type": "execute_result"
    }
   ],
   "source": [
    "retrive_aiport(30.23, 40.2)"
   ]
  },
  {
   "cell_type": "code",
   "execution_count": 9,
   "metadata": {
    "id": "2jhuT_prwwWv"
   },
   "outputs": [],
   "source": [
    "lats = [52.31, 40.6436]\n",
    "longs = [13.24, 73.7820]\n",
    "\n",
    "all_airports_df = pd.json_normalize(response.json()['items'])#pd.DataFrame()\n",
    "\n",
    "for lat, long in zip(lats, longs):\n",
    "    all_airports_df = pd.concat([all_airports_df, retrive_aiport(lat, long)], ignore_index=True)"
   ]
  },
  {
   "cell_type": "code",
   "execution_count": 65,
   "metadata": {
    "colab": {
     "base_uri": "https://localhost:8080/",
     "height": 282
    },
    "id": "ClqVvFmrzeN5",
    "outputId": "e3eccee4-4408-453d-af06-916c5215eee7"
   },
   "outputs": [
    {
     "data": {
      "text/html": [
       "\n",
       "\n",
       "  <div id=\"df-ad7874bc-6136-493a-996e-61e852edda3c\">\n",
       "    <div class=\"colab-df-container\">\n",
       "      <div>\n",
       "<style scoped>\n",
       "    .dataframe tbody tr th:only-of-type {\n",
       "        vertical-align: middle;\n",
       "    }\n",
       "\n",
       "    .dataframe tbody tr th {\n",
       "        vertical-align: top;\n",
       "    }\n",
       "\n",
       "    .dataframe thead th {\n",
       "        text-align: right;\n",
       "    }\n",
       "</style>\n",
       "<table border=\"1\" class=\"dataframe\">\n",
       "  <thead>\n",
       "    <tr style=\"text-align: right;\">\n",
       "      <th></th>\n",
       "      <th>icao</th>\n",
       "      <th>iata</th>\n",
       "      <th>name</th>\n",
       "      <th>shortName</th>\n",
       "      <th>municipalityName</th>\n",
       "      <th>countryCode</th>\n",
       "      <th>location.lat</th>\n",
       "      <th>location.lon</th>\n",
       "      <th>localCode</th>\n",
       "    </tr>\n",
       "  </thead>\n",
       "  <tbody>\n",
       "    <tr>\n",
       "      <th>0</th>\n",
       "      <td>EDAZ</td>\n",
       "      <td>QXH</td>\n",
       "      <td>Trebbin, Schönhagen</td>\n",
       "      <td>Schönhagen</td>\n",
       "      <td>Trebbin</td>\n",
       "      <td>DE</td>\n",
       "      <td>52.20361</td>\n",
       "      <td>13.156389</td>\n",
       "      <td>NaN</td>\n",
       "    </tr>\n",
       "    <tr>\n",
       "      <th>1</th>\n",
       "      <td>EDDB</td>\n",
       "      <td>BER</td>\n",
       "      <td>Berlin, Berlin Brandenburg</td>\n",
       "      <td>Brandenburg</td>\n",
       "      <td>Berlin</td>\n",
       "      <td>DE</td>\n",
       "      <td>52.35139</td>\n",
       "      <td>13.493889</td>\n",
       "      <td>NaN</td>\n",
       "    </tr>\n",
       "    <tr>\n",
       "      <th>2</th>\n",
       "      <td>EDDT</td>\n",
       "      <td>TXL</td>\n",
       "      <td>Berlin, Berlin-Tegel</td>\n",
       "      <td>-Tegel</td>\n",
       "      <td>Berlin</td>\n",
       "      <td>DE</td>\n",
       "      <td>52.55970</td>\n",
       "      <td>13.287699</td>\n",
       "      <td>NaN</td>\n",
       "    </tr>\n",
       "    <tr>\n",
       "      <th>3</th>\n",
       "      <td>EDAZ</td>\n",
       "      <td>QXH</td>\n",
       "      <td>Trebbin, Schönhagen</td>\n",
       "      <td>Schönhagen</td>\n",
       "      <td>Trebbin</td>\n",
       "      <td>DE</td>\n",
       "      <td>52.20361</td>\n",
       "      <td>13.156389</td>\n",
       "      <td>NaN</td>\n",
       "    </tr>\n",
       "    <tr>\n",
       "      <th>4</th>\n",
       "      <td>EDDB</td>\n",
       "      <td>BER</td>\n",
       "      <td>Berlin, Berlin Brandenburg</td>\n",
       "      <td>Brandenburg</td>\n",
       "      <td>Berlin</td>\n",
       "      <td>DE</td>\n",
       "      <td>52.35139</td>\n",
       "      <td>13.493889</td>\n",
       "      <td>NaN</td>\n",
       "    </tr>\n",
       "    <tr>\n",
       "      <th>5</th>\n",
       "      <td>EDDT</td>\n",
       "      <td>TXL</td>\n",
       "      <td>Berlin, Berlin-Tegel</td>\n",
       "      <td>-Tegel</td>\n",
       "      <td>Berlin</td>\n",
       "      <td>DE</td>\n",
       "      <td>52.55970</td>\n",
       "      <td>13.287699</td>\n",
       "      <td>NaN</td>\n",
       "    </tr>\n",
       "    <tr>\n",
       "      <th>6</th>\n",
       "      <td>UCFO</td>\n",
       "      <td>OSS</td>\n",
       "      <td>Osh</td>\n",
       "      <td>Osh</td>\n",
       "      <td>Osh</td>\n",
       "      <td>KG</td>\n",
       "      <td>40.60900</td>\n",
       "      <td>72.793300</td>\n",
       "      <td>ОШШ</td>\n",
       "    </tr>\n",
       "  </tbody>\n",
       "</table>\n",
       "</div>\n",
       "      <button class=\"colab-df-convert\" onclick=\"convertToInteractive('df-ad7874bc-6136-493a-996e-61e852edda3c')\"\n",
       "              title=\"Convert this dataframe to an interactive table.\"\n",
       "              style=\"display:none;\">\n",
       "\n",
       "  <svg xmlns=\"http://www.w3.org/2000/svg\" height=\"24px\"viewBox=\"0 0 24 24\"\n",
       "       width=\"24px\">\n",
       "    <path d=\"M0 0h24v24H0V0z\" fill=\"none\"/>\n",
       "    <path d=\"M18.56 5.44l.94 2.06.94-2.06 2.06-.94-2.06-.94-.94-2.06-.94 2.06-2.06.94zm-11 1L8.5 8.5l.94-2.06 2.06-.94-2.06-.94L8.5 2.5l-.94 2.06-2.06.94zm10 10l.94 2.06.94-2.06 2.06-.94-2.06-.94-.94-2.06-.94 2.06-2.06.94z\"/><path d=\"M17.41 7.96l-1.37-1.37c-.4-.4-.92-.59-1.43-.59-.52 0-1.04.2-1.43.59L10.3 9.45l-7.72 7.72c-.78.78-.78 2.05 0 2.83L4 21.41c.39.39.9.59 1.41.59.51 0 1.02-.2 1.41-.59l7.78-7.78 2.81-2.81c.8-.78.8-2.07 0-2.86zM5.41 20L4 18.59l7.72-7.72 1.47 1.35L5.41 20z\"/>\n",
       "  </svg>\n",
       "      </button>\n",
       "\n",
       "\n",
       "\n",
       "    <div id=\"df-dd6dd0f6-c1f4-4331-80da-356c88f8705c\">\n",
       "      <button class=\"colab-df-quickchart\" onclick=\"quickchart('df-dd6dd0f6-c1f4-4331-80da-356c88f8705c')\"\n",
       "              title=\"Suggest charts.\"\n",
       "              style=\"display:none;\">\n",
       "\n",
       "<svg xmlns=\"http://www.w3.org/2000/svg\" height=\"24px\"viewBox=\"0 0 24 24\"\n",
       "     width=\"24px\">\n",
       "    <g>\n",
       "        <path d=\"M19 3H5c-1.1 0-2 .9-2 2v14c0 1.1.9 2 2 2h14c1.1 0 2-.9 2-2V5c0-1.1-.9-2-2-2zM9 17H7v-7h2v7zm4 0h-2V7h2v10zm4 0h-2v-4h2v4z\"/>\n",
       "    </g>\n",
       "</svg>\n",
       "      </button>\n",
       "    </div>\n",
       "\n",
       "<style>\n",
       "  .colab-df-quickchart {\n",
       "    background-color: #E8F0FE;\n",
       "    border: none;\n",
       "    border-radius: 50%;\n",
       "    cursor: pointer;\n",
       "    display: none;\n",
       "    fill: #1967D2;\n",
       "    height: 32px;\n",
       "    padding: 0 0 0 0;\n",
       "    width: 32px;\n",
       "  }\n",
       "\n",
       "  .colab-df-quickchart:hover {\n",
       "    background-color: #E2EBFA;\n",
       "    box-shadow: 0px 1px 2px rgba(60, 64, 67, 0.3), 0px 1px 3px 1px rgba(60, 64, 67, 0.15);\n",
       "    fill: #174EA6;\n",
       "  }\n",
       "\n",
       "  [theme=dark] .colab-df-quickchart {\n",
       "    background-color: #3B4455;\n",
       "    fill: #D2E3FC;\n",
       "  }\n",
       "\n",
       "  [theme=dark] .colab-df-quickchart:hover {\n",
       "    background-color: #434B5C;\n",
       "    box-shadow: 0px 1px 3px 1px rgba(0, 0, 0, 0.15);\n",
       "    filter: drop-shadow(0px 1px 2px rgba(0, 0, 0, 0.3));\n",
       "    fill: #FFFFFF;\n",
       "  }\n",
       "</style>\n",
       "\n",
       "    <script>\n",
       "      async function quickchart(key) {\n",
       "        const containerElement = document.querySelector('#' + key);\n",
       "        const charts = await google.colab.kernel.invokeFunction(\n",
       "            'suggestCharts', [key], {});\n",
       "      }\n",
       "    </script>\n",
       "\n",
       "      <script>\n",
       "\n",
       "function displayQuickchartButton(domScope) {\n",
       "  let quickchartButtonEl =\n",
       "    domScope.querySelector('#df-dd6dd0f6-c1f4-4331-80da-356c88f8705c button.colab-df-quickchart');\n",
       "  quickchartButtonEl.style.display =\n",
       "    google.colab.kernel.accessAllowed ? 'block' : 'none';\n",
       "}\n",
       "\n",
       "        displayQuickchartButton(document);\n",
       "      </script>\n",
       "      <style>\n",
       "    .colab-df-container {\n",
       "      display:flex;\n",
       "      flex-wrap:wrap;\n",
       "      gap: 12px;\n",
       "    }\n",
       "\n",
       "    .colab-df-convert {\n",
       "      background-color: #E8F0FE;\n",
       "      border: none;\n",
       "      border-radius: 50%;\n",
       "      cursor: pointer;\n",
       "      display: none;\n",
       "      fill: #1967D2;\n",
       "      height: 32px;\n",
       "      padding: 0 0 0 0;\n",
       "      width: 32px;\n",
       "    }\n",
       "\n",
       "    .colab-df-convert:hover {\n",
       "      background-color: #E2EBFA;\n",
       "      box-shadow: 0px 1px 2px rgba(60, 64, 67, 0.3), 0px 1px 3px 1px rgba(60, 64, 67, 0.15);\n",
       "      fill: #174EA6;\n",
       "    }\n",
       "\n",
       "    [theme=dark] .colab-df-convert {\n",
       "      background-color: #3B4455;\n",
       "      fill: #D2E3FC;\n",
       "    }\n",
       "\n",
       "    [theme=dark] .colab-df-convert:hover {\n",
       "      background-color: #434B5C;\n",
       "      box-shadow: 0px 1px 3px 1px rgba(0, 0, 0, 0.15);\n",
       "      filter: drop-shadow(0px 1px 2px rgba(0, 0, 0, 0.3));\n",
       "      fill: #FFFFFF;\n",
       "    }\n",
       "  </style>\n",
       "\n",
       "      <script>\n",
       "        const buttonEl =\n",
       "          document.querySelector('#df-ad7874bc-6136-493a-996e-61e852edda3c button.colab-df-convert');\n",
       "        buttonEl.style.display =\n",
       "          google.colab.kernel.accessAllowed ? 'block' : 'none';\n",
       "\n",
       "        async function convertToInteractive(key) {\n",
       "          const element = document.querySelector('#df-ad7874bc-6136-493a-996e-61e852edda3c');\n",
       "          const dataTable =\n",
       "            await google.colab.kernel.invokeFunction('convertToInteractive',\n",
       "                                                     [key], {});\n",
       "          if (!dataTable) return;\n",
       "\n",
       "          const docLinkHtml = 'Like what you see? Visit the ' +\n",
       "            '<a target=\"_blank\" href=https://colab.research.google.com/notebooks/data_table.ipynb>data table notebook</a>'\n",
       "            + ' to learn more about interactive tables.';\n",
       "          element.innerHTML = '';\n",
       "          dataTable['output_type'] = 'display_data';\n",
       "          await google.colab.output.renderOutput(dataTable, element);\n",
       "          const docLink = document.createElement('div');\n",
       "          docLink.innerHTML = docLinkHtml;\n",
       "          element.appendChild(docLink);\n",
       "        }\n",
       "      </script>\n",
       "    </div>\n",
       "  </div>\n"
      ],
      "text/plain": [
       "   icao iata                        name    shortName municipalityName  \\\n",
       "0  EDAZ  QXH         Trebbin, Schönhagen   Schönhagen          Trebbin   \n",
       "1  EDDB  BER  Berlin, Berlin Brandenburg  Brandenburg           Berlin   \n",
       "2  EDDT  TXL        Berlin, Berlin-Tegel       -Tegel           Berlin   \n",
       "3  EDAZ  QXH         Trebbin, Schönhagen   Schönhagen          Trebbin   \n",
       "4  EDDB  BER  Berlin, Berlin Brandenburg  Brandenburg           Berlin   \n",
       "5  EDDT  TXL        Berlin, Berlin-Tegel       -Tegel           Berlin   \n",
       "6  UCFO  OSS                         Osh          Osh              Osh   \n",
       "\n",
       "  countryCode  location.lat  location.lon localCode  \n",
       "0          DE      52.20361     13.156389       NaN  \n",
       "1          DE      52.35139     13.493889       NaN  \n",
       "2          DE      52.55970     13.287699       NaN  \n",
       "3          DE      52.20361     13.156389       NaN  \n",
       "4          DE      52.35139     13.493889       NaN  \n",
       "5          DE      52.55970     13.287699       NaN  \n",
       "6          KG      40.60900     72.793300       ОШШ  "
      ]
     },
     "execution_count": 65,
     "metadata": {},
     "output_type": "execute_result"
    }
   ],
   "source": [
    "all_airports_df"
   ]
  },
  {
   "cell_type": "code",
   "execution_count": null,
   "metadata": {
    "colab": {
     "base_uri": "https://localhost:8080/",
     "height": 58
    },
    "id": "IAZK5KyGwwWv",
    "outputId": "5ad152e0-eca8-430b-e48d-d40f073449a9"
   },
   "outputs": [
    {
     "data": {
      "application/vnd.google.colaboratory.intrinsic+json": {
       "type": "string"
      },
      "text/plain": [
       "'Trebbin, Schönhagen'"
      ]
     },
     "execution_count": 28,
     "metadata": {},
     "output_type": "execute_result"
    }
   ],
   "source": [
    "response.json()['items'][0]['name']"
   ]
  },
  {
   "cell_type": "code",
   "execution_count": null,
   "metadata": {
    "colab": {
     "base_uri": "https://localhost:8080/",
     "height": 58
    },
    "id": "T_R2P4mmwwWv",
    "outputId": "e1504bdc-612c-4337-ee4e-083d2f577fdc"
   },
   "outputs": [
    {
     "data": {
      "application/vnd.google.colaboratory.intrinsic+json": {
       "type": "string"
      },
      "text/plain": [
       "'Berlin, Berlin Brandenburg'"
      ]
     },
     "execution_count": 29,
     "metadata": {},
     "output_type": "execute_result"
    }
   ],
   "source": [
    "response.json()['items'][1]['name']"
   ]
  },
  {
   "cell_type": "code",
   "execution_count": 105,
   "metadata": {},
   "outputs": [],
   "source": [
    "import os\n",
    "from dotenv import load_dotenv"
   ]
  },
  {
   "cell_type": "code",
   "execution_count": 106,
   "metadata": {},
   "outputs": [
    {
     "data": {
      "text/plain": [
       "True"
      ]
     },
     "execution_count": 106,
     "metadata": {},
     "output_type": "execute_result"
    }
   ],
   "source": [
    "load_dotenv()"
   ]
  },
  {
   "cell_type": "markdown",
   "metadata": {
    "id": "Q47nbbH0I3Xt"
   },
   "source": [
    "the latitude and longitude of multiple cities"
   ]
  },
  {
   "cell_type": "code",
   "execution_count": 46,
   "metadata": {
    "id": "q0VCPFOmH3vl"
   },
   "outputs": [],
   "source": [
    "def icao_airport(latitudes, longitudes):\n",
    "\n",
    "  API_key_w = os.environ.get(\"API_KEY_aerodatabox\")\n",
    "\n",
    "  list_for_df = []\n",
    "\n",
    "  for index, value in enumerate(latitudes):\n",
    "\n",
    "    url = f\"https://aerodatabox.p.rapidapi.com/airports/search/location/{value}/{longitudes[index]}/km/100/16\"\n",
    "\n",
    "    querystring = {\"withFlightInfoOnly\":\"true\"}\n",
    "    headers = {\n",
    "      \"X-RapidAPI-Host\": \"aerodatabox.p.rapidapi.com\",\n",
    "      \"X-RapidAPI-Key\": \"API_key_w\"\n",
    "    }\n",
    "    response = requests.request(\"GET\", url, headers=headers, params=querystring)\n",
    "\n",
    "    list_for_df.append(pd.json_normalize(response.json()['items']))\n",
    "\n",
    "  return pd.concat(list_for_df, ignore_index=True)"
   ]
  },
  {
   "cell_type": "markdown",
   "metadata": {
    "id": "q3DS1gbq3xG8"
   },
   "source": [
    "###### **Challenge 1:** Icao codes\n",
    "If you use the above for all of your cities, you can create a DataFrame of all the airports and their associated `icao` codes. Perfect for a relational database.\n",
    "\n",
    "###### **Challenge 2:** Arrivals information\n",
    "Using what you have been shown above, plus the skills you've learnt in the last couple of days:\n",
    "1. In `AeroDataBox API` use the `Flight API` > `FIDS/Schedules: Airport departures and arrivals by airport ICAO code` section\n",
    "2. Fill out the parameters in the middle third and then copy the `python: requests` code from the right hand third\n",
    "3. Explore the data you get back. What would be useful in your DataFrame and what can be excluded? Remember Gans wants to know about when people are arriving in the city\n",
    "4. Make a DataFrame from the information you see as important\n",
    "5. Condense everything you did above into a function that can take a list of ICAO codes as an input, and as an output gives you a DataFrame with the information for *tomorrows arrivals*"
   ]
  },
  {
   "cell_type": "code",
   "execution_count": 12,
   "metadata": {
    "id": "JyUQJCFa9I9n"
   },
   "outputs": [],
   "source": [
    "lats = [52.5200, 48.8567, 51.5072]\n",
    "longs = [13.4050, 2.3522, -0.1275]\n",
    "\n",
    "all_airports_df = pd.json_normalize(response.json()['items'])#pd.DataFrame()\n",
    "\n",
    "for lat, long in zip(lats, longs):\n",
    "    all_airports_df = pd.concat([all_airports_df, retrive_aiport(lat, long)], ignore_index=True)"
   ]
  },
  {
   "cell_type": "code",
   "execution_count": 32,
   "metadata": {
    "colab": {
     "base_uri": "https://localhost:8080/",
     "height": 970
    },
    "id": "W1Tsn2_B8UqN",
    "outputId": "24a4f8b7-311d-4adf-bf42-a5ea99ea6e37"
   },
   "outputs": [
    {
     "data": {
      "text/html": [
       "<div>\n",
       "<style scoped>\n",
       "    .dataframe tbody tr th:only-of-type {\n",
       "        vertical-align: middle;\n",
       "    }\n",
       "\n",
       "    .dataframe tbody tr th {\n",
       "        vertical-align: top;\n",
       "    }\n",
       "\n",
       "    .dataframe thead th {\n",
       "        text-align: right;\n",
       "    }\n",
       "</style>\n",
       "<table border=\"1\" class=\"dataframe\">\n",
       "  <thead>\n",
       "    <tr style=\"text-align: right;\">\n",
       "      <th></th>\n",
       "      <th>icao</th>\n",
       "      <th>iata</th>\n",
       "      <th>name</th>\n",
       "      <th>shortName</th>\n",
       "      <th>municipalityName</th>\n",
       "      <th>countryCode</th>\n",
       "      <th>location.lat</th>\n",
       "      <th>location.lon</th>\n",
       "    </tr>\n",
       "  </thead>\n",
       "  <tbody>\n",
       "    <tr>\n",
       "      <th>0</th>\n",
       "      <td>EDAZ</td>\n",
       "      <td>QXH</td>\n",
       "      <td>Trebbin, Schönhagen</td>\n",
       "      <td>Schönhagen</td>\n",
       "      <td>Trebbin</td>\n",
       "      <td>DE</td>\n",
       "      <td>52.20361</td>\n",
       "      <td>13.156389</td>\n",
       "    </tr>\n",
       "    <tr>\n",
       "      <th>1</th>\n",
       "      <td>EDDB</td>\n",
       "      <td>BER</td>\n",
       "      <td>Berlin, Berlin Brandenburg</td>\n",
       "      <td>Brandenburg</td>\n",
       "      <td>Berlin</td>\n",
       "      <td>DE</td>\n",
       "      <td>52.35139</td>\n",
       "      <td>13.493889</td>\n",
       "    </tr>\n",
       "    <tr>\n",
       "      <th>2</th>\n",
       "      <td>EDDT</td>\n",
       "      <td>TXL</td>\n",
       "      <td>Berlin, Berlin-Tegel</td>\n",
       "      <td>-Tegel</td>\n",
       "      <td>Berlin</td>\n",
       "      <td>DE</td>\n",
       "      <td>52.55970</td>\n",
       "      <td>13.287699</td>\n",
       "    </tr>\n",
       "    <tr>\n",
       "      <th>3</th>\n",
       "      <td>EDDT</td>\n",
       "      <td>TXL</td>\n",
       "      <td>Berlin, Berlin-Tegel</td>\n",
       "      <td>-Tegel</td>\n",
       "      <td>Berlin</td>\n",
       "      <td>DE</td>\n",
       "      <td>52.55970</td>\n",
       "      <td>13.287699</td>\n",
       "    </tr>\n",
       "    <tr>\n",
       "      <th>4</th>\n",
       "      <td>EDDB</td>\n",
       "      <td>BER</td>\n",
       "      <td>Berlin, Berlin Brandenburg</td>\n",
       "      <td>Brandenburg</td>\n",
       "      <td>Berlin</td>\n",
       "      <td>DE</td>\n",
       "      <td>52.35139</td>\n",
       "      <td>13.493889</td>\n",
       "    </tr>\n",
       "    <tr>\n",
       "      <th>5</th>\n",
       "      <td>EDAZ</td>\n",
       "      <td>QXH</td>\n",
       "      <td>Trebbin, Schönhagen</td>\n",
       "      <td>Schönhagen</td>\n",
       "      <td>Trebbin</td>\n",
       "      <td>DE</td>\n",
       "      <td>52.20361</td>\n",
       "      <td>13.156389</td>\n",
       "    </tr>\n",
       "    <tr>\n",
       "      <th>6</th>\n",
       "      <td>EDAX</td>\n",
       "      <td>REB</td>\n",
       "      <td>Lärz, Rechlin-Lärz</td>\n",
       "      <td>Rechlin-</td>\n",
       "      <td>Lärz</td>\n",
       "      <td>DE</td>\n",
       "      <td>53.30639</td>\n",
       "      <td>12.752222</td>\n",
       "    </tr>\n",
       "    <tr>\n",
       "      <th>7</th>\n",
       "      <td>LFPB</td>\n",
       "      <td>LBG</td>\n",
       "      <td>Paris, Paris-Le Bourget</td>\n",
       "      <td>-Le Bourget</td>\n",
       "      <td>Paris</td>\n",
       "      <td>FR</td>\n",
       "      <td>48.96940</td>\n",
       "      <td>2.441390</td>\n",
       "    </tr>\n",
       "    <tr>\n",
       "      <th>8</th>\n",
       "      <td>LFPV</td>\n",
       "      <td>VIY</td>\n",
       "      <td>Villacoublay/Vélizy, Villacoublay-Vélizy (BA 1...</td>\n",
       "      <td>Villacoublay-Vélizy (BA 107) Air Base</td>\n",
       "      <td>Villacoublay/Vélizy</td>\n",
       "      <td>FR</td>\n",
       "      <td>48.77440</td>\n",
       "      <td>2.201539</td>\n",
       "    </tr>\n",
       "    <tr>\n",
       "      <th>9</th>\n",
       "      <td>LFPO</td>\n",
       "      <td>ORY</td>\n",
       "      <td>Paris, Paris-Orly</td>\n",
       "      <td>-Orly</td>\n",
       "      <td>Paris</td>\n",
       "      <td>FR</td>\n",
       "      <td>48.72530</td>\n",
       "      <td>2.359440</td>\n",
       "    </tr>\n",
       "    <tr>\n",
       "      <th>10</th>\n",
       "      <td>LFPN</td>\n",
       "      <td>TNF</td>\n",
       "      <td>Toussus-le-Noble</td>\n",
       "      <td>Toussus-le-Noble</td>\n",
       "      <td>Toussus-le-Noble</td>\n",
       "      <td>FR</td>\n",
       "      <td>48.75190</td>\n",
       "      <td>2.106189</td>\n",
       "    </tr>\n",
       "    <tr>\n",
       "      <th>11</th>\n",
       "      <td>LFPG</td>\n",
       "      <td>CDG</td>\n",
       "      <td>Paris, Charles de Gaulle</td>\n",
       "      <td>Charles de Gaulle</td>\n",
       "      <td>Paris</td>\n",
       "      <td>FR</td>\n",
       "      <td>49.01280</td>\n",
       "      <td>2.549999</td>\n",
       "    </tr>\n",
       "    <tr>\n",
       "      <th>12</th>\n",
       "      <td>LFPT</td>\n",
       "      <td>POX</td>\n",
       "      <td>Pontoise, Pontoise - Cormeilles-en-Vexin</td>\n",
       "      <td>- Cormeilles-en-Vexin</td>\n",
       "      <td>Pontoise</td>\n",
       "      <td>FR</td>\n",
       "      <td>49.09660</td>\n",
       "      <td>2.040829</td>\n",
       "    </tr>\n",
       "    <tr>\n",
       "      <th>13</th>\n",
       "      <td>LFPC</td>\n",
       "      <td>CSF</td>\n",
       "      <td>Creil, Creil Air Base</td>\n",
       "      <td>Air Base</td>\n",
       "      <td>Creil</td>\n",
       "      <td>FR</td>\n",
       "      <td>49.25350</td>\n",
       "      <td>2.519140</td>\n",
       "    </tr>\n",
       "    <tr>\n",
       "      <th>14</th>\n",
       "      <td>LFOB</td>\n",
       "      <td>BVA</td>\n",
       "      <td>Beauvais/Tillé, Paris Beauvais Tillé</td>\n",
       "      <td>Paris Beauvais Tillé</td>\n",
       "      <td>Beauvais/Tillé</td>\n",
       "      <td>FR</td>\n",
       "      <td>49.45440</td>\n",
       "      <td>2.112780</td>\n",
       "    </tr>\n",
       "    <tr>\n",
       "      <th>15</th>\n",
       "      <td>LFAD</td>\n",
       "      <td>XCP</td>\n",
       "      <td>Calais-Dunkerque, Compiègne Margny</td>\n",
       "      <td>Compiègne Margny</td>\n",
       "      <td>Calais-Dunkerque</td>\n",
       "      <td>FR</td>\n",
       "      <td>49.43440</td>\n",
       "      <td>2.806109</td>\n",
       "    </tr>\n",
       "    <tr>\n",
       "      <th>16</th>\n",
       "      <td>LFOR</td>\n",
       "      <td>QTJ</td>\n",
       "      <td>Chartres / Champhol, Chartres – Métropole</td>\n",
       "      <td>Chartres – Métropole</td>\n",
       "      <td>Chartres / Champhol</td>\n",
       "      <td>FR</td>\n",
       "      <td>48.45890</td>\n",
       "      <td>1.523890</td>\n",
       "    </tr>\n",
       "    <tr>\n",
       "      <th>17</th>\n",
       "      <td>EGLC</td>\n",
       "      <td>LCY</td>\n",
       "      <td>London, London City</td>\n",
       "      <td>City</td>\n",
       "      <td>London</td>\n",
       "      <td>GB</td>\n",
       "      <td>51.50530</td>\n",
       "      <td>0.055277</td>\n",
       "    </tr>\n",
       "    <tr>\n",
       "      <th>18</th>\n",
       "      <td>EGWU</td>\n",
       "      <td>NHT</td>\n",
       "      <td>London, RAF Northolt</td>\n",
       "      <td>RAF Northolt</td>\n",
       "      <td>London</td>\n",
       "      <td>GB</td>\n",
       "      <td>51.55300</td>\n",
       "      <td>-0.418166</td>\n",
       "    </tr>\n",
       "    <tr>\n",
       "      <th>19</th>\n",
       "      <td>EGKB</td>\n",
       "      <td>BQH</td>\n",
       "      <td>London, London Biggin Hill</td>\n",
       "      <td>Biggin Hill</td>\n",
       "      <td>London</td>\n",
       "      <td>GB</td>\n",
       "      <td>51.33080</td>\n",
       "      <td>0.032499</td>\n",
       "    </tr>\n",
       "    <tr>\n",
       "      <th>20</th>\n",
       "      <td>EGLL</td>\n",
       "      <td>LHR</td>\n",
       "      <td>London, London Heathrow</td>\n",
       "      <td>Heathrow</td>\n",
       "      <td>London</td>\n",
       "      <td>GB</td>\n",
       "      <td>51.47060</td>\n",
       "      <td>-0.461941</td>\n",
       "    </tr>\n",
       "    <tr>\n",
       "      <th>21</th>\n",
       "      <td>EGKR</td>\n",
       "      <td>KRH</td>\n",
       "      <td>Redhill, Redhill Aerodrome</td>\n",
       "      <td>Aerodrome</td>\n",
       "      <td>Redhill</td>\n",
       "      <td>GB</td>\n",
       "      <td>51.21360</td>\n",
       "      <td>-0.138611</td>\n",
       "    </tr>\n",
       "    <tr>\n",
       "      <th>22</th>\n",
       "      <td>EGKK</td>\n",
       "      <td>LGW</td>\n",
       "      <td>London, London Gatwick</td>\n",
       "      <td>Gatwick</td>\n",
       "      <td>London</td>\n",
       "      <td>GB</td>\n",
       "      <td>51.14810</td>\n",
       "      <td>-0.190277</td>\n",
       "    </tr>\n",
       "    <tr>\n",
       "      <th>23</th>\n",
       "      <td>EGGW</td>\n",
       "      <td>LTN</td>\n",
       "      <td>London, London Luton</td>\n",
       "      <td>Luton</td>\n",
       "      <td>London</td>\n",
       "      <td>GB</td>\n",
       "      <td>51.87470</td>\n",
       "      <td>-0.368333</td>\n",
       "    </tr>\n",
       "    <tr>\n",
       "      <th>24</th>\n",
       "      <td>EGTO</td>\n",
       "      <td>RCS</td>\n",
       "      <td>Rochester</td>\n",
       "      <td>Rochester</td>\n",
       "      <td>Rochester</td>\n",
       "      <td>GB</td>\n",
       "      <td>51.35190</td>\n",
       "      <td>0.503332</td>\n",
       "    </tr>\n",
       "    <tr>\n",
       "      <th>25</th>\n",
       "      <td>EGTB</td>\n",
       "      <td>HYC</td>\n",
       "      <td>High Wycombe, Wycombe Air Park</td>\n",
       "      <td>Wycombe Air Park</td>\n",
       "      <td>High Wycombe</td>\n",
       "      <td>GB</td>\n",
       "      <td>51.61170</td>\n",
       "      <td>-0.808332</td>\n",
       "    </tr>\n",
       "    <tr>\n",
       "      <th>26</th>\n",
       "      <td>EGSS</td>\n",
       "      <td>STN</td>\n",
       "      <td>London, London Stansted</td>\n",
       "      <td>Stansted</td>\n",
       "      <td>London</td>\n",
       "      <td>GB</td>\n",
       "      <td>51.88500</td>\n",
       "      <td>0.234999</td>\n",
       "    </tr>\n",
       "  </tbody>\n",
       "</table>\n",
       "</div>"
      ],
      "text/plain": [
       "    icao iata                                               name  \\\n",
       "0   EDAZ  QXH                                Trebbin, Schönhagen   \n",
       "1   EDDB  BER                         Berlin, Berlin Brandenburg   \n",
       "2   EDDT  TXL                               Berlin, Berlin-Tegel   \n",
       "3   EDDT  TXL                               Berlin, Berlin-Tegel   \n",
       "4   EDDB  BER                         Berlin, Berlin Brandenburg   \n",
       "5   EDAZ  QXH                                Trebbin, Schönhagen   \n",
       "6   EDAX  REB                                 Lärz, Rechlin-Lärz   \n",
       "7   LFPB  LBG                            Paris, Paris-Le Bourget   \n",
       "8   LFPV  VIY  Villacoublay/Vélizy, Villacoublay-Vélizy (BA 1...   \n",
       "9   LFPO  ORY                                  Paris, Paris-Orly   \n",
       "10  LFPN  TNF                                   Toussus-le-Noble   \n",
       "11  LFPG  CDG                           Paris, Charles de Gaulle   \n",
       "12  LFPT  POX           Pontoise, Pontoise - Cormeilles-en-Vexin   \n",
       "13  LFPC  CSF                              Creil, Creil Air Base   \n",
       "14  LFOB  BVA               Beauvais/Tillé, Paris Beauvais Tillé   \n",
       "15  LFAD  XCP                 Calais-Dunkerque, Compiègne Margny   \n",
       "16  LFOR  QTJ          Chartres / Champhol, Chartres – Métropole   \n",
       "17  EGLC  LCY                                London, London City   \n",
       "18  EGWU  NHT                               London, RAF Northolt   \n",
       "19  EGKB  BQH                         London, London Biggin Hill   \n",
       "20  EGLL  LHR                            London, London Heathrow   \n",
       "21  EGKR  KRH                         Redhill, Redhill Aerodrome   \n",
       "22  EGKK  LGW                             London, London Gatwick   \n",
       "23  EGGW  LTN                               London, London Luton   \n",
       "24  EGTO  RCS                                          Rochester   \n",
       "25  EGTB  HYC                     High Wycombe, Wycombe Air Park   \n",
       "26  EGSS  STN                            London, London Stansted   \n",
       "\n",
       "                                shortName     municipalityName countryCode  \\\n",
       "0                              Schönhagen              Trebbin          DE   \n",
       "1                             Brandenburg               Berlin          DE   \n",
       "2                                  -Tegel               Berlin          DE   \n",
       "3                                  -Tegel               Berlin          DE   \n",
       "4                             Brandenburg               Berlin          DE   \n",
       "5                              Schönhagen              Trebbin          DE   \n",
       "6                                Rechlin-                 Lärz          DE   \n",
       "7                             -Le Bourget                Paris          FR   \n",
       "8   Villacoublay-Vélizy (BA 107) Air Base  Villacoublay/Vélizy          FR   \n",
       "9                                   -Orly                Paris          FR   \n",
       "10                       Toussus-le-Noble     Toussus-le-Noble          FR   \n",
       "11                      Charles de Gaulle                Paris          FR   \n",
       "12                  - Cormeilles-en-Vexin             Pontoise          FR   \n",
       "13                               Air Base                Creil          FR   \n",
       "14                   Paris Beauvais Tillé       Beauvais/Tillé          FR   \n",
       "15                       Compiègne Margny     Calais-Dunkerque          FR   \n",
       "16                   Chartres – Métropole  Chartres / Champhol          FR   \n",
       "17                                   City               London          GB   \n",
       "18                           RAF Northolt               London          GB   \n",
       "19                            Biggin Hill               London          GB   \n",
       "20                               Heathrow               London          GB   \n",
       "21                              Aerodrome              Redhill          GB   \n",
       "22                                Gatwick               London          GB   \n",
       "23                                  Luton               London          GB   \n",
       "24                              Rochester            Rochester          GB   \n",
       "25                       Wycombe Air Park         High Wycombe          GB   \n",
       "26                               Stansted               London          GB   \n",
       "\n",
       "    location.lat  location.lon  \n",
       "0       52.20361     13.156389  \n",
       "1       52.35139     13.493889  \n",
       "2       52.55970     13.287699  \n",
       "3       52.55970     13.287699  \n",
       "4       52.35139     13.493889  \n",
       "5       52.20361     13.156389  \n",
       "6       53.30639     12.752222  \n",
       "7       48.96940      2.441390  \n",
       "8       48.77440      2.201539  \n",
       "9       48.72530      2.359440  \n",
       "10      48.75190      2.106189  \n",
       "11      49.01280      2.549999  \n",
       "12      49.09660      2.040829  \n",
       "13      49.25350      2.519140  \n",
       "14      49.45440      2.112780  \n",
       "15      49.43440      2.806109  \n",
       "16      48.45890      1.523890  \n",
       "17      51.50530      0.055277  \n",
       "18      51.55300     -0.418166  \n",
       "19      51.33080      0.032499  \n",
       "20      51.47060     -0.461941  \n",
       "21      51.21360     -0.138611  \n",
       "22      51.14810     -0.190277  \n",
       "23      51.87470     -0.368333  \n",
       "24      51.35190      0.503332  \n",
       "25      51.61170     -0.808332  \n",
       "26      51.88500      0.234999  "
      ]
     },
     "execution_count": 32,
     "metadata": {},
     "output_type": "execute_result"
    }
   ],
   "source": [
    "all_airports_df"
   ]
  },
  {
   "cell_type": "code",
   "execution_count": 31,
   "metadata": {
    "colab": {
     "base_uri": "https://localhost:8080/"
    },
    "id": "EO_btJ4uAN3O",
    "outputId": "26bd3020-cf57-490d-bf77-b569ea8586aa"
   },
   "outputs": [
    {
     "data": {
      "text/plain": [
       "0     EDAZ\n",
       "1     EDDB\n",
       "2     EDDT\n",
       "3     EDDT\n",
       "4     EDDB\n",
       "5     EDAZ\n",
       "6     EDAX\n",
       "7     LFPB\n",
       "8     LFPV\n",
       "9     LFPO\n",
       "10    LFPN\n",
       "11    LFPG\n",
       "12    LFPT\n",
       "13    LFPC\n",
       "14    LFOB\n",
       "15    LFAD\n",
       "16    LFOR\n",
       "17    EGLC\n",
       "18    EGWU\n",
       "19    EGKB\n",
       "20    EGLL\n",
       "21    EGKR\n",
       "22    EGKK\n",
       "23    EGGW\n",
       "24    EGTO\n",
       "25    EGTB\n",
       "26    EGSS\n",
       "Name: icao, dtype: object"
      ]
     },
     "execution_count": 31,
     "metadata": {},
     "output_type": "execute_result"
    }
   ],
   "source": [
    "list_icao = all_airports_df['icao']\n",
    "list_icao"
   ]
  },
  {
   "cell_type": "markdown",
   "metadata": {
    "id": "mVbu2ALrmbre"
   },
   "source": [
    "API_KEY_aerodatabox** ICAO\n"
   ]
  },
  {
   "cell_type": "code",
   "execution_count": null,
   "metadata": {},
   "outputs": [],
   "source": [
    "API_KEY_aerodatabox = os.environ.get(\"API_KEY_aerodatabox\")"
   ]
  },
  {
   "cell_type": "code",
   "execution_count": 54,
   "metadata": {
    "colab": {
     "base_uri": "https://localhost:8080/"
    },
    "id": "DBhoOhe12MJF",
    "outputId": "4f080d25-9de9-4d16-877c-ef7026abf7e9"
   },
   "outputs": [
    {
     "name": "stdout",
     "output_type": "stream",
     "text": [
      "{'message': 'Too many requests'}\n"
     ]
    }
   ],
   "source": [
    "import requests\n",
    "from datetime import datetime\n",
    "import pytz\n",
    "import pandas as pd\n",
    "icao = ('EDDB')\n",
    "\n",
    "url = (f\"https://aerodatabox.p.rapidapi.com/flights/airports/icao/{icao}/2023-04-04T20:00/2023-04-05T08:00\")\n",
    "\n",
    "querystring = {\"withLeg\":\"true\",\"direction\":\"Arrival\",\"withCancelled\":\"true\",\"withCodeshared\":\"true\",\"withCargo\":\"true\",\"withPrivate\":\"true\",\"withLocation\":\"false\"}\n",
    "\n",
    "headers = {\n",
    "\t\"X-RapidAPI-Key\": \"API_KEY_aerodatabox\",\n",
    "\t\"X-RapidAPI-Host\": \"aerodatabox.p.rapidapi.com\"\n",
    "}\n",
    "\n",
    "response = requests.get(url, headers=headers, params=querystring)\n",
    "\n",
    "print(response.json())"
   ]
  },
  {
   "cell_type": "code",
   "execution_count": null,
   "metadata": {
    "id": "oR2KXb0yKTaA"
   },
   "outputs": [],
   "source": []
  },
  {
   "cell_type": "code",
   "execution_count": 16,
   "metadata": {
    "colab": {
     "base_uri": "https://localhost:8080/"
    },
    "id": "KlSKAm6b7TKQ",
    "outputId": "0ebcbd77-9e63-4f80-d823-2ec213571df7"
   },
   "outputs": [
    {
     "data": {
      "text/plain": [
       "datetime.datetime(2023, 7, 20, 20, 57, 26, 417977, tzinfo=<DstTzInfo 'Europe/Berlin' CEST+2:00:00 DST>)"
      ]
     },
     "execution_count": 16,
     "metadata": {},
     "output_type": "execute_result"
    }
   ],
   "source": [
    "tz = pytz.timezone('Europe/Berlin')\n",
    "now = datetime.now().astimezone(tz)\n",
    "\n",
    "now"
   ]
  },
  {
   "cell_type": "code",
   "execution_count": null,
   "metadata": {
    "colab": {
     "base_uri": "https://localhost:8080/",
     "height": 58
    },
    "collapsed": true,
    "id": "5lgndyAx-Id5",
    "jupyter": {
     "outputs_hidden": true
    },
    "outputId": "9d2de6d8-37a8-4266-a437-3991411e6fc3",
    "tags": []
   },
   "outputs": [
    {
     "data": {
      "application/vnd.google.colaboratory.intrinsic+json": {
       "type": "string"
      },
      "text/plain": [
       "'Faro'"
      ]
     },
     "execution_count": 98,
     "metadata": {},
     "output_type": "execute_result"
    }
   ],
   "source": [
    "json['arrivals'][0]['departure']['airport']['name']"
   ]
  },
  {
   "cell_type": "code",
   "execution_count": null,
   "metadata": {},
   "outputs": [],
   "source": [
    "arrivals_dict = {'time':[],\n",
    "                 'city':[],\n",
    "                 'information_retrieved_at' : []}\n",
    "\n",
    "for i in json['arrivals']:\n",
    "    try:\n",
    "      arrivals_dict['time'].append(i['departure']['runwayTimeLocal'])\n",
    "    except:\n",
    "       arrivals_dict['time'].append('0')\n",
    "    arrivals_dict['city'].append(i['departure']['airport']['name'])\n",
    "    arrivals_dict['information_retrieved_at'].append(now.strftime(\"%d/%m/%Y %H:%M:%S\"))"
   ]
  },
  {
   "cell_type": "code",
   "execution_count": null,
   "metadata": {
    "colab": {
     "base_uri": "https://localhost:8080/",
     "height": 433
    },
    "id": "xy4XA0g5Lf9t",
    "outputId": "057d3843-256b-48ff-a995-b88102e47fce"
   },
   "outputs": [
    {
     "data": {
      "text/html": [
       "\n",
       "\n",
       "  <div id=\"df-27c2bdf7-d145-4c02-b6f8-fb0fd03ac088\">\n",
       "    <div class=\"colab-df-container\">\n",
       "      <div>\n",
       "<style scoped>\n",
       "    .dataframe tbody tr th:only-of-type {\n",
       "        vertical-align: middle;\n",
       "    }\n",
       "\n",
       "    .dataframe tbody tr th {\n",
       "        vertical-align: top;\n",
       "    }\n",
       "\n",
       "    .dataframe thead th {\n",
       "        text-align: right;\n",
       "    }\n",
       "</style>\n",
       "<table border=\"1\" class=\"dataframe\">\n",
       "  <thead>\n",
       "    <tr style=\"text-align: right;\">\n",
       "      <th></th>\n",
       "      <th>time</th>\n",
       "      <th>city</th>\n",
       "      <th>information_retrieved_at</th>\n",
       "    </tr>\n",
       "  </thead>\n",
       "  <tbody>\n",
       "    <tr>\n",
       "      <th>0</th>\n",
       "      <td>2023-04-04 15:41+01:00</td>\n",
       "      <td>Faro</td>\n",
       "      <td>17/07/2023 20:42:33</td>\n",
       "    </tr>\n",
       "    <tr>\n",
       "      <th>1</th>\n",
       "      <td>2023-04-04 18:55+02:00</td>\n",
       "      <td>Zurich</td>\n",
       "      <td>17/07/2023 20:42:33</td>\n",
       "    </tr>\n",
       "    <tr>\n",
       "      <th>2</th>\n",
       "      <td>0</td>\n",
       "      <td>Rodes Island</td>\n",
       "      <td>17/07/2023 20:42:33</td>\n",
       "    </tr>\n",
       "    <tr>\n",
       "      <th>3</th>\n",
       "      <td>2023-04-04 19:28+02:00</td>\n",
       "      <td>Amsterdam</td>\n",
       "      <td>17/07/2023 20:42:33</td>\n",
       "    </tr>\n",
       "    <tr>\n",
       "      <th>4</th>\n",
       "      <td>2023-04-04 19:13+02:00</td>\n",
       "      <td>Zurich</td>\n",
       "      <td>17/07/2023 20:42:33</td>\n",
       "    </tr>\n",
       "    <tr>\n",
       "      <th>...</th>\n",
       "      <td>...</td>\n",
       "      <td>...</td>\n",
       "      <td>...</td>\n",
       "    </tr>\n",
       "    <tr>\n",
       "      <th>58</th>\n",
       "      <td>2023-04-05 07:31+03:00</td>\n",
       "      <td>Riga</td>\n",
       "      <td>17/07/2023 20:42:33</td>\n",
       "    </tr>\n",
       "    <tr>\n",
       "      <th>59</th>\n",
       "      <td>0</td>\n",
       "      <td>Salzburg</td>\n",
       "      <td>17/07/2023 20:42:33</td>\n",
       "    </tr>\n",
       "    <tr>\n",
       "      <th>60</th>\n",
       "      <td>2023-04-04 17:58-04:00</td>\n",
       "      <td>Newark</td>\n",
       "      <td>17/07/2023 20:42:33</td>\n",
       "    </tr>\n",
       "    <tr>\n",
       "      <th>61</th>\n",
       "      <td>2023-04-05 07:12+03:00</td>\n",
       "      <td>Helsinki</td>\n",
       "      <td>17/07/2023 20:42:33</td>\n",
       "    </tr>\n",
       "    <tr>\n",
       "      <th>62</th>\n",
       "      <td>0</td>\n",
       "      <td>Brussels</td>\n",
       "      <td>17/07/2023 20:42:33</td>\n",
       "    </tr>\n",
       "  </tbody>\n",
       "</table>\n",
       "<p>63 rows × 3 columns</p>\n",
       "</div>\n",
       "      <button class=\"colab-df-convert\" onclick=\"convertToInteractive('df-27c2bdf7-d145-4c02-b6f8-fb0fd03ac088')\"\n",
       "              title=\"Convert this dataframe to an interactive table.\"\n",
       "              style=\"display:none;\">\n",
       "\n",
       "  <svg xmlns=\"http://www.w3.org/2000/svg\" height=\"24px\"viewBox=\"0 0 24 24\"\n",
       "       width=\"24px\">\n",
       "    <path d=\"M0 0h24v24H0V0z\" fill=\"none\"/>\n",
       "    <path d=\"M18.56 5.44l.94 2.06.94-2.06 2.06-.94-2.06-.94-.94-2.06-.94 2.06-2.06.94zm-11 1L8.5 8.5l.94-2.06 2.06-.94-2.06-.94L8.5 2.5l-.94 2.06-2.06.94zm10 10l.94 2.06.94-2.06 2.06-.94-2.06-.94-.94-2.06-.94 2.06-2.06.94z\"/><path d=\"M17.41 7.96l-1.37-1.37c-.4-.4-.92-.59-1.43-.59-.52 0-1.04.2-1.43.59L10.3 9.45l-7.72 7.72c-.78.78-.78 2.05 0 2.83L4 21.41c.39.39.9.59 1.41.59.51 0 1.02-.2 1.41-.59l7.78-7.78 2.81-2.81c.8-.78.8-2.07 0-2.86zM5.41 20L4 18.59l7.72-7.72 1.47 1.35L5.41 20z\"/>\n",
       "  </svg>\n",
       "      </button>\n",
       "\n",
       "\n",
       "\n",
       "    <div id=\"df-9afbdb69-309b-4d89-802e-2e33ff7bbd45\">\n",
       "      <button class=\"colab-df-quickchart\" onclick=\"quickchart('df-9afbdb69-309b-4d89-802e-2e33ff7bbd45')\"\n",
       "              title=\"Suggest charts.\"\n",
       "              style=\"display:none;\">\n",
       "\n",
       "<svg xmlns=\"http://www.w3.org/2000/svg\" height=\"24px\"viewBox=\"0 0 24 24\"\n",
       "     width=\"24px\">\n",
       "    <g>\n",
       "        <path d=\"M19 3H5c-1.1 0-2 .9-2 2v14c0 1.1.9 2 2 2h14c1.1 0 2-.9 2-2V5c0-1.1-.9-2-2-2zM9 17H7v-7h2v7zm4 0h-2V7h2v10zm4 0h-2v-4h2v4z\"/>\n",
       "    </g>\n",
       "</svg>\n",
       "      </button>\n",
       "    </div>\n",
       "\n",
       "<style>\n",
       "  .colab-df-quickchart {\n",
       "    background-color: #E8F0FE;\n",
       "    border: none;\n",
       "    border-radius: 50%;\n",
       "    cursor: pointer;\n",
       "    display: none;\n",
       "    fill: #1967D2;\n",
       "    height: 32px;\n",
       "    padding: 0 0 0 0;\n",
       "    width: 32px;\n",
       "  }\n",
       "\n",
       "  .colab-df-quickchart:hover {\n",
       "    background-color: #E2EBFA;\n",
       "    box-shadow: 0px 1px 2px rgba(60, 64, 67, 0.3), 0px 1px 3px 1px rgba(60, 64, 67, 0.15);\n",
       "    fill: #174EA6;\n",
       "  }\n",
       "\n",
       "  [theme=dark] .colab-df-quickchart {\n",
       "    background-color: #3B4455;\n",
       "    fill: #D2E3FC;\n",
       "  }\n",
       "\n",
       "  [theme=dark] .colab-df-quickchart:hover {\n",
       "    background-color: #434B5C;\n",
       "    box-shadow: 0px 1px 3px 1px rgba(0, 0, 0, 0.15);\n",
       "    filter: drop-shadow(0px 1px 2px rgba(0, 0, 0, 0.3));\n",
       "    fill: #FFFFFF;\n",
       "  }\n",
       "</style>\n",
       "\n",
       "    <script>\n",
       "      async function quickchart(key) {\n",
       "        const containerElement = document.querySelector('#' + key);\n",
       "        const charts = await google.colab.kernel.invokeFunction(\n",
       "            'suggestCharts', [key], {});\n",
       "      }\n",
       "    </script>\n",
       "\n",
       "      <script>\n",
       "\n",
       "function displayQuickchartButton(domScope) {\n",
       "  let quickchartButtonEl =\n",
       "    domScope.querySelector('#df-9afbdb69-309b-4d89-802e-2e33ff7bbd45 button.colab-df-quickchart');\n",
       "  quickchartButtonEl.style.display =\n",
       "    google.colab.kernel.accessAllowed ? 'block' : 'none';\n",
       "}\n",
       "\n",
       "        displayQuickchartButton(document);\n",
       "      </script>\n",
       "      <style>\n",
       "    .colab-df-container {\n",
       "      display:flex;\n",
       "      flex-wrap:wrap;\n",
       "      gap: 12px;\n",
       "    }\n",
       "\n",
       "    .colab-df-convert {\n",
       "      background-color: #E8F0FE;\n",
       "      border: none;\n",
       "      border-radius: 50%;\n",
       "      cursor: pointer;\n",
       "      display: none;\n",
       "      fill: #1967D2;\n",
       "      height: 32px;\n",
       "      padding: 0 0 0 0;\n",
       "      width: 32px;\n",
       "    }\n",
       "\n",
       "    .colab-df-convert:hover {\n",
       "      background-color: #E2EBFA;\n",
       "      box-shadow: 0px 1px 2px rgba(60, 64, 67, 0.3), 0px 1px 3px 1px rgba(60, 64, 67, 0.15);\n",
       "      fill: #174EA6;\n",
       "    }\n",
       "\n",
       "    [theme=dark] .colab-df-convert {\n",
       "      background-color: #3B4455;\n",
       "      fill: #D2E3FC;\n",
       "    }\n",
       "\n",
       "    [theme=dark] .colab-df-convert:hover {\n",
       "      background-color: #434B5C;\n",
       "      box-shadow: 0px 1px 3px 1px rgba(0, 0, 0, 0.15);\n",
       "      filter: drop-shadow(0px 1px 2px rgba(0, 0, 0, 0.3));\n",
       "      fill: #FFFFFF;\n",
       "    }\n",
       "  </style>\n",
       "\n",
       "      <script>\n",
       "        const buttonEl =\n",
       "          document.querySelector('#df-27c2bdf7-d145-4c02-b6f8-fb0fd03ac088 button.colab-df-convert');\n",
       "        buttonEl.style.display =\n",
       "          google.colab.kernel.accessAllowed ? 'block' : 'none';\n",
       "\n",
       "        async function convertToInteractive(key) {\n",
       "          const element = document.querySelector('#df-27c2bdf7-d145-4c02-b6f8-fb0fd03ac088');\n",
       "          const dataTable =\n",
       "            await google.colab.kernel.invokeFunction('convertToInteractive',\n",
       "                                                     [key], {});\n",
       "          if (!dataTable) return;\n",
       "\n",
       "          const docLinkHtml = 'Like what you see? Visit the ' +\n",
       "            '<a target=\"_blank\" href=https://colab.research.google.com/notebooks/data_table.ipynb>data table notebook</a>'\n",
       "            + ' to learn more about interactive tables.';\n",
       "          element.innerHTML = '';\n",
       "          dataTable['output_type'] = 'display_data';\n",
       "          await google.colab.output.renderOutput(dataTable, element);\n",
       "          const docLink = document.createElement('div');\n",
       "          docLink.innerHTML = docLinkHtml;\n",
       "          element.appendChild(docLink);\n",
       "        }\n",
       "      </script>\n",
       "    </div>\n",
       "  </div>\n"
      ],
      "text/plain": [
       "                      time          city information_retrieved_at\n",
       "0   2023-04-04 15:41+01:00          Faro      17/07/2023 20:42:33\n",
       "1   2023-04-04 18:55+02:00        Zurich      17/07/2023 20:42:33\n",
       "2                        0  Rodes Island      17/07/2023 20:42:33\n",
       "3   2023-04-04 19:28+02:00     Amsterdam      17/07/2023 20:42:33\n",
       "4   2023-04-04 19:13+02:00        Zurich      17/07/2023 20:42:33\n",
       "..                     ...           ...                      ...\n",
       "58  2023-04-05 07:31+03:00          Riga      17/07/2023 20:42:33\n",
       "59                       0      Salzburg      17/07/2023 20:42:33\n",
       "60  2023-04-04 17:58-04:00        Newark      17/07/2023 20:42:33\n",
       "61  2023-04-05 07:12+03:00      Helsinki      17/07/2023 20:42:33\n",
       "62                       0      Brussels      17/07/2023 20:42:33\n",
       "\n",
       "[63 rows x 3 columns]"
      ]
     },
     "execution_count": 139,
     "metadata": {},
     "output_type": "execute_result"
    }
   ],
   "source": [
    "arrivals_df = pd.DataFrame(arrivals_dict)\n",
    "arrivals_df"
   ]
  },
  {
   "cell_type": "code",
   "execution_count": 27,
   "metadata": {
    "id": "bVwc2gVE8_Xd"
   },
   "outputs": [],
   "source": [
    "def get_arrivals_loop(icao):\n",
    "  #API_key=\n",
    "\n",
    "  tz = pytz.timezone('Europe/Berlin')\n",
    "  now = datetime.now().astimezone(tz)\n",
    "\n",
    "  arrivals_dict = {'time':[],\n",
    "                 'city':[],\n",
    "                 'information_retrieved_at' : []}\n",
    "\n",
    "  for arrival in icao:\n",
    "    url = (f\"https://aerodatabox.p.rapidapi.com/flights/airports/icao/{icao}/2023-04-04T20:00/2023-04-05T08:00\")\n",
    "\n",
    "    querystring = {\"withLeg\":\"true\",\"direction\":\"Arrival\",\"withCancelled\":\"true\",\"withCodeshared\":\"true\",\"withCargo\":\"true\",\"withPrivate\":\"true\",\"withLocation\":\"false\"}\n",
    "\n",
    "  headers = {\n",
    "   \t\"X-RapidAPI-Key\": \"0b7cffd425mshbf932b1b5f7e633p187a96jsna5aedb4ce276\",\n",
    "\t  \"X-RapidAPI-Host\": \"aerodatabox.p.rapidapi.com\"\n",
    "  }\n",
    "\n",
    "  response = requests.get(url, headers=headers, params=querystring)\n",
    "  json = response.json()\n",
    "\n",
    "  for i in json['arrivals']:\n",
    "        try:\n",
    "         arrivals_dict['time'].append(i['departure']['runwayTimeLocal'])\n",
    "        except:\n",
    "           arrivals_dict['time'].append('0')\n",
    "        arrivals_dict['city'].append(i['departure']['airport']['name'])\n",
    "        arrivals_dict['information_retrieved_at'].append(now.strftime(\"%d/%m/%Y %H:%M:%S\"))\n",
    "\n",
    "  return pd.DataFrame(arrivals_dict)\n"
   ]
  },
  {
   "cell_type": "markdown",
   "metadata": {
    "id": "svgmbp-Wmgjw"
   },
   "source": [
    "** TOMORROWS ARRIVALS"
   ]
  },
  {
   "cell_type": "code",
   "execution_count": 15,
   "metadata": {
    "id": "yjbL8BmJ2O6V"
   },
   "outputs": [],
   "source": [
    "import pandas as pd\n",
    "from datetime import datetime, date, timedelta\n",
    "import pytz\n",
    "from pytz import timezone\n",
    "import requests\n",
    "#import os \n",
    "#TOMMORROW_KEY = os.getenv('TOMMORROW_KEY')\n",
    "\n",
    "def tomorrows_arrivals(list_icao):\n",
    "\n",
    "  today = datetime.now().astimezone(timezone('Europe/Berlin')).date()\n",
    "  tomorrow = (today + timedelta(days=1))\n",
    "\n",
    "  arrivals_df = []\n",
    "\n",
    "  for icao in list_icao:\n",
    "      times = [['00:00', '11:59'], ['12:00', '23:59']]\n",
    "\n",
    "      for time in times:\n",
    "        url = f\"https://aerodatabox.p.rapidapi.com/flights/airports/icao/{icao}/{tomorrow}T{time[0]}/{tomorrow}T{time[1]}\"\n",
    "        querystring = {\"withLeg\":\"true\",\"direction\":\"Arrival\",\"withCancelled\":\"false\",\"withCodeshared\":\"true\",\"withCargo\":\"false\",\"withPrivate\":\"false\"}\n",
    "        headers = {\n",
    "          'x-rapidapi-host':\"aerodatabox.p.rapidapi.com\",\n",
    "          'x-rapidapi-key': \"0b7cffd425mshbf932b1b5f7e633p187a96jsna5aedb4ce276\"\n",
    "          }\n",
    "        response = requests.request(\"GET\", url, headers=headers, params=querystring)\n",
    "        flights_json = response.json()\n",
    "\n",
    "      for flight in flights_json['arrivals']:\n",
    "        flights_dict = {}\n",
    "        flights_dict['arrival_icao'] = icao\n",
    "        flights_dict['arrival_time_local'] = flight['arrival'].get('scheduledTimeLocal', None)\n",
    "        flights_dict['arrival_terminal'] = flight['arrival'].get('terminal', None)\n",
    "        flights_dict['departure_city'] = flight['departure']['airport'].get('name', None)\n",
    "        flights_dict['departure_icao'] = flight['departure']['airport'].get('icao', None)\n",
    "        flights_dict['departure_time_local'] = flight['departure'].get('scheduledTimeLocal', None)\n",
    "        flights_dict['airline'] = flight['airline'].get('name')\n",
    "        flights_dict['flight_number'] = flight.get('number')\n",
    "\n",
    "        flights_dict['data_retrieved_on'] = datetime.now().astimezone(timezone('Europe/Berlin')).date()\n",
    "        arrivals_df.append(flights_dict)\n",
    "\n",
    "  return pd.DataFrame(arrivals_df)\n",
    "\n",
    "\n"
   ]
  },
  {
   "cell_type": "code",
   "execution_count": 21,
   "metadata": {},
   "outputs": [
    {
     "data": {
      "text/html": [
       "<div>\n",
       "<style scoped>\n",
       "    .dataframe tbody tr th:only-of-type {\n",
       "        vertical-align: middle;\n",
       "    }\n",
       "\n",
       "    .dataframe tbody tr th {\n",
       "        vertical-align: top;\n",
       "    }\n",
       "\n",
       "    .dataframe thead th {\n",
       "        text-align: right;\n",
       "    }\n",
       "</style>\n",
       "<table border=\"1\" class=\"dataframe\">\n",
       "  <thead>\n",
       "    <tr style=\"text-align: right;\">\n",
       "      <th></th>\n",
       "      <th>arrival_icao</th>\n",
       "      <th>arrival_time_local</th>\n",
       "      <th>arrival_terminal</th>\n",
       "      <th>departure_city</th>\n",
       "      <th>departure_icao</th>\n",
       "      <th>departure_time_local</th>\n",
       "      <th>airline</th>\n",
       "      <th>flight_number</th>\n",
       "      <th>data_retrieved_on</th>\n",
       "    </tr>\n",
       "  </thead>\n",
       "  <tbody>\n",
       "    <tr>\n",
       "      <th>0</th>\n",
       "      <td>EDDB</td>\n",
       "      <td>2023-08-01 12:05+02:00</td>\n",
       "      <td>1</td>\n",
       "      <td>Munich</td>\n",
       "      <td>EDDM</td>\n",
       "      <td>None</td>\n",
       "      <td>Aegean</td>\n",
       "      <td>A3 1586</td>\n",
       "      <td>2023-07-31</td>\n",
       "    </tr>\n",
       "    <tr>\n",
       "      <th>1</th>\n",
       "      <td>EDDB</td>\n",
       "      <td>2023-08-01 12:55+02:00</td>\n",
       "      <td>1</td>\n",
       "      <td>Frankfurt-am-Main</td>\n",
       "      <td>EDDF</td>\n",
       "      <td>2023-08-01 11:45+02:00</td>\n",
       "      <td>Aegean</td>\n",
       "      <td>A3 1595</td>\n",
       "      <td>2023-07-31</td>\n",
       "    </tr>\n",
       "    <tr>\n",
       "      <th>2</th>\n",
       "      <td>EDDB</td>\n",
       "      <td>2023-08-01 12:05+02:00</td>\n",
       "      <td>1</td>\n",
       "      <td>Munich</td>\n",
       "      <td>EDDM</td>\n",
       "      <td>None</td>\n",
       "      <td>Air Canada</td>\n",
       "      <td>AC 9049</td>\n",
       "      <td>2023-07-31</td>\n",
       "    </tr>\n",
       "    <tr>\n",
       "      <th>3</th>\n",
       "      <td>EDDB</td>\n",
       "      <td>2023-08-01 12:55+02:00</td>\n",
       "      <td>1</td>\n",
       "      <td>Frankfurt-am-Main</td>\n",
       "      <td>EDDF</td>\n",
       "      <td>2023-08-01 11:45+02:00</td>\n",
       "      <td>Air Canada</td>\n",
       "      <td>AC 9245</td>\n",
       "      <td>2023-07-31</td>\n",
       "    </tr>\n",
       "    <tr>\n",
       "      <th>4</th>\n",
       "      <td>EDDB</td>\n",
       "      <td>2023-08-01 12:50+02:00</td>\n",
       "      <td>1</td>\n",
       "      <td>Venice</td>\n",
       "      <td>LIPZ</td>\n",
       "      <td>None</td>\n",
       "      <td>EasyJet Europe</td>\n",
       "      <td>EC 5086</td>\n",
       "      <td>2023-07-31</td>\n",
       "    </tr>\n",
       "    <tr>\n",
       "      <th>...</th>\n",
       "      <td>...</td>\n",
       "      <td>...</td>\n",
       "      <td>...</td>\n",
       "      <td>...</td>\n",
       "      <td>...</td>\n",
       "      <td>...</td>\n",
       "      <td>...</td>\n",
       "      <td>...</td>\n",
       "      <td>...</td>\n",
       "    </tr>\n",
       "    <tr>\n",
       "      <th>290</th>\n",
       "      <td>EGLC</td>\n",
       "      <td>2023-08-01 20:45+01:00</td>\n",
       "      <td>None</td>\n",
       "      <td>Bergerac/Roumanière</td>\n",
       "      <td>LFBE</td>\n",
       "      <td>2023-08-01 20:10+02:00</td>\n",
       "      <td>British Airways</td>\n",
       "      <td>BA 8746</td>\n",
       "      <td>2023-07-31</td>\n",
       "    </tr>\n",
       "    <tr>\n",
       "      <th>291</th>\n",
       "      <td>EGLC</td>\n",
       "      <td>2023-08-01 20:15+01:00</td>\n",
       "      <td>None</td>\n",
       "      <td>Amsterdam</td>\n",
       "      <td>EHAM</td>\n",
       "      <td>2023-08-01 20:05+02:00</td>\n",
       "      <td>KLM</td>\n",
       "      <td>KL 969</td>\n",
       "      <td>2023-07-31</td>\n",
       "    </tr>\n",
       "    <tr>\n",
       "      <th>292</th>\n",
       "      <td>EGLC</td>\n",
       "      <td>2023-08-01 19:50+01:00</td>\n",
       "      <td>None</td>\n",
       "      <td>Zurich</td>\n",
       "      <td>LSZH</td>\n",
       "      <td>2023-08-01 19:15+02:00</td>\n",
       "      <td>British Airways</td>\n",
       "      <td>BA 8768</td>\n",
       "      <td>2023-07-31</td>\n",
       "    </tr>\n",
       "    <tr>\n",
       "      <th>293</th>\n",
       "      <td>EGLC</td>\n",
       "      <td>2023-08-01 21:35+01:00</td>\n",
       "      <td>None</td>\n",
       "      <td>Dublin</td>\n",
       "      <td>EIDW</td>\n",
       "      <td>2023-08-01 20:05+01:00</td>\n",
       "      <td>British Airways</td>\n",
       "      <td>BA 4471</td>\n",
       "      <td>2023-07-31</td>\n",
       "    </tr>\n",
       "    <tr>\n",
       "      <th>294</th>\n",
       "      <td>EGLC</td>\n",
       "      <td>2023-08-01 21:35+01:00</td>\n",
       "      <td>None</td>\n",
       "      <td>Glasgow</td>\n",
       "      <td>EGPF</td>\n",
       "      <td>2023-08-01 20:15+01:00</td>\n",
       "      <td>British Airways</td>\n",
       "      <td>BA 8739</td>\n",
       "      <td>2023-07-31</td>\n",
       "    </tr>\n",
       "  </tbody>\n",
       "</table>\n",
       "<p>295 rows × 9 columns</p>\n",
       "</div>"
      ],
      "text/plain": [
       "    arrival_icao      arrival_time_local arrival_terminal  \\\n",
       "0           EDDB  2023-08-01 12:05+02:00                1   \n",
       "1           EDDB  2023-08-01 12:55+02:00                1   \n",
       "2           EDDB  2023-08-01 12:05+02:00                1   \n",
       "3           EDDB  2023-08-01 12:55+02:00                1   \n",
       "4           EDDB  2023-08-01 12:50+02:00                1   \n",
       "..           ...                     ...              ...   \n",
       "290         EGLC  2023-08-01 20:45+01:00             None   \n",
       "291         EGLC  2023-08-01 20:15+01:00             None   \n",
       "292         EGLC  2023-08-01 19:50+01:00             None   \n",
       "293         EGLC  2023-08-01 21:35+01:00             None   \n",
       "294         EGLC  2023-08-01 21:35+01:00             None   \n",
       "\n",
       "          departure_city departure_icao    departure_time_local  \\\n",
       "0                 Munich           EDDM                    None   \n",
       "1      Frankfurt-am-Main           EDDF  2023-08-01 11:45+02:00   \n",
       "2                 Munich           EDDM                    None   \n",
       "3      Frankfurt-am-Main           EDDF  2023-08-01 11:45+02:00   \n",
       "4                 Venice           LIPZ                    None   \n",
       "..                   ...            ...                     ...   \n",
       "290  Bergerac/Roumanière           LFBE  2023-08-01 20:10+02:00   \n",
       "291            Amsterdam           EHAM  2023-08-01 20:05+02:00   \n",
       "292               Zurich           LSZH  2023-08-01 19:15+02:00   \n",
       "293               Dublin           EIDW  2023-08-01 20:05+01:00   \n",
       "294              Glasgow           EGPF  2023-08-01 20:15+01:00   \n",
       "\n",
       "             airline flight_number data_retrieved_on  \n",
       "0             Aegean       A3 1586        2023-07-31  \n",
       "1             Aegean       A3 1595        2023-07-31  \n",
       "2         Air Canada       AC 9049        2023-07-31  \n",
       "3         Air Canada       AC 9245        2023-07-31  \n",
       "4     EasyJet Europe       EC 5086        2023-07-31  \n",
       "..               ...           ...               ...  \n",
       "290  British Airways       BA 8746        2023-07-31  \n",
       "291              KLM        KL 969        2023-07-31  \n",
       "292  British Airways       BA 8768        2023-07-31  \n",
       "293  British Airways       BA 4471        2023-07-31  \n",
       "294  British Airways       BA 8739        2023-07-31  \n",
       "\n",
       "[295 rows x 9 columns]"
      ]
     },
     "execution_count": 21,
     "metadata": {},
     "output_type": "execute_result"
    }
   ],
   "source": [
    "tomorrows_arrivals(['EDDB', 'EGLC'])#, 'EDDT'#, 'EGLC', 'EGWU', 'EGLL', 'EGKK', 'EGGW'])"
   ]
  },
  {
   "cell_type": "code",
   "execution_count": null,
   "metadata": {},
   "outputs": [],
   "source": []
  },
  {
   "cell_type": "code",
   "execution_count": 56,
   "metadata": {},
   "outputs": [],
   "source": [
    "import os\n",
    "from dotenv import load_dotenv"
   ]
  },
  {
   "cell_type": "code",
   "execution_count": 57,
   "metadata": {},
   "outputs": [
    {
     "data": {
      "text/plain": [
       "True"
      ]
     },
     "execution_count": 57,
     "metadata": {},
     "output_type": "execute_result"
    }
   ],
   "source": [
    "load_dotenv()"
   ]
  },
  {
   "cell_type": "code",
   "execution_count": 26,
   "metadata": {
    "id": "KadkjXoS7dNX"
   },
   "outputs": [],
   "source": [
    "\n",
    "today = datetime.now().astimezone(timezone('Europe/Berlin')).date()\n",
    "tomorrow = (today + timedelta(days=1))\n",
    "\n",
    "API_KEY_aerodatabox = os.environ.get('API_KEY_aerodatabox')\n",
    "\n",
    "arrivals_df = []\n",
    "times = [['00:00', '11:59'], ['12:00', '23:59']]\n",
    "\n",
    "for time in times:\n",
    "\n",
    "      url = (f\"https://aerodatabox.p.rapidapi.com/flights/airports/icao/EDDB/{tomorrow}T{time[0]}/{tomorrow}T{time[1]}\")\n",
    "\n",
    "      querystring = {\"withLeg\":\"true\",\"direction\":\"Arrival\",\"withCancelled\":\"true\",\"withCodeshared\":\"true\",\"withCargo\":\"true\",\"withPrivate\":\"true\",\"withLocation\":\"false\"}\n",
    "\n",
    "      headers = {\n",
    "   \t    \"X-RapidAPI-Key\": \"API_KEY_aerodatabox\",\n",
    "\t      \"X-RapidAPI-Host\": \"aerodatabox.p.rapidapi.com\"\n",
    "         }\n",
    "\n",
    "      response = requests.get(url, headers=headers, params=querystring)\n",
    "      flights_json = response.json()"
   ]
  },
  {
   "cell_type": "code",
   "execution_count": 30,
   "metadata": {
    "colab": {
     "base_uri": "https://localhost:8080/",
     "height": 642
    },
    "id": "cD8A43we8XrR",
    "outputId": "24f6d27f-8f1a-447e-8608-0f5bdf6c6e20"
   },
   "outputs": [
    {
     "data": {
      "text/html": [
       "<div>\n",
       "<style scoped>\n",
       "    .dataframe tbody tr th:only-of-type {\n",
       "        vertical-align: middle;\n",
       "    }\n",
       "\n",
       "    .dataframe tbody tr th {\n",
       "        vertical-align: top;\n",
       "    }\n",
       "\n",
       "    .dataframe thead th {\n",
       "        text-align: right;\n",
       "    }\n",
       "</style>\n",
       "<table border=\"1\" class=\"dataframe\">\n",
       "  <thead>\n",
       "    <tr style=\"text-align: right;\">\n",
       "      <th></th>\n",
       "      <th>arrival_icao</th>\n",
       "      <th>arrival_time_local</th>\n",
       "      <th>arrival_terminal</th>\n",
       "      <th>departure_city</th>\n",
       "      <th>departure_icao</th>\n",
       "      <th>departure_time_local</th>\n",
       "      <th>airline</th>\n",
       "      <th>flight_number</th>\n",
       "      <th>data_retrieved_on</th>\n",
       "    </tr>\n",
       "  </thead>\n",
       "  <tbody>\n",
       "    <tr>\n",
       "      <th>0</th>\n",
       "      <td>EDDB</td>\n",
       "      <td>2023-07-21 12:00+02:00</td>\n",
       "      <td>1</td>\n",
       "      <td>Monastir</td>\n",
       "      <td>DTMB</td>\n",
       "      <td>2023-07-21 08:00+01:00</td>\n",
       "      <td>Nouvelair Tunisie</td>\n",
       "      <td>BJ 248</td>\n",
       "      <td>2023-07-20</td>\n",
       "    </tr>\n",
       "    <tr>\n",
       "      <th>1</th>\n",
       "      <td>EDDB</td>\n",
       "      <td>2023-07-21 12:00+02:00</td>\n",
       "      <td>1</td>\n",
       "      <td>Cologne</td>\n",
       "      <td>EDDK</td>\n",
       "      <td>2023-07-21 10:50+02:00</td>\n",
       "      <td>Eurowings</td>\n",
       "      <td>EW 14</td>\n",
       "      <td>2023-07-20</td>\n",
       "    </tr>\n",
       "    <tr>\n",
       "      <th>2</th>\n",
       "      <td>EDDB</td>\n",
       "      <td>2023-07-21 12:05+02:00</td>\n",
       "      <td>1</td>\n",
       "      <td>Munich</td>\n",
       "      <td>EDDM</td>\n",
       "      <td>None</td>\n",
       "      <td>Aegean</td>\n",
       "      <td>A3 1586</td>\n",
       "      <td>2023-07-20</td>\n",
       "    </tr>\n",
       "    <tr>\n",
       "      <th>3</th>\n",
       "      <td>EDDB</td>\n",
       "      <td>2023-07-21 12:05+02:00</td>\n",
       "      <td>1</td>\n",
       "      <td>Munich</td>\n",
       "      <td>EDDM</td>\n",
       "      <td>None</td>\n",
       "      <td>Air Canada</td>\n",
       "      <td>AC 9049</td>\n",
       "      <td>2023-07-20</td>\n",
       "    </tr>\n",
       "    <tr>\n",
       "      <th>4</th>\n",
       "      <td>EDDB</td>\n",
       "      <td>2023-07-21 12:05+02:00</td>\n",
       "      <td>1</td>\n",
       "      <td>Munich</td>\n",
       "      <td>EDDM</td>\n",
       "      <td>2023-07-21 11:00+02:00</td>\n",
       "      <td>Lufthansa</td>\n",
       "      <td>LH 1936</td>\n",
       "      <td>2023-07-20</td>\n",
       "    </tr>\n",
       "    <tr>\n",
       "      <th>...</th>\n",
       "      <td>...</td>\n",
       "      <td>...</td>\n",
       "      <td>...</td>\n",
       "      <td>...</td>\n",
       "      <td>...</td>\n",
       "      <td>...</td>\n",
       "      <td>...</td>\n",
       "      <td>...</td>\n",
       "      <td>...</td>\n",
       "    </tr>\n",
       "    <tr>\n",
       "      <th>1568</th>\n",
       "      <td>EGLL</td>\n",
       "      <td>2023-07-21 22:10+01:00</td>\n",
       "      <td>3</td>\n",
       "      <td>Chicago</td>\n",
       "      <td>KORD</td>\n",
       "      <td>None</td>\n",
       "      <td>El Al</td>\n",
       "      <td>LY 8047</td>\n",
       "      <td>2023-07-20</td>\n",
       "    </tr>\n",
       "    <tr>\n",
       "      <th>1569</th>\n",
       "      <td>EGLL</td>\n",
       "      <td>2023-07-21 22:25+01:00</td>\n",
       "      <td>2</td>\n",
       "      <td>Istanbul</td>\n",
       "      <td>LTFM</td>\n",
       "      <td>2023-07-21 20:20+03:00</td>\n",
       "      <td>Turkish</td>\n",
       "      <td>TK 1987</td>\n",
       "      <td>2023-07-20</td>\n",
       "    </tr>\n",
       "    <tr>\n",
       "      <th>1570</th>\n",
       "      <td>EGLL</td>\n",
       "      <td>2023-07-21 22:05+01:00</td>\n",
       "      <td>2</td>\n",
       "      <td>Lisbon</td>\n",
       "      <td>LPPT</td>\n",
       "      <td>2023-07-21 19:25+01:00</td>\n",
       "      <td>TAP Air Portugal</td>\n",
       "      <td>TP 1358</td>\n",
       "      <td>2023-07-20</td>\n",
       "    </tr>\n",
       "    <tr>\n",
       "      <th>1571</th>\n",
       "      <td>EGLL</td>\n",
       "      <td>2023-07-21 22:55+01:00</td>\n",
       "      <td>2</td>\n",
       "      <td>Lisbon</td>\n",
       "      <td>LPPT</td>\n",
       "      <td>2023-07-21 20:15+01:00</td>\n",
       "      <td>TAP Air Portugal</td>\n",
       "      <td>TP 1366</td>\n",
       "      <td>2023-07-20</td>\n",
       "    </tr>\n",
       "    <tr>\n",
       "      <th>1572</th>\n",
       "      <td>EGLL</td>\n",
       "      <td>2023-07-21 22:25+01:00</td>\n",
       "      <td>2</td>\n",
       "      <td>Istanbul</td>\n",
       "      <td>LTFM</td>\n",
       "      <td>2023-07-21 20:20+03:00</td>\n",
       "      <td>United</td>\n",
       "      <td>UA 6918</td>\n",
       "      <td>2023-07-20</td>\n",
       "    </tr>\n",
       "  </tbody>\n",
       "</table>\n",
       "<p>1573 rows × 9 columns</p>\n",
       "</div>"
      ],
      "text/plain": [
       "     arrival_icao      arrival_time_local arrival_terminal departure_city  \\\n",
       "0            EDDB  2023-07-21 12:00+02:00                1       Monastir   \n",
       "1            EDDB  2023-07-21 12:00+02:00                1        Cologne   \n",
       "2            EDDB  2023-07-21 12:05+02:00                1         Munich   \n",
       "3            EDDB  2023-07-21 12:05+02:00                1         Munich   \n",
       "4            EDDB  2023-07-21 12:05+02:00                1         Munich   \n",
       "...           ...                     ...              ...            ...   \n",
       "1568         EGLL  2023-07-21 22:10+01:00                3        Chicago   \n",
       "1569         EGLL  2023-07-21 22:25+01:00                2       Istanbul   \n",
       "1570         EGLL  2023-07-21 22:05+01:00                2         Lisbon   \n",
       "1571         EGLL  2023-07-21 22:55+01:00                2         Lisbon   \n",
       "1572         EGLL  2023-07-21 22:25+01:00                2       Istanbul   \n",
       "\n",
       "     departure_icao    departure_time_local            airline flight_number  \\\n",
       "0              DTMB  2023-07-21 08:00+01:00  Nouvelair Tunisie        BJ 248   \n",
       "1              EDDK  2023-07-21 10:50+02:00          Eurowings         EW 14   \n",
       "2              EDDM                    None             Aegean       A3 1586   \n",
       "3              EDDM                    None         Air Canada       AC 9049   \n",
       "4              EDDM  2023-07-21 11:00+02:00          Lufthansa       LH 1936   \n",
       "...             ...                     ...                ...           ...   \n",
       "1568           KORD                    None              El Al       LY 8047   \n",
       "1569           LTFM  2023-07-21 20:20+03:00            Turkish       TK 1987   \n",
       "1570           LPPT  2023-07-21 19:25+01:00   TAP Air Portugal       TP 1358   \n",
       "1571           LPPT  2023-07-21 20:15+01:00   TAP Air Portugal       TP 1366   \n",
       "1572           LTFM  2023-07-21 20:20+03:00             United       UA 6918   \n",
       "\n",
       "     data_retrieved_on  \n",
       "0           2023-07-20  \n",
       "1           2023-07-20  \n",
       "2           2023-07-20  \n",
       "3           2023-07-20  \n",
       "4           2023-07-20  \n",
       "...                ...  \n",
       "1568        2023-07-20  \n",
       "1569        2023-07-20  \n",
       "1570        2023-07-20  \n",
       "1571        2023-07-20  \n",
       "1572        2023-07-20  \n",
       "\n",
       "[1573 rows x 9 columns]"
      ]
     },
     "execution_count": 30,
     "metadata": {},
     "output_type": "execute_result"
    }
   ],
   "source": [
    "arrivals_df = tomorrows_arrivals(['EDDB', 'EGLL'])\n",
    "arrivals_df.to_csv('iss_arrivals', index=False)\n",
    "arrivals_df\n"
   ]
  },
  {
   "cell_type": "code",
   "execution_count": null,
   "metadata": {},
   "outputs": [],
   "source": []
  },
  {
   "cell_type": "code",
   "execution_count": 34,
   "metadata": {},
   "outputs": [
    {
     "data": {
      "text/html": [
       "<div>\n",
       "<style scoped>\n",
       "    .dataframe tbody tr th:only-of-type {\n",
       "        vertical-align: middle;\n",
       "    }\n",
       "\n",
       "    .dataframe tbody tr th {\n",
       "        vertical-align: top;\n",
       "    }\n",
       "\n",
       "    .dataframe thead th {\n",
       "        text-align: right;\n",
       "    }\n",
       "</style>\n",
       "<table border=\"1\" class=\"dataframe\">\n",
       "  <thead>\n",
       "    <tr style=\"text-align: right;\">\n",
       "      <th></th>\n",
       "      <th>icao</th>\n",
       "      <th>name</th>\n",
       "      <th>municipalityName</th>\n",
       "      <th>location.lat</th>\n",
       "      <th>location.lon</th>\n",
       "    </tr>\n",
       "  </thead>\n",
       "  <tbody>\n",
       "    <tr>\n",
       "      <th>0</th>\n",
       "      <td>EDAZ</td>\n",
       "      <td>Trebbin, Schönhagen</td>\n",
       "      <td>Trebbin</td>\n",
       "      <td>52.20361</td>\n",
       "      <td>13.156389</td>\n",
       "    </tr>\n",
       "    <tr>\n",
       "      <th>1</th>\n",
       "      <td>EDDB</td>\n",
       "      <td>Berlin, Berlin Brandenburg</td>\n",
       "      <td>Berlin</td>\n",
       "      <td>52.35139</td>\n",
       "      <td>13.493889</td>\n",
       "    </tr>\n",
       "    <tr>\n",
       "      <th>2</th>\n",
       "      <td>EDDT</td>\n",
       "      <td>Berlin, Berlin-Tegel</td>\n",
       "      <td>Berlin</td>\n",
       "      <td>52.55970</td>\n",
       "      <td>13.287699</td>\n",
       "    </tr>\n",
       "    <tr>\n",
       "      <th>3</th>\n",
       "      <td>EDDT</td>\n",
       "      <td>Berlin, Berlin-Tegel</td>\n",
       "      <td>Berlin</td>\n",
       "      <td>52.55970</td>\n",
       "      <td>13.287699</td>\n",
       "    </tr>\n",
       "    <tr>\n",
       "      <th>4</th>\n",
       "      <td>EDDB</td>\n",
       "      <td>Berlin, Berlin Brandenburg</td>\n",
       "      <td>Berlin</td>\n",
       "      <td>52.35139</td>\n",
       "      <td>13.493889</td>\n",
       "    </tr>\n",
       "    <tr>\n",
       "      <th>5</th>\n",
       "      <td>EDAZ</td>\n",
       "      <td>Trebbin, Schönhagen</td>\n",
       "      <td>Trebbin</td>\n",
       "      <td>52.20361</td>\n",
       "      <td>13.156389</td>\n",
       "    </tr>\n",
       "    <tr>\n",
       "      <th>6</th>\n",
       "      <td>EDAX</td>\n",
       "      <td>Lärz, Rechlin-Lärz</td>\n",
       "      <td>Lärz</td>\n",
       "      <td>53.30639</td>\n",
       "      <td>12.752222</td>\n",
       "    </tr>\n",
       "    <tr>\n",
       "      <th>7</th>\n",
       "      <td>LFPB</td>\n",
       "      <td>Paris, Paris-Le Bourget</td>\n",
       "      <td>Paris</td>\n",
       "      <td>48.96940</td>\n",
       "      <td>2.441390</td>\n",
       "    </tr>\n",
       "    <tr>\n",
       "      <th>8</th>\n",
       "      <td>LFPV</td>\n",
       "      <td>Villacoublay/Vélizy, Villacoublay-Vélizy (BA 1...</td>\n",
       "      <td>Villacoublay/Vélizy</td>\n",
       "      <td>48.77440</td>\n",
       "      <td>2.201539</td>\n",
       "    </tr>\n",
       "    <tr>\n",
       "      <th>9</th>\n",
       "      <td>LFPO</td>\n",
       "      <td>Paris, Paris-Orly</td>\n",
       "      <td>Paris</td>\n",
       "      <td>48.72530</td>\n",
       "      <td>2.359440</td>\n",
       "    </tr>\n",
       "    <tr>\n",
       "      <th>10</th>\n",
       "      <td>LFPN</td>\n",
       "      <td>Toussus-le-Noble</td>\n",
       "      <td>Toussus-le-Noble</td>\n",
       "      <td>48.75190</td>\n",
       "      <td>2.106189</td>\n",
       "    </tr>\n",
       "    <tr>\n",
       "      <th>11</th>\n",
       "      <td>LFPG</td>\n",
       "      <td>Paris, Charles de Gaulle</td>\n",
       "      <td>Paris</td>\n",
       "      <td>49.01280</td>\n",
       "      <td>2.549999</td>\n",
       "    </tr>\n",
       "    <tr>\n",
       "      <th>12</th>\n",
       "      <td>LFPT</td>\n",
       "      <td>Pontoise, Pontoise - Cormeilles-en-Vexin</td>\n",
       "      <td>Pontoise</td>\n",
       "      <td>49.09660</td>\n",
       "      <td>2.040829</td>\n",
       "    </tr>\n",
       "    <tr>\n",
       "      <th>13</th>\n",
       "      <td>LFPC</td>\n",
       "      <td>Creil, Creil Air Base</td>\n",
       "      <td>Creil</td>\n",
       "      <td>49.25350</td>\n",
       "      <td>2.519140</td>\n",
       "    </tr>\n",
       "    <tr>\n",
       "      <th>14</th>\n",
       "      <td>LFOB</td>\n",
       "      <td>Beauvais/Tillé, Paris Beauvais Tillé</td>\n",
       "      <td>Beauvais/Tillé</td>\n",
       "      <td>49.45440</td>\n",
       "      <td>2.112780</td>\n",
       "    </tr>\n",
       "    <tr>\n",
       "      <th>15</th>\n",
       "      <td>LFAD</td>\n",
       "      <td>Calais-Dunkerque, Compiègne Margny</td>\n",
       "      <td>Calais-Dunkerque</td>\n",
       "      <td>49.43440</td>\n",
       "      <td>2.806109</td>\n",
       "    </tr>\n",
       "    <tr>\n",
       "      <th>16</th>\n",
       "      <td>LFOR</td>\n",
       "      <td>Chartres / Champhol, Chartres – Métropole</td>\n",
       "      <td>Chartres / Champhol</td>\n",
       "      <td>48.45890</td>\n",
       "      <td>1.523890</td>\n",
       "    </tr>\n",
       "    <tr>\n",
       "      <th>17</th>\n",
       "      <td>EGLC</td>\n",
       "      <td>London, London City</td>\n",
       "      <td>London</td>\n",
       "      <td>51.50530</td>\n",
       "      <td>0.055277</td>\n",
       "    </tr>\n",
       "    <tr>\n",
       "      <th>18</th>\n",
       "      <td>EGWU</td>\n",
       "      <td>London, RAF Northolt</td>\n",
       "      <td>London</td>\n",
       "      <td>51.55300</td>\n",
       "      <td>-0.418166</td>\n",
       "    </tr>\n",
       "    <tr>\n",
       "      <th>19</th>\n",
       "      <td>EGKB</td>\n",
       "      <td>London, London Biggin Hill</td>\n",
       "      <td>London</td>\n",
       "      <td>51.33080</td>\n",
       "      <td>0.032499</td>\n",
       "    </tr>\n",
       "    <tr>\n",
       "      <th>20</th>\n",
       "      <td>EGLL</td>\n",
       "      <td>London, London Heathrow</td>\n",
       "      <td>London</td>\n",
       "      <td>51.47060</td>\n",
       "      <td>-0.461941</td>\n",
       "    </tr>\n",
       "    <tr>\n",
       "      <th>21</th>\n",
       "      <td>EGKR</td>\n",
       "      <td>Redhill, Redhill Aerodrome</td>\n",
       "      <td>Redhill</td>\n",
       "      <td>51.21360</td>\n",
       "      <td>-0.138611</td>\n",
       "    </tr>\n",
       "    <tr>\n",
       "      <th>22</th>\n",
       "      <td>EGKK</td>\n",
       "      <td>London, London Gatwick</td>\n",
       "      <td>London</td>\n",
       "      <td>51.14810</td>\n",
       "      <td>-0.190277</td>\n",
       "    </tr>\n",
       "    <tr>\n",
       "      <th>23</th>\n",
       "      <td>EGGW</td>\n",
       "      <td>London, London Luton</td>\n",
       "      <td>London</td>\n",
       "      <td>51.87470</td>\n",
       "      <td>-0.368333</td>\n",
       "    </tr>\n",
       "    <tr>\n",
       "      <th>24</th>\n",
       "      <td>EGTO</td>\n",
       "      <td>Rochester</td>\n",
       "      <td>Rochester</td>\n",
       "      <td>51.35190</td>\n",
       "      <td>0.503332</td>\n",
       "    </tr>\n",
       "    <tr>\n",
       "      <th>25</th>\n",
       "      <td>EGTB</td>\n",
       "      <td>High Wycombe, Wycombe Air Park</td>\n",
       "      <td>High Wycombe</td>\n",
       "      <td>51.61170</td>\n",
       "      <td>-0.808332</td>\n",
       "    </tr>\n",
       "    <tr>\n",
       "      <th>26</th>\n",
       "      <td>EGSS</td>\n",
       "      <td>London, London Stansted</td>\n",
       "      <td>London</td>\n",
       "      <td>51.88500</td>\n",
       "      <td>0.234999</td>\n",
       "    </tr>\n",
       "  </tbody>\n",
       "</table>\n",
       "</div>"
      ],
      "text/plain": [
       "    icao                                               name  \\\n",
       "0   EDAZ                                Trebbin, Schönhagen   \n",
       "1   EDDB                         Berlin, Berlin Brandenburg   \n",
       "2   EDDT                               Berlin, Berlin-Tegel   \n",
       "3   EDDT                               Berlin, Berlin-Tegel   \n",
       "4   EDDB                         Berlin, Berlin Brandenburg   \n",
       "5   EDAZ                                Trebbin, Schönhagen   \n",
       "6   EDAX                                 Lärz, Rechlin-Lärz   \n",
       "7   LFPB                            Paris, Paris-Le Bourget   \n",
       "8   LFPV  Villacoublay/Vélizy, Villacoublay-Vélizy (BA 1...   \n",
       "9   LFPO                                  Paris, Paris-Orly   \n",
       "10  LFPN                                   Toussus-le-Noble   \n",
       "11  LFPG                           Paris, Charles de Gaulle   \n",
       "12  LFPT           Pontoise, Pontoise - Cormeilles-en-Vexin   \n",
       "13  LFPC                              Creil, Creil Air Base   \n",
       "14  LFOB               Beauvais/Tillé, Paris Beauvais Tillé   \n",
       "15  LFAD                 Calais-Dunkerque, Compiègne Margny   \n",
       "16  LFOR          Chartres / Champhol, Chartres – Métropole   \n",
       "17  EGLC                                London, London City   \n",
       "18  EGWU                               London, RAF Northolt   \n",
       "19  EGKB                         London, London Biggin Hill   \n",
       "20  EGLL                            London, London Heathrow   \n",
       "21  EGKR                         Redhill, Redhill Aerodrome   \n",
       "22  EGKK                             London, London Gatwick   \n",
       "23  EGGW                               London, London Luton   \n",
       "24  EGTO                                          Rochester   \n",
       "25  EGTB                     High Wycombe, Wycombe Air Park   \n",
       "26  EGSS                            London, London Stansted   \n",
       "\n",
       "       municipalityName  location.lat  location.lon  \n",
       "0               Trebbin      52.20361     13.156389  \n",
       "1                Berlin      52.35139     13.493889  \n",
       "2                Berlin      52.55970     13.287699  \n",
       "3                Berlin      52.55970     13.287699  \n",
       "4                Berlin      52.35139     13.493889  \n",
       "5               Trebbin      52.20361     13.156389  \n",
       "6                  Lärz      53.30639     12.752222  \n",
       "7                 Paris      48.96940      2.441390  \n",
       "8   Villacoublay/Vélizy      48.77440      2.201539  \n",
       "9                 Paris      48.72530      2.359440  \n",
       "10     Toussus-le-Noble      48.75190      2.106189  \n",
       "11                Paris      49.01280      2.549999  \n",
       "12             Pontoise      49.09660      2.040829  \n",
       "13                Creil      49.25350      2.519140  \n",
       "14       Beauvais/Tillé      49.45440      2.112780  \n",
       "15     Calais-Dunkerque      49.43440      2.806109  \n",
       "16  Chartres / Champhol      48.45890      1.523890  \n",
       "17               London      51.50530      0.055277  \n",
       "18               London      51.55300     -0.418166  \n",
       "19               London      51.33080      0.032499  \n",
       "20               London      51.47060     -0.461941  \n",
       "21              Redhill      51.21360     -0.138611  \n",
       "22               London      51.14810     -0.190277  \n",
       "23               London      51.87470     -0.368333  \n",
       "24            Rochester      51.35190      0.503332  \n",
       "25         High Wycombe      51.61170     -0.808332  \n",
       "26               London      51.88500      0.234999  "
      ]
     },
     "execution_count": 34,
     "metadata": {},
     "output_type": "execute_result"
    }
   ],
   "source": [
    "#create a icao_df for iss_airport_icao tably in MySQL \n",
    "icao_df = pd.DataFrame(all_airports_df, columns= ['icao', 'name', 'municipalityName', 'location.lat',  'location.lon'])\n",
    "icao_df\n"
   ]
  },
  {
   "cell_type": "code",
   "execution_count": null,
   "metadata": {},
   "outputs": [],
   "source": [
    "icao_df.to_csv('iss_icao', index=False)"
   ]
  },
  {
   "cell_type": "code",
   "execution_count": null,
   "metadata": {},
   "outputs": [],
   "source": []
  },
  {
   "cell_type": "code",
   "execution_count": 69,
   "metadata": {},
   "outputs": [],
   "source": [
    "import sqlalchemy"
   ]
  },
  {
   "cell_type": "code",
   "execution_count": 95,
   "metadata": {},
   "outputs": [],
   "source": [
    "import os\n",
    "SECRET_KEY = os.getenv(\"SQL_KEY\")\n",
    "\n",
    "schema=\"sql_workshop\"\n",
    "host=\"your\"\n",
    "user=\"root\"\n",
    "password=SECRET_KEY\n",
    "port=your\n",
    "con = f'mysql+pymysql://{user}:{password}@{host}:{port}/{schema}'"
   ]
  },
  {
   "cell_type": "code",
   "execution_count": 96,
   "metadata": {},
   "outputs": [
    {
     "data": {
      "text/plain": [
       "27"
      ]
     },
     "execution_count": 96,
     "metadata": {},
     "output_type": "execute_result"
    }
   ],
   "source": [
    "icao_df.to_sql('iss_airports_icao', \n",
    "              if_exists='append', \n",
    "              con=con, \n",
    "              index=False)"
   ]
  },
  {
   "cell_type": "code",
   "execution_count": null,
   "metadata": {},
   "outputs": [],
   "source": []
  },
  {
   "cell_type": "code",
   "execution_count": 41,
   "metadata": {},
   "outputs": [
    {
     "data": {
      "text/plain": [
       "1573"
      ]
     },
     "execution_count": 41,
     "metadata": {},
     "output_type": "execute_result"
    }
   ],
   "source": [
    "arrivals_df.to_sql(con=con, name='iss_flights', if_exists='replace')"
   ]
  },
  {
   "cell_type": "code",
   "execution_count": null,
   "metadata": {},
   "outputs": [],
   "source": []
  },
  {
   "cell_type": "code",
   "execution_count": 85,
   "metadata": {},
   "outputs": [
    {
     "data": {
      "text/plain": [
       "True"
      ]
     },
     "execution_count": 85,
     "metadata": {},
     "output_type": "execute_result"
    }
   ],
   "source": [
    "from pathlib import Path  # python3 only\n",
    "env_path = Path('.') / 'env'\n",
    "load_dotenv(dotenv_path=env_path)"
   ]
  },
  {
   "cell_type": "code",
   "execution_count": 110,
   "metadata": {},
   "outputs": [],
   "source": [
    "import os\n",
    "SECRET_KEY = os.getenv(\"SQL_KEY\")"
   ]
  }
 ],
 "metadata": {
  "colab": {
   "provenance": []
  },
  "kernelspec": {
   "display_name": "Python 3 (ipykernel)",
   "language": "python",
   "name": "python3"
  },
  "language_info": {
   "codemirror_mode": {
    "name": "ipython",
    "version": 3
   },
   "file_extension": ".py",
   "mimetype": "text/x-python",
   "name": "python",
   "nbconvert_exporter": "python",
   "pygments_lexer": "ipython3",
   "version": "3.10.9"
  }
 },
 "nbformat": 4,
 "nbformat_minor": 4
}
